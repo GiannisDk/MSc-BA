{
 "cells": [
  {
   "cell_type": "markdown",
   "id": "altered-maple",
   "metadata": {},
   "source": [
    "# Dissecting Spotify Valence\n",
    "\n",
    "The scope of this project is to dissect Spotify's Valence metric.\n",
    "\n",
    "\n",
    "---\n",
    "\n",
    "> Ioannis Dekoulakos <br />\n",
    "> Athens University of Economics and Business <br />\n",
    "> Business Analytics Practicum I - PT <br />\n",
    "> A.M.: P2822110"
   ]
  },
  {
   "cell_type": "markdown",
   "id": "intense-exposure",
   "metadata": {},
   "source": [
    "Spotify uses a metric called valence to measure the happiness of a track. The metric itself, however, was not developed by Spotify. It was originally developed by Echo Nest, a company that was bought by Spotify in 2014. We don't know exactly how valence is calculated. Some details are given by a blog post, which you can find [here](https://web.archive.org/web/20170422195736/http://blog.echonest.com/post/66097438564/plotting-musics-emotional-valence-1950-2013)\n",
    "\n",
    "\n",
    "The task is to untangle the mystery behind valence and propose how this is derived. \n",
    "\n",
    "\n",
    "Spotify offers the following information that may be relevant to your task:\n",
    "\n",
    "\n",
    "- [Get Track's Audio Features ](https://developer.spotify.com/documentation/web-api/reference/#/operations/get-audio-features) .\n",
    "- [Get Track's Audio Analysis](https://developer.spotify.com/documentation/web-api/reference/#/operations/get-audio-analysis).\n"
   ]
  },
  {
   "cell_type": "markdown",
   "id": "excessive-airport",
   "metadata": {},
   "source": [
    "To achieve that we will download a [dataset](https://www.kaggle.com/datasets/zaheenhamidani/ultimate-spotify-tracks-db) of songs from Kaggle. Due to the fact that we do not know how the features have been collected , we will use only the Ids of tracks . Then using the [API](https://developer.spotify.com/documentation/web-api/reference/#/) of Spotify , we will download the original audio features of each song.\n",
    "\n",
    "\n",
    "\n"
   ]
  },
  {
   "cell_type": "markdown",
   "id": "emerging-hardware",
   "metadata": {},
   "source": [
    "## DATA"
   ]
  },
  {
   "cell_type": "code",
   "execution_count": 14,
   "id": "desperate-crack",
   "metadata": {},
   "outputs": [],
   "source": [
    "import pandas as pd\n",
    "import numpy as np\n",
    "import scipy.stats as stats\n",
    "import statsmodels.api as sm\n",
    "import statsmodels.formula.api as smf\n",
    "\n",
    "import glob\n",
    "import re\n",
    "from datetime import datetime\n",
    "\n",
    "import spotipy\n",
    "from spotipy.oauth2 import SpotifyClientCredentials\n",
    "\n",
    "import matplotlib.pyplot as plt\n",
    "import seaborn as sns\n",
    "\n",
    "%matplotlib inline"
   ]
  },
  {
   "cell_type": "code",
   "execution_count": 15,
   "id": "animated-arrival",
   "metadata": {},
   "outputs": [
    {
     "data": {
      "text/html": [
       "<div>\n",
       "<style scoped>\n",
       "    .dataframe tbody tr th:only-of-type {\n",
       "        vertical-align: middle;\n",
       "    }\n",
       "\n",
       "    .dataframe tbody tr th {\n",
       "        vertical-align: top;\n",
       "    }\n",
       "\n",
       "    .dataframe thead th {\n",
       "        text-align: right;\n",
       "    }\n",
       "</style>\n",
       "<table border=\"1\" class=\"dataframe\">\n",
       "  <thead>\n",
       "    <tr style=\"text-align: right;\">\n",
       "      <th></th>\n",
       "      <th>track_name</th>\n",
       "      <th>track_id</th>\n",
       "    </tr>\n",
       "  </thead>\n",
       "  <tbody>\n",
       "    <tr>\n",
       "      <th>0</th>\n",
       "      <td>C'est beau de faire un Show</td>\n",
       "      <td>0BRjO6ga9RKCKjfDqeFgWV</td>\n",
       "    </tr>\n",
       "    <tr>\n",
       "      <th>1</th>\n",
       "      <td>Perdu d'avance (par Gad Elmaleh)</td>\n",
       "      <td>0BjC1NfoEOOusryehmNudP</td>\n",
       "    </tr>\n",
       "    <tr>\n",
       "      <th>2</th>\n",
       "      <td>Don't Let Me Be Lonely Tonight</td>\n",
       "      <td>0CoSDzoNIKCRs124s9uTVy</td>\n",
       "    </tr>\n",
       "    <tr>\n",
       "      <th>3</th>\n",
       "      <td>Dis-moi Monsieur Gordon Cooper</td>\n",
       "      <td>0Gc6TVm52BwZD07Ki6tIvf</td>\n",
       "    </tr>\n",
       "    <tr>\n",
       "      <th>4</th>\n",
       "      <td>Ouverture</td>\n",
       "      <td>0IuslXpMROHdEPvSl1fTQK</td>\n",
       "    </tr>\n",
       "    <tr>\n",
       "      <th>...</th>\n",
       "      <td>...</td>\n",
       "      <td>...</td>\n",
       "    </tr>\n",
       "    <tr>\n",
       "      <th>232720</th>\n",
       "      <td>Son Of Slide</td>\n",
       "      <td>2XGLdVl7lGeq8ksM6Al7jT</td>\n",
       "    </tr>\n",
       "    <tr>\n",
       "      <th>232721</th>\n",
       "      <td>Burning Fire</td>\n",
       "      <td>1qWZdkBl4UVPj9lK6HuuFM</td>\n",
       "    </tr>\n",
       "    <tr>\n",
       "      <th>232722</th>\n",
       "      <td>(I'm Your) Hoochie Coochie Man</td>\n",
       "      <td>2ziWXUmQLrXTiYjCg2fZ2t</td>\n",
       "    </tr>\n",
       "    <tr>\n",
       "      <th>232723</th>\n",
       "      <td>With My Words</td>\n",
       "      <td>6EFsue2YbIG4Qkq8Zr9Rir</td>\n",
       "    </tr>\n",
       "    <tr>\n",
       "      <th>232724</th>\n",
       "      <td>You Don't Have To Hurt No More</td>\n",
       "      <td>34XO9RwPMKjbvRry54QzWn</td>\n",
       "    </tr>\n",
       "  </tbody>\n",
       "</table>\n",
       "<p>232725 rows × 2 columns</p>\n",
       "</div>"
      ],
      "text/plain": [
       "                              track_name                track_id\n",
       "0            C'est beau de faire un Show  0BRjO6ga9RKCKjfDqeFgWV\n",
       "1       Perdu d'avance (par Gad Elmaleh)  0BjC1NfoEOOusryehmNudP\n",
       "2         Don't Let Me Be Lonely Tonight  0CoSDzoNIKCRs124s9uTVy\n",
       "3         Dis-moi Monsieur Gordon Cooper  0Gc6TVm52BwZD07Ki6tIvf\n",
       "4                              Ouverture  0IuslXpMROHdEPvSl1fTQK\n",
       "...                                  ...                     ...\n",
       "232720                      Son Of Slide  2XGLdVl7lGeq8ksM6Al7jT\n",
       "232721                      Burning Fire  1qWZdkBl4UVPj9lK6HuuFM\n",
       "232722    (I'm Your) Hoochie Coochie Man  2ziWXUmQLrXTiYjCg2fZ2t\n",
       "232723                     With My Words  6EFsue2YbIG4Qkq8Zr9Rir\n",
       "232724    You Don't Have To Hurt No More  34XO9RwPMKjbvRry54QzWn\n",
       "\n",
       "[232725 rows x 2 columns]"
      ]
     },
     "execution_count": 15,
     "metadata": {},
     "output_type": "execute_result"
    }
   ],
   "source": [
    "songs = pd.read_csv(\"SpotifyFeatures.csv\", usecols=['track_id', 'track_name'])\n",
    "songs"
   ]
  },
  {
   "cell_type": "markdown",
   "id": "marked-renewal",
   "metadata": {},
   "source": [
    "- Let's see if there are duplicate track's names or ids and remove them "
   ]
  },
  {
   "cell_type": "code",
   "execution_count": 413,
   "id": "congressional-flour",
   "metadata": {},
   "outputs": [
    {
     "data": {
      "text/plain": [
       "176774"
      ]
     },
     "execution_count": 413,
     "metadata": {},
     "output_type": "execute_result"
    }
   ],
   "source": [
    "len(songs['track_id'].unique())"
   ]
  },
  {
   "cell_type": "code",
   "execution_count": 414,
   "id": "broke-adventure",
   "metadata": {},
   "outputs": [
    {
     "data": {
      "text/html": [
       "<div>\n",
       "<style scoped>\n",
       "    .dataframe tbody tr th:only-of-type {\n",
       "        vertical-align: middle;\n",
       "    }\n",
       "\n",
       "    .dataframe tbody tr th {\n",
       "        vertical-align: top;\n",
       "    }\n",
       "\n",
       "    .dataframe thead th {\n",
       "        text-align: right;\n",
       "    }\n",
       "</style>\n",
       "<table border=\"1\" class=\"dataframe\">\n",
       "  <thead>\n",
       "    <tr style=\"text-align: right;\">\n",
       "      <th></th>\n",
       "      <th>track_name</th>\n",
       "      <th>track_id</th>\n",
       "    </tr>\n",
       "  </thead>\n",
       "  <tbody>\n",
       "    <tr>\n",
       "      <th>0</th>\n",
       "      <td>C'est beau de faire un Show</td>\n",
       "      <td>0BRjO6ga9RKCKjfDqeFgWV</td>\n",
       "    </tr>\n",
       "    <tr>\n",
       "      <th>1</th>\n",
       "      <td>Perdu d'avance (par Gad Elmaleh)</td>\n",
       "      <td>0BjC1NfoEOOusryehmNudP</td>\n",
       "    </tr>\n",
       "    <tr>\n",
       "      <th>2</th>\n",
       "      <td>Don't Let Me Be Lonely Tonight</td>\n",
       "      <td>0CoSDzoNIKCRs124s9uTVy</td>\n",
       "    </tr>\n",
       "    <tr>\n",
       "      <th>3</th>\n",
       "      <td>Dis-moi Monsieur Gordon Cooper</td>\n",
       "      <td>0Gc6TVm52BwZD07Ki6tIvf</td>\n",
       "    </tr>\n",
       "    <tr>\n",
       "      <th>4</th>\n",
       "      <td>Ouverture</td>\n",
       "      <td>0IuslXpMROHdEPvSl1fTQK</td>\n",
       "    </tr>\n",
       "    <tr>\n",
       "      <th>...</th>\n",
       "      <td>...</td>\n",
       "      <td>...</td>\n",
       "    </tr>\n",
       "    <tr>\n",
       "      <th>232714</th>\n",
       "      <td>They Like It Slow</td>\n",
       "      <td>2XoAEpBuM4AtQIQYUEowRy</td>\n",
       "    </tr>\n",
       "    <tr>\n",
       "      <th>232716</th>\n",
       "      <td>Quickly (feat. Brandy)</td>\n",
       "      <td>1U0OMWvR89Cm20vCNar50f</td>\n",
       "    </tr>\n",
       "    <tr>\n",
       "      <th>232717</th>\n",
       "      <td>P.O.P.</td>\n",
       "      <td>2gGqKJWfWbToha2YmDxnnj</td>\n",
       "    </tr>\n",
       "    <tr>\n",
       "      <th>232721</th>\n",
       "      <td>Burning Fire</td>\n",
       "      <td>1qWZdkBl4UVPj9lK6HuuFM</td>\n",
       "    </tr>\n",
       "    <tr>\n",
       "      <th>232724</th>\n",
       "      <td>You Don't Have To Hurt No More</td>\n",
       "      <td>34XO9RwPMKjbvRry54QzWn</td>\n",
       "    </tr>\n",
       "  </tbody>\n",
       "</table>\n",
       "<p>148400 rows × 2 columns</p>\n",
       "</div>"
      ],
      "text/plain": [
       "                              track_name                track_id\n",
       "0            C'est beau de faire un Show  0BRjO6ga9RKCKjfDqeFgWV\n",
       "1       Perdu d'avance (par Gad Elmaleh)  0BjC1NfoEOOusryehmNudP\n",
       "2         Don't Let Me Be Lonely Tonight  0CoSDzoNIKCRs124s9uTVy\n",
       "3         Dis-moi Monsieur Gordon Cooper  0Gc6TVm52BwZD07Ki6tIvf\n",
       "4                              Ouverture  0IuslXpMROHdEPvSl1fTQK\n",
       "...                                  ...                     ...\n",
       "232714                 They Like It Slow  2XoAEpBuM4AtQIQYUEowRy\n",
       "232716            Quickly (feat. Brandy)  1U0OMWvR89Cm20vCNar50f\n",
       "232717                            P.O.P.  2gGqKJWfWbToha2YmDxnnj\n",
       "232721                      Burning Fire  1qWZdkBl4UVPj9lK6HuuFM\n",
       "232724    You Don't Have To Hurt No More  34XO9RwPMKjbvRry54QzWn\n",
       "\n",
       "[148400 rows x 2 columns]"
      ]
     },
     "execution_count": 414,
     "metadata": {},
     "output_type": "execute_result"
    }
   ],
   "source": [
    "songs.drop_duplicates(subset='track_id', inplace=True)\n",
    "songs.drop_duplicates(subset='track_name', inplace=True)\n",
    "songs"
   ]
  },
  {
   "cell_type": "markdown",
   "id": "quality-bridal",
   "metadata": {},
   "source": [
    "### Connection with API\n",
    "\n",
    "\n",
    "#### Our credentials\n",
    "\n",
    "- Client ID: e6d084f421cf4399bc2df62483af93f9\n",
    "\n",
    "- Client Secret 0927ed2942164a45abad9a72a5998bc0"
   ]
  },
  {
   "cell_type": "code",
   "execution_count": 415,
   "id": "secure-figure",
   "metadata": {},
   "outputs": [],
   "source": [
    "client_credentials_manager = SpotifyClientCredentials('e6d084f421cf4399bc2df62483af93f9',\n",
    "                                                     '0927ed2942164a45abad9a72a5998bc0')\n",
    "sp = spotipy.Spotify(client_credentials_manager=client_credentials_manager)"
   ]
  },
  {
   "cell_type": "code",
   "execution_count": 416,
   "id": "fuzzy-heath",
   "metadata": {},
   "outputs": [],
   "source": [
    "features = {}\n",
    "all_track_ids = list(songs['track_id'])"
   ]
  },
  {
   "cell_type": "code",
   "execution_count": 417,
   "id": "emotional-oliver",
   "metadata": {},
   "outputs": [],
   "source": [
    "def get_features(list_of_ids):\n",
    "    \n",
    "    features_func = {}\n",
    "    all_track_ids = list_of_ids \n",
    "\n",
    "    start = 0\n",
    "    num_tracks = 100\n",
    "    while start < len(all_track_ids):\n",
    "        \n",
    "        tracks_batch = all_track_ids[start:start+num_tracks]\n",
    "        features_batch = sp.audio_features(tracks_batch)\n",
    "        features_func.update({ track_id : track_features \n",
    "                        for track_id, track_features in zip(tracks_batch, features_batch) })\n",
    "        start += num_tracks\n",
    "    return features_func"
   ]
  },
  {
   "cell_type": "markdown",
   "id": "fancy-temple",
   "metadata": {},
   "source": [
    "- Spotify permits a max 100 song ids per batch"
   ]
  },
  {
   "cell_type": "code",
   "execution_count": 418,
   "id": "current-turning",
   "metadata": {},
   "outputs": [],
   "source": [
    "audio_features = get_features(all_track_ids)"
   ]
  },
  {
   "cell_type": "code",
   "execution_count": 419,
   "id": "attended-cleanup",
   "metadata": {},
   "outputs": [
    {
     "data": {
      "text/plain": [
       "148400"
      ]
     },
     "execution_count": 419,
     "metadata": {},
     "output_type": "execute_result"
    }
   ],
   "source": [
    "len(audio_features)"
   ]
  },
  {
   "cell_type": "markdown",
   "id": "linear-freedom",
   "metadata": {},
   "source": [
    "The features look like :"
   ]
  },
  {
   "cell_type": "code",
   "execution_count": 420,
   "id": "superb-scoop",
   "metadata": {},
   "outputs": [
    {
     "data": {
      "text/plain": [
       "{'danceability': 0.331,\n",
       " 'energy': 0.225,\n",
       " 'key': 5,\n",
       " 'loudness': -21.15,\n",
       " 'mode': 1,\n",
       " 'speechiness': 0.0456,\n",
       " 'acousticness': 0.95,\n",
       " 'instrumentalness': 0.123,\n",
       " 'liveness': 0.202,\n",
       " 'valence': 0.39,\n",
       " 'tempo': 140.576,\n",
       " 'type': 'audio_features',\n",
       " 'id': '0IuslXpMROHdEPvSl1fTQK',\n",
       " 'uri': 'spotify:track:0IuslXpMROHdEPvSl1fTQK',\n",
       " 'track_href': 'https://api.spotify.com/v1/tracks/0IuslXpMROHdEPvSl1fTQK',\n",
       " 'analysis_url': 'https://api.spotify.com/v1/audio-analysis/0IuslXpMROHdEPvSl1fTQK',\n",
       " 'duration_ms': 82625,\n",
       " 'time_signature': 4}"
      ]
     },
     "execution_count": 420,
     "metadata": {},
     "output_type": "execute_result"
    }
   ],
   "source": [
    "audio_features['0IuslXpMROHdEPvSl1fTQK']"
   ]
  },
  {
   "cell_type": "markdown",
   "id": "parental-assignment",
   "metadata": {},
   "source": [
    "- So, We'll turn the dictionary to a DataFrame."
   ]
  },
  {
   "cell_type": "code",
   "execution_count": 421,
   "id": "working-modification",
   "metadata": {},
   "outputs": [
    {
     "data": {
      "text/html": [
       "<div>\n",
       "<style scoped>\n",
       "    .dataframe tbody tr th:only-of-type {\n",
       "        vertical-align: middle;\n",
       "    }\n",
       "\n",
       "    .dataframe tbody tr th {\n",
       "        vertical-align: top;\n",
       "    }\n",
       "\n",
       "    .dataframe thead th {\n",
       "        text-align: right;\n",
       "    }\n",
       "</style>\n",
       "<table border=\"1\" class=\"dataframe\">\n",
       "  <thead>\n",
       "    <tr style=\"text-align: right;\">\n",
       "      <th></th>\n",
       "      <th>danceability</th>\n",
       "      <th>energy</th>\n",
       "      <th>key</th>\n",
       "      <th>loudness</th>\n",
       "      <th>mode</th>\n",
       "      <th>speechiness</th>\n",
       "      <th>acousticness</th>\n",
       "      <th>instrumentalness</th>\n",
       "      <th>liveness</th>\n",
       "      <th>valence</th>\n",
       "      <th>tempo</th>\n",
       "      <th>type</th>\n",
       "      <th>id</th>\n",
       "      <th>uri</th>\n",
       "      <th>track_href</th>\n",
       "      <th>analysis_url</th>\n",
       "      <th>duration_ms</th>\n",
       "      <th>time_signature</th>\n",
       "    </tr>\n",
       "  </thead>\n",
       "  <tbody>\n",
       "    <tr>\n",
       "      <th>0BRjO6ga9RKCKjfDqeFgWV</th>\n",
       "      <td>0.389</td>\n",
       "      <td>0.910</td>\n",
       "      <td>1</td>\n",
       "      <td>-1.828</td>\n",
       "      <td>1</td>\n",
       "      <td>0.0525</td>\n",
       "      <td>0.6110</td>\n",
       "      <td>0.000000</td>\n",
       "      <td>0.3460</td>\n",
       "      <td>0.816</td>\n",
       "      <td>166.969</td>\n",
       "      <td>audio_features</td>\n",
       "      <td>0BRjO6ga9RKCKjfDqeFgWV</td>\n",
       "      <td>spotify:track:0BRjO6ga9RKCKjfDqeFgWV</td>\n",
       "      <td>https://api.spotify.com/v1/tracks/0BRjO6ga9RKC...</td>\n",
       "      <td>https://api.spotify.com/v1/audio-analysis/0BRj...</td>\n",
       "      <td>99373</td>\n",
       "      <td>4</td>\n",
       "    </tr>\n",
       "    <tr>\n",
       "      <th>0BjC1NfoEOOusryehmNudP</th>\n",
       "      <td>0.591</td>\n",
       "      <td>0.737</td>\n",
       "      <td>6</td>\n",
       "      <td>-5.559</td>\n",
       "      <td>0</td>\n",
       "      <td>0.0877</td>\n",
       "      <td>0.2460</td>\n",
       "      <td>0.000000</td>\n",
       "      <td>0.1510</td>\n",
       "      <td>0.815</td>\n",
       "      <td>174.003</td>\n",
       "      <td>audio_features</td>\n",
       "      <td>0BjC1NfoEOOusryehmNudP</td>\n",
       "      <td>spotify:track:0BjC1NfoEOOusryehmNudP</td>\n",
       "      <td>https://api.spotify.com/v1/tracks/0BjC1NfoEOOu...</td>\n",
       "      <td>https://api.spotify.com/v1/audio-analysis/0BjC...</td>\n",
       "      <td>137373</td>\n",
       "      <td>4</td>\n",
       "    </tr>\n",
       "    <tr>\n",
       "      <th>0CoSDzoNIKCRs124s9uTVy</th>\n",
       "      <td>0.663</td>\n",
       "      <td>0.131</td>\n",
       "      <td>0</td>\n",
       "      <td>-13.879</td>\n",
       "      <td>0</td>\n",
       "      <td>0.0362</td>\n",
       "      <td>0.9520</td>\n",
       "      <td>0.000000</td>\n",
       "      <td>0.1030</td>\n",
       "      <td>0.368</td>\n",
       "      <td>99.488</td>\n",
       "      <td>audio_features</td>\n",
       "      <td>0CoSDzoNIKCRs124s9uTVy</td>\n",
       "      <td>spotify:track:0CoSDzoNIKCRs124s9uTVy</td>\n",
       "      <td>https://api.spotify.com/v1/tracks/0CoSDzoNIKCR...</td>\n",
       "      <td>https://api.spotify.com/v1/audio-analysis/0CoS...</td>\n",
       "      <td>170267</td>\n",
       "      <td>5</td>\n",
       "    </tr>\n",
       "    <tr>\n",
       "      <th>0Gc6TVm52BwZD07Ki6tIvf</th>\n",
       "      <td>0.241</td>\n",
       "      <td>0.326</td>\n",
       "      <td>1</td>\n",
       "      <td>-12.178</td>\n",
       "      <td>1</td>\n",
       "      <td>0.0390</td>\n",
       "      <td>0.7030</td>\n",
       "      <td>0.000000</td>\n",
       "      <td>0.0985</td>\n",
       "      <td>0.226</td>\n",
       "      <td>171.782</td>\n",
       "      <td>audio_features</td>\n",
       "      <td>0Gc6TVm52BwZD07Ki6tIvf</td>\n",
       "      <td>spotify:track:0Gc6TVm52BwZD07Ki6tIvf</td>\n",
       "      <td>https://api.spotify.com/v1/tracks/0Gc6TVm52BwZ...</td>\n",
       "      <td>https://api.spotify.com/v1/audio-analysis/0Gc6...</td>\n",
       "      <td>152427</td>\n",
       "      <td>4</td>\n",
       "    </tr>\n",
       "    <tr>\n",
       "      <th>0IuslXpMROHdEPvSl1fTQK</th>\n",
       "      <td>0.331</td>\n",
       "      <td>0.225</td>\n",
       "      <td>5</td>\n",
       "      <td>-21.150</td>\n",
       "      <td>1</td>\n",
       "      <td>0.0456</td>\n",
       "      <td>0.9500</td>\n",
       "      <td>0.123000</td>\n",
       "      <td>0.2020</td>\n",
       "      <td>0.390</td>\n",
       "      <td>140.576</td>\n",
       "      <td>audio_features</td>\n",
       "      <td>0IuslXpMROHdEPvSl1fTQK</td>\n",
       "      <td>spotify:track:0IuslXpMROHdEPvSl1fTQK</td>\n",
       "      <td>https://api.spotify.com/v1/tracks/0IuslXpMROHd...</td>\n",
       "      <td>https://api.spotify.com/v1/audio-analysis/0Ius...</td>\n",
       "      <td>82625</td>\n",
       "      <td>4</td>\n",
       "    </tr>\n",
       "    <tr>\n",
       "      <th>...</th>\n",
       "      <td>...</td>\n",
       "      <td>...</td>\n",
       "      <td>...</td>\n",
       "      <td>...</td>\n",
       "      <td>...</td>\n",
       "      <td>...</td>\n",
       "      <td>...</td>\n",
       "      <td>...</td>\n",
       "      <td>...</td>\n",
       "      <td>...</td>\n",
       "      <td>...</td>\n",
       "      <td>...</td>\n",
       "      <td>...</td>\n",
       "      <td>...</td>\n",
       "      <td>...</td>\n",
       "      <td>...</td>\n",
       "      <td>...</td>\n",
       "      <td>...</td>\n",
       "    </tr>\n",
       "    <tr>\n",
       "      <th>2XoAEpBuM4AtQIQYUEowRy</th>\n",
       "      <td>0.611</td>\n",
       "      <td>0.493</td>\n",
       "      <td>1</td>\n",
       "      <td>-9.297</td>\n",
       "      <td>1</td>\n",
       "      <td>0.0354</td>\n",
       "      <td>0.1130</td>\n",
       "      <td>0.000000</td>\n",
       "      <td>0.1050</td>\n",
       "      <td>0.443</td>\n",
       "      <td>115.920</td>\n",
       "      <td>audio_features</td>\n",
       "      <td>2XoAEpBuM4AtQIQYUEowRy</td>\n",
       "      <td>spotify:track:2XoAEpBuM4AtQIQYUEowRy</td>\n",
       "      <td>https://api.spotify.com/v1/tracks/2XoAEpBuM4At...</td>\n",
       "      <td>https://api.spotify.com/v1/audio-analysis/2XoA...</td>\n",
       "      <td>279510</td>\n",
       "      <td>4</td>\n",
       "    </tr>\n",
       "    <tr>\n",
       "      <th>1U0OMWvR89Cm20vCNar50f</th>\n",
       "      <td>0.736</td>\n",
       "      <td>0.701</td>\n",
       "      <td>10</td>\n",
       "      <td>-4.345</td>\n",
       "      <td>0</td>\n",
       "      <td>0.1000</td>\n",
       "      <td>0.2310</td>\n",
       "      <td>0.000000</td>\n",
       "      <td>0.2030</td>\n",
       "      <td>0.770</td>\n",
       "      <td>99.991</td>\n",
       "      <td>audio_features</td>\n",
       "      <td>1U0OMWvR89Cm20vCNar50f</td>\n",
       "      <td>spotify:track:1U0OMWvR89Cm20vCNar50f</td>\n",
       "      <td>https://api.spotify.com/v1/tracks/1U0OMWvR89Cm...</td>\n",
       "      <td>https://api.spotify.com/v1/audio-analysis/1U0O...</td>\n",
       "      <td>222667</td>\n",
       "      <td>4</td>\n",
       "    </tr>\n",
       "    <tr>\n",
       "      <th>2gGqKJWfWbToha2YmDxnnj</th>\n",
       "      <td>0.802</td>\n",
       "      <td>0.516</td>\n",
       "      <td>2</td>\n",
       "      <td>-9.014</td>\n",
       "      <td>1</td>\n",
       "      <td>0.2140</td>\n",
       "      <td>0.1040</td>\n",
       "      <td>0.000472</td>\n",
       "      <td>0.1050</td>\n",
       "      <td>0.482</td>\n",
       "      <td>175.663</td>\n",
       "      <td>audio_features</td>\n",
       "      <td>2gGqKJWfWbToha2YmDxnnj</td>\n",
       "      <td>spotify:track:2gGqKJWfWbToha2YmDxnnj</td>\n",
       "      <td>https://api.spotify.com/v1/tracks/2gGqKJWfWbTo...</td>\n",
       "      <td>https://api.spotify.com/v1/audio-analysis/2gGq...</td>\n",
       "      <td>201173</td>\n",
       "      <td>4</td>\n",
       "    </tr>\n",
       "    <tr>\n",
       "      <th>1qWZdkBl4UVPj9lK6HuuFM</th>\n",
       "      <td>0.785</td>\n",
       "      <td>0.683</td>\n",
       "      <td>4</td>\n",
       "      <td>-6.944</td>\n",
       "      <td>0</td>\n",
       "      <td>0.0337</td>\n",
       "      <td>0.0329</td>\n",
       "      <td>0.000880</td>\n",
       "      <td>0.2370</td>\n",
       "      <td>0.969</td>\n",
       "      <td>113.830</td>\n",
       "      <td>audio_features</td>\n",
       "      <td>1qWZdkBl4UVPj9lK6HuuFM</td>\n",
       "      <td>spotify:track:1qWZdkBl4UVPj9lK6HuuFM</td>\n",
       "      <td>https://api.spotify.com/v1/tracks/1qWZdkBl4UVP...</td>\n",
       "      <td>https://api.spotify.com/v1/audio-analysis/1qWZ...</td>\n",
       "      <td>282447</td>\n",
       "      <td>4</td>\n",
       "    </tr>\n",
       "    <tr>\n",
       "      <th>34XO9RwPMKjbvRry54QzWn</th>\n",
       "      <td>0.769</td>\n",
       "      <td>0.449</td>\n",
       "      <td>8</td>\n",
       "      <td>-6.757</td>\n",
       "      <td>0</td>\n",
       "      <td>0.0282</td>\n",
       "      <td>0.0717</td>\n",
       "      <td>0.000053</td>\n",
       "      <td>0.0851</td>\n",
       "      <td>0.481</td>\n",
       "      <td>113.890</td>\n",
       "      <td>audio_features</td>\n",
       "      <td>34XO9RwPMKjbvRry54QzWn</td>\n",
       "      <td>spotify:track:34XO9RwPMKjbvRry54QzWn</td>\n",
       "      <td>https://api.spotify.com/v1/tracks/34XO9RwPMKjb...</td>\n",
       "      <td>https://api.spotify.com/v1/audio-analysis/34XO...</td>\n",
       "      <td>323027</td>\n",
       "      <td>4</td>\n",
       "    </tr>\n",
       "  </tbody>\n",
       "</table>\n",
       "<p>148400 rows × 18 columns</p>\n",
       "</div>"
      ],
      "text/plain": [
       "                        danceability  energy  key  loudness  mode  \\\n",
       "0BRjO6ga9RKCKjfDqeFgWV         0.389   0.910    1    -1.828     1   \n",
       "0BjC1NfoEOOusryehmNudP         0.591   0.737    6    -5.559     0   \n",
       "0CoSDzoNIKCRs124s9uTVy         0.663   0.131    0   -13.879     0   \n",
       "0Gc6TVm52BwZD07Ki6tIvf         0.241   0.326    1   -12.178     1   \n",
       "0IuslXpMROHdEPvSl1fTQK         0.331   0.225    5   -21.150     1   \n",
       "...                              ...     ...  ...       ...   ...   \n",
       "2XoAEpBuM4AtQIQYUEowRy         0.611   0.493    1    -9.297     1   \n",
       "1U0OMWvR89Cm20vCNar50f         0.736   0.701   10    -4.345     0   \n",
       "2gGqKJWfWbToha2YmDxnnj         0.802   0.516    2    -9.014     1   \n",
       "1qWZdkBl4UVPj9lK6HuuFM         0.785   0.683    4    -6.944     0   \n",
       "34XO9RwPMKjbvRry54QzWn         0.769   0.449    8    -6.757     0   \n",
       "\n",
       "                        speechiness  acousticness  instrumentalness  liveness  \\\n",
       "0BRjO6ga9RKCKjfDqeFgWV       0.0525        0.6110          0.000000    0.3460   \n",
       "0BjC1NfoEOOusryehmNudP       0.0877        0.2460          0.000000    0.1510   \n",
       "0CoSDzoNIKCRs124s9uTVy       0.0362        0.9520          0.000000    0.1030   \n",
       "0Gc6TVm52BwZD07Ki6tIvf       0.0390        0.7030          0.000000    0.0985   \n",
       "0IuslXpMROHdEPvSl1fTQK       0.0456        0.9500          0.123000    0.2020   \n",
       "...                             ...           ...               ...       ...   \n",
       "2XoAEpBuM4AtQIQYUEowRy       0.0354        0.1130          0.000000    0.1050   \n",
       "1U0OMWvR89Cm20vCNar50f       0.1000        0.2310          0.000000    0.2030   \n",
       "2gGqKJWfWbToha2YmDxnnj       0.2140        0.1040          0.000472    0.1050   \n",
       "1qWZdkBl4UVPj9lK6HuuFM       0.0337        0.0329          0.000880    0.2370   \n",
       "34XO9RwPMKjbvRry54QzWn       0.0282        0.0717          0.000053    0.0851   \n",
       "\n",
       "                        valence    tempo            type  \\\n",
       "0BRjO6ga9RKCKjfDqeFgWV    0.816  166.969  audio_features   \n",
       "0BjC1NfoEOOusryehmNudP    0.815  174.003  audio_features   \n",
       "0CoSDzoNIKCRs124s9uTVy    0.368   99.488  audio_features   \n",
       "0Gc6TVm52BwZD07Ki6tIvf    0.226  171.782  audio_features   \n",
       "0IuslXpMROHdEPvSl1fTQK    0.390  140.576  audio_features   \n",
       "...                         ...      ...             ...   \n",
       "2XoAEpBuM4AtQIQYUEowRy    0.443  115.920  audio_features   \n",
       "1U0OMWvR89Cm20vCNar50f    0.770   99.991  audio_features   \n",
       "2gGqKJWfWbToha2YmDxnnj    0.482  175.663  audio_features   \n",
       "1qWZdkBl4UVPj9lK6HuuFM    0.969  113.830  audio_features   \n",
       "34XO9RwPMKjbvRry54QzWn    0.481  113.890  audio_features   \n",
       "\n",
       "                                            id  \\\n",
       "0BRjO6ga9RKCKjfDqeFgWV  0BRjO6ga9RKCKjfDqeFgWV   \n",
       "0BjC1NfoEOOusryehmNudP  0BjC1NfoEOOusryehmNudP   \n",
       "0CoSDzoNIKCRs124s9uTVy  0CoSDzoNIKCRs124s9uTVy   \n",
       "0Gc6TVm52BwZD07Ki6tIvf  0Gc6TVm52BwZD07Ki6tIvf   \n",
       "0IuslXpMROHdEPvSl1fTQK  0IuslXpMROHdEPvSl1fTQK   \n",
       "...                                        ...   \n",
       "2XoAEpBuM4AtQIQYUEowRy  2XoAEpBuM4AtQIQYUEowRy   \n",
       "1U0OMWvR89Cm20vCNar50f  1U0OMWvR89Cm20vCNar50f   \n",
       "2gGqKJWfWbToha2YmDxnnj  2gGqKJWfWbToha2YmDxnnj   \n",
       "1qWZdkBl4UVPj9lK6HuuFM  1qWZdkBl4UVPj9lK6HuuFM   \n",
       "34XO9RwPMKjbvRry54QzWn  34XO9RwPMKjbvRry54QzWn   \n",
       "\n",
       "                                                         uri  \\\n",
       "0BRjO6ga9RKCKjfDqeFgWV  spotify:track:0BRjO6ga9RKCKjfDqeFgWV   \n",
       "0BjC1NfoEOOusryehmNudP  spotify:track:0BjC1NfoEOOusryehmNudP   \n",
       "0CoSDzoNIKCRs124s9uTVy  spotify:track:0CoSDzoNIKCRs124s9uTVy   \n",
       "0Gc6TVm52BwZD07Ki6tIvf  spotify:track:0Gc6TVm52BwZD07Ki6tIvf   \n",
       "0IuslXpMROHdEPvSl1fTQK  spotify:track:0IuslXpMROHdEPvSl1fTQK   \n",
       "...                                                      ...   \n",
       "2XoAEpBuM4AtQIQYUEowRy  spotify:track:2XoAEpBuM4AtQIQYUEowRy   \n",
       "1U0OMWvR89Cm20vCNar50f  spotify:track:1U0OMWvR89Cm20vCNar50f   \n",
       "2gGqKJWfWbToha2YmDxnnj  spotify:track:2gGqKJWfWbToha2YmDxnnj   \n",
       "1qWZdkBl4UVPj9lK6HuuFM  spotify:track:1qWZdkBl4UVPj9lK6HuuFM   \n",
       "34XO9RwPMKjbvRry54QzWn  spotify:track:34XO9RwPMKjbvRry54QzWn   \n",
       "\n",
       "                                                               track_href  \\\n",
       "0BRjO6ga9RKCKjfDqeFgWV  https://api.spotify.com/v1/tracks/0BRjO6ga9RKC...   \n",
       "0BjC1NfoEOOusryehmNudP  https://api.spotify.com/v1/tracks/0BjC1NfoEOOu...   \n",
       "0CoSDzoNIKCRs124s9uTVy  https://api.spotify.com/v1/tracks/0CoSDzoNIKCR...   \n",
       "0Gc6TVm52BwZD07Ki6tIvf  https://api.spotify.com/v1/tracks/0Gc6TVm52BwZ...   \n",
       "0IuslXpMROHdEPvSl1fTQK  https://api.spotify.com/v1/tracks/0IuslXpMROHd...   \n",
       "...                                                                   ...   \n",
       "2XoAEpBuM4AtQIQYUEowRy  https://api.spotify.com/v1/tracks/2XoAEpBuM4At...   \n",
       "1U0OMWvR89Cm20vCNar50f  https://api.spotify.com/v1/tracks/1U0OMWvR89Cm...   \n",
       "2gGqKJWfWbToha2YmDxnnj  https://api.spotify.com/v1/tracks/2gGqKJWfWbTo...   \n",
       "1qWZdkBl4UVPj9lK6HuuFM  https://api.spotify.com/v1/tracks/1qWZdkBl4UVP...   \n",
       "34XO9RwPMKjbvRry54QzWn  https://api.spotify.com/v1/tracks/34XO9RwPMKjb...   \n",
       "\n",
       "                                                             analysis_url  \\\n",
       "0BRjO6ga9RKCKjfDqeFgWV  https://api.spotify.com/v1/audio-analysis/0BRj...   \n",
       "0BjC1NfoEOOusryehmNudP  https://api.spotify.com/v1/audio-analysis/0BjC...   \n",
       "0CoSDzoNIKCRs124s9uTVy  https://api.spotify.com/v1/audio-analysis/0CoS...   \n",
       "0Gc6TVm52BwZD07Ki6tIvf  https://api.spotify.com/v1/audio-analysis/0Gc6...   \n",
       "0IuslXpMROHdEPvSl1fTQK  https://api.spotify.com/v1/audio-analysis/0Ius...   \n",
       "...                                                                   ...   \n",
       "2XoAEpBuM4AtQIQYUEowRy  https://api.spotify.com/v1/audio-analysis/2XoA...   \n",
       "1U0OMWvR89Cm20vCNar50f  https://api.spotify.com/v1/audio-analysis/1U0O...   \n",
       "2gGqKJWfWbToha2YmDxnnj  https://api.spotify.com/v1/audio-analysis/2gGq...   \n",
       "1qWZdkBl4UVPj9lK6HuuFM  https://api.spotify.com/v1/audio-analysis/1qWZ...   \n",
       "34XO9RwPMKjbvRry54QzWn  https://api.spotify.com/v1/audio-analysis/34XO...   \n",
       "\n",
       "                        duration_ms  time_signature  \n",
       "0BRjO6ga9RKCKjfDqeFgWV        99373               4  \n",
       "0BjC1NfoEOOusryehmNudP       137373               4  \n",
       "0CoSDzoNIKCRs124s9uTVy       170267               5  \n",
       "0Gc6TVm52BwZD07Ki6tIvf       152427               4  \n",
       "0IuslXpMROHdEPvSl1fTQK        82625               4  \n",
       "...                             ...             ...  \n",
       "2XoAEpBuM4AtQIQYUEowRy       279510               4  \n",
       "1U0OMWvR89Cm20vCNar50f       222667               4  \n",
       "2gGqKJWfWbToha2YmDxnnj       201173               4  \n",
       "1qWZdkBl4UVPj9lK6HuuFM       282447               4  \n",
       "34XO9RwPMKjbvRry54QzWn       323027               4  \n",
       "\n",
       "[148400 rows x 18 columns]"
      ]
     },
     "execution_count": 421,
     "metadata": {},
     "output_type": "execute_result"
    }
   ],
   "source": [
    "tracks = pd.DataFrame.from_dict(audio_features, orient='index')\n",
    "tracks"
   ]
  },
  {
   "cell_type": "markdown",
   "id": "other-examination",
   "metadata": {},
   "source": [
    "- Check for Nas"
   ]
  },
  {
   "cell_type": "code",
   "execution_count": 422,
   "id": "responsible-swiss",
   "metadata": {},
   "outputs": [
    {
     "data": {
      "text/plain": [
       "danceability        0\n",
       "energy              0\n",
       "key                 0\n",
       "loudness            0\n",
       "mode                0\n",
       "speechiness         0\n",
       "acousticness        0\n",
       "instrumentalness    0\n",
       "liveness            0\n",
       "valence             0\n",
       "tempo               0\n",
       "type                0\n",
       "id                  0\n",
       "uri                 0\n",
       "track_href          0\n",
       "analysis_url        0\n",
       "duration_ms         0\n",
       "time_signature      0\n",
       "dtype: int64"
      ]
     },
     "execution_count": 422,
     "metadata": {},
     "output_type": "execute_result"
    }
   ],
   "source": [
    "tracks.isna().sum()"
   ]
  },
  {
   "cell_type": "markdown",
   "id": "fifteen-conservation",
   "metadata": {},
   "source": [
    "- Drop the columns which are not usefull "
   ]
  },
  {
   "cell_type": "code",
   "execution_count": 423,
   "id": "straight-promotion",
   "metadata": {},
   "outputs": [],
   "source": [
    "tracks = tracks.drop(['type','id','uri','track_href','analysis_url'],axis=1)"
   ]
  },
  {
   "cell_type": "markdown",
   "id": "objective-approval",
   "metadata": {},
   "source": [
    "###### Some Statistics"
   ]
  },
  {
   "cell_type": "code",
   "execution_count": 424,
   "id": "effective-detection",
   "metadata": {},
   "outputs": [
    {
     "data": {
      "text/html": [
       "<div>\n",
       "<style scoped>\n",
       "    .dataframe tbody tr th:only-of-type {\n",
       "        vertical-align: middle;\n",
       "    }\n",
       "\n",
       "    .dataframe tbody tr th {\n",
       "        vertical-align: top;\n",
       "    }\n",
       "\n",
       "    .dataframe thead th {\n",
       "        text-align: right;\n",
       "    }\n",
       "</style>\n",
       "<table border=\"1\" class=\"dataframe\">\n",
       "  <thead>\n",
       "    <tr style=\"text-align: right;\">\n",
       "      <th></th>\n",
       "      <th>danceability</th>\n",
       "      <th>energy</th>\n",
       "      <th>key</th>\n",
       "      <th>loudness</th>\n",
       "      <th>mode</th>\n",
       "      <th>speechiness</th>\n",
       "      <th>acousticness</th>\n",
       "      <th>instrumentalness</th>\n",
       "      <th>liveness</th>\n",
       "      <th>valence</th>\n",
       "      <th>tempo</th>\n",
       "      <th>duration_ms</th>\n",
       "      <th>time_signature</th>\n",
       "    </tr>\n",
       "  </thead>\n",
       "  <tbody>\n",
       "    <tr>\n",
       "      <th>count</th>\n",
       "      <td>148400.000000</td>\n",
       "      <td>148400.000000</td>\n",
       "      <td>148400.000000</td>\n",
       "      <td>148400.000000</td>\n",
       "      <td>148400.000000</td>\n",
       "      <td>148400.000000</td>\n",
       "      <td>148400.000000</td>\n",
       "      <td>148400.000000</td>\n",
       "      <td>148400.000000</td>\n",
       "      <td>148400.000000</td>\n",
       "      <td>148400.000000</td>\n",
       "      <td>1.484000e+05</td>\n",
       "      <td>148400.000000</td>\n",
       "    </tr>\n",
       "    <tr>\n",
       "      <th>mean</th>\n",
       "      <td>0.535445</td>\n",
       "      <td>0.551864</td>\n",
       "      <td>5.223787</td>\n",
       "      <td>-10.391218</td>\n",
       "      <td>0.660094</td>\n",
       "      <td>0.130239</td>\n",
       "      <td>0.415219</td>\n",
       "      <td>0.181965</td>\n",
       "      <td>0.228590</td>\n",
       "      <td>0.448268</td>\n",
       "      <td>116.970721</td>\n",
       "      <td>2.380113e+05</td>\n",
       "      <td>3.861853</td>\n",
       "    </tr>\n",
       "    <tr>\n",
       "      <th>std</th>\n",
       "      <td>0.193220</td>\n",
       "      <td>0.281234</td>\n",
       "      <td>3.544840</td>\n",
       "      <td>6.626681</td>\n",
       "      <td>0.473678</td>\n",
       "      <td>0.209596</td>\n",
       "      <td>0.371143</td>\n",
       "      <td>0.330389</td>\n",
       "      <td>0.215229</td>\n",
       "      <td>0.269956</td>\n",
       "      <td>31.386217</td>\n",
       "      <td>1.369600e+05</td>\n",
       "      <td>0.505556</td>\n",
       "    </tr>\n",
       "    <tr>\n",
       "      <th>min</th>\n",
       "      <td>0.000000</td>\n",
       "      <td>0.000020</td>\n",
       "      <td>0.000000</td>\n",
       "      <td>-52.458000</td>\n",
       "      <td>0.000000</td>\n",
       "      <td>0.000000</td>\n",
       "      <td>0.000000</td>\n",
       "      <td>0.000000</td>\n",
       "      <td>0.009670</td>\n",
       "      <td>0.000000</td>\n",
       "      <td>0.000000</td>\n",
       "      <td>1.538700e+04</td>\n",
       "      <td>0.000000</td>\n",
       "    </tr>\n",
       "    <tr>\n",
       "      <th>25%</th>\n",
       "      <td>0.405000</td>\n",
       "      <td>0.329000</td>\n",
       "      <td>2.000000</td>\n",
       "      <td>-13.316000</td>\n",
       "      <td>0.000000</td>\n",
       "      <td>0.037000</td>\n",
       "      <td>0.047300</td>\n",
       "      <td>0.000000</td>\n",
       "      <td>0.097700</td>\n",
       "      <td>0.215000</td>\n",
       "      <td>91.891250</td>\n",
       "      <td>1.773330e+05</td>\n",
       "      <td>4.000000</td>\n",
       "    </tr>\n",
       "    <tr>\n",
       "      <th>50%</th>\n",
       "      <td>0.553000</td>\n",
       "      <td>0.589000</td>\n",
       "      <td>5.000000</td>\n",
       "      <td>-8.330000</td>\n",
       "      <td>1.000000</td>\n",
       "      <td>0.049500</td>\n",
       "      <td>0.305000</td>\n",
       "      <td>0.000088</td>\n",
       "      <td>0.131000</td>\n",
       "      <td>0.436000</td>\n",
       "      <td>114.936000</td>\n",
       "      <td>2.199730e+05</td>\n",
       "      <td>4.000000</td>\n",
       "    </tr>\n",
       "    <tr>\n",
       "      <th>75%</th>\n",
       "      <td>0.680000</td>\n",
       "      <td>0.791000</td>\n",
       "      <td>8.000000</td>\n",
       "      <td>-5.663000</td>\n",
       "      <td>1.000000</td>\n",
       "      <td>0.102000</td>\n",
       "      <td>0.810000</td>\n",
       "      <td>0.131000</td>\n",
       "      <td>0.284000</td>\n",
       "      <td>0.666000</td>\n",
       "      <td>138.367000</td>\n",
       "      <td>2.708670e+05</td>\n",
       "      <td>4.000000</td>\n",
       "    </tr>\n",
       "    <tr>\n",
       "      <th>max</th>\n",
       "      <td>0.987000</td>\n",
       "      <td>0.999000</td>\n",
       "      <td>11.000000</td>\n",
       "      <td>3.744000</td>\n",
       "      <td>1.000000</td>\n",
       "      <td>0.967000</td>\n",
       "      <td>0.996000</td>\n",
       "      <td>0.999000</td>\n",
       "      <td>1.000000</td>\n",
       "      <td>1.000000</td>\n",
       "      <td>243.372000</td>\n",
       "      <td>5.552917e+06</td>\n",
       "      <td>5.000000</td>\n",
       "    </tr>\n",
       "  </tbody>\n",
       "</table>\n",
       "</div>"
      ],
      "text/plain": [
       "        danceability         energy            key       loudness  \\\n",
       "count  148400.000000  148400.000000  148400.000000  148400.000000   \n",
       "mean        0.535445       0.551864       5.223787     -10.391218   \n",
       "std         0.193220       0.281234       3.544840       6.626681   \n",
       "min         0.000000       0.000020       0.000000     -52.458000   \n",
       "25%         0.405000       0.329000       2.000000     -13.316000   \n",
       "50%         0.553000       0.589000       5.000000      -8.330000   \n",
       "75%         0.680000       0.791000       8.000000      -5.663000   \n",
       "max         0.987000       0.999000      11.000000       3.744000   \n",
       "\n",
       "                mode    speechiness   acousticness  instrumentalness  \\\n",
       "count  148400.000000  148400.000000  148400.000000     148400.000000   \n",
       "mean        0.660094       0.130239       0.415219          0.181965   \n",
       "std         0.473678       0.209596       0.371143          0.330389   \n",
       "min         0.000000       0.000000       0.000000          0.000000   \n",
       "25%         0.000000       0.037000       0.047300          0.000000   \n",
       "50%         1.000000       0.049500       0.305000          0.000088   \n",
       "75%         1.000000       0.102000       0.810000          0.131000   \n",
       "max         1.000000       0.967000       0.996000          0.999000   \n",
       "\n",
       "            liveness        valence          tempo   duration_ms  \\\n",
       "count  148400.000000  148400.000000  148400.000000  1.484000e+05   \n",
       "mean        0.228590       0.448268     116.970721  2.380113e+05   \n",
       "std         0.215229       0.269956      31.386217  1.369600e+05   \n",
       "min         0.009670       0.000000       0.000000  1.538700e+04   \n",
       "25%         0.097700       0.215000      91.891250  1.773330e+05   \n",
       "50%         0.131000       0.436000     114.936000  2.199730e+05   \n",
       "75%         0.284000       0.666000     138.367000  2.708670e+05   \n",
       "max         1.000000       1.000000     243.372000  5.552917e+06   \n",
       "\n",
       "       time_signature  \n",
       "count   148400.000000  \n",
       "mean         3.861853  \n",
       "std          0.505556  \n",
       "min          0.000000  \n",
       "25%          4.000000  \n",
       "50%          4.000000  \n",
       "75%          4.000000  \n",
       "max          5.000000  "
      ]
     },
     "execution_count": 424,
     "metadata": {},
     "output_type": "execute_result"
    }
   ],
   "source": [
    "tracks.describe()"
   ]
  },
  {
   "cell_type": "markdown",
   "id": "executed-suspension",
   "metadata": {},
   "source": [
    "- We know that the time signature ranges from 3 to 7 , so we will remove the songs with invalid value"
   ]
  },
  {
   "cell_type": "code",
   "execution_count": 425,
   "id": "renewable-secret",
   "metadata": {},
   "outputs": [],
   "source": [
    "tracks = tracks[(tracks.time_signature >=3)]"
   ]
  },
  {
   "cell_type": "code",
   "execution_count": 426,
   "id": "tutorial-surrey",
   "metadata": {},
   "outputs": [
    {
     "data": {
      "text/plain": [
       "array([[<AxesSubplot:title={'center':'danceability'}>,\n",
       "        <AxesSubplot:title={'center':'energy'}>,\n",
       "        <AxesSubplot:title={'center':'key'}>,\n",
       "        <AxesSubplot:title={'center':'loudness'}>],\n",
       "       [<AxesSubplot:title={'center':'mode'}>,\n",
       "        <AxesSubplot:title={'center':'speechiness'}>,\n",
       "        <AxesSubplot:title={'center':'acousticness'}>,\n",
       "        <AxesSubplot:title={'center':'instrumentalness'}>],\n",
       "       [<AxesSubplot:title={'center':'liveness'}>,\n",
       "        <AxesSubplot:title={'center':'valence'}>,\n",
       "        <AxesSubplot:title={'center':'tempo'}>,\n",
       "        <AxesSubplot:title={'center':'duration_ms'}>],\n",
       "       [<AxesSubplot:title={'center':'time_signature'}>, <AxesSubplot:>,\n",
       "        <AxesSubplot:>, <AxesSubplot:>]], dtype=object)"
      ]
     },
     "execution_count": 426,
     "metadata": {},
     "output_type": "execute_result"
    },
    {
     "data": {
      "image/png": "[encoded data removed]",
      "text/plain": [
       "<Figure size 1440x1440 with 16 Axes>"
      ]
     },
     "metadata": {
      "needs_background": "light"
     },
     "output_type": "display_data"
    }
   ],
   "source": [
    "tracks.hist(grid=False ,bins = 100,figsize= [20, 20])"
   ]
  },
  {
   "cell_type": "markdown",
   "id": "subjective-national",
   "metadata": {},
   "source": [
    "- We can see that the variables: time_signature , mode & key make more sense to be ordinal (One hot encode categorical columns)\n",
    "\n",
    "\n",
    "- Also,  maybe some variables need to be scaled if we use any machine learning method which uses distances"
   ]
  },
  {
   "cell_type": "markdown",
   "id": "material-allowance",
   "metadata": {},
   "source": [
    "## Q1: Expore which Track Features Influence Valence"
   ]
  },
  {
   "cell_type": "code",
   "execution_count": 427,
   "id": "active-archives",
   "metadata": {},
   "outputs": [],
   "source": [
    "data=tracks.copy()"
   ]
  },
  {
   "cell_type": "markdown",
   "id": "cathedral-heritage",
   "metadata": {},
   "source": [
    "#### Numerical Variables"
   ]
  },
  {
   "cell_type": "code",
   "execution_count": 428,
   "id": "artistic-secondary",
   "metadata": {},
   "outputs": [],
   "source": [
    "numeric_data=data[data.columns.difference(['key','mode','time_signature'])]\n"
   ]
  },
  {
   "cell_type": "markdown",
   "id": "arranged-scout",
   "metadata": {},
   "source": [
    "- **Corellations**"
   ]
  },
  {
   "cell_type": "code",
   "execution_count": 429,
   "id": "integrated-vault",
   "metadata": {},
   "outputs": [],
   "source": [
    "py_cor_matrix = numeric_data.corr(method=\"pearson\")"
   ]
  },
  {
   "cell_type": "code",
   "execution_count": 430,
   "id": "owned-government",
   "metadata": {},
   "outputs": [
    {
     "data": {
      "image/png": "[encoded data removed]",
      "text/plain": [
       "<Figure size 720x576 with 2 Axes>"
      ]
     },
     "metadata": {
      "needs_background": "light"
     },
     "output_type": "display_data"
    }
   ],
   "source": [
    "plt.figure(figsize=(10,8))\n",
    "sns.heatmap(py_cor_matrix, annot=True, cmap=\"YlGnBu\")\n",
    "plt.show()"
   ]
  },
  {
   "cell_type": "markdown",
   "id": "accepted-distinction",
   "metadata": {},
   "source": [
    "-  danceability-loudness&energy , energy-loudness, liveness-speechiness seems to have relations , so it is expected not to be used in all of them in the final model, since they offer the same information"
   ]
  },
  {
   "cell_type": "markdown",
   "id": "acoustic-optics",
   "metadata": {},
   "source": [
    "- Most linear correlations variables with valence:"
   ]
  },
  {
   "cell_type": "code",
   "execution_count": 431,
   "id": "driven-postage",
   "metadata": {},
   "outputs": [
    {
     "data": {
      "text/plain": [
       "valence             1.000000\n",
       "danceability        0.596080\n",
       "energy              0.460062\n",
       "loudness            0.438934\n",
       "acousticness        0.359347\n",
       "instrumentalness    0.340644\n",
       "tempo               0.164666\n",
       "duration_ms         0.148070\n",
       "speechiness         0.021881\n",
       "liveness            0.008284\n",
       "Name: valence, dtype: float64"
      ]
     },
     "execution_count": 431,
     "metadata": {},
     "output_type": "execute_result"
    }
   ],
   "source": [
    "most_linear=np.abs(py_cor_matrix ['valence'])\n",
    "most_linear.sort_values(ascending=False)"
   ]
  },
  {
   "cell_type": "markdown",
   "id": "electronic-prize",
   "metadata": {},
   "source": [
    "##### Catecorical Variables"
   ]
  },
  {
   "cell_type": "markdown",
   "id": "flying-screening",
   "metadata": {},
   "source": [
    "We transformed into catecorical, the variables which we have mentioned before **ONLY** for EDA analysis. For modeling and machines learning methods we will use one hot encoding "
   ]
  },
  {
   "cell_type": "code",
   "execution_count": 432,
   "id": "confused-forge",
   "metadata": {},
   "outputs": [],
   "source": [
    "categorical_data=data[['valence','key','mode','time_signature']].copy()"
   ]
  },
  {
   "cell_type": "code",
   "execution_count": 433,
   "id": "pending-partnership",
   "metadata": {},
   "outputs": [],
   "source": [
    "categorical_data['key']=categorical_data['key'].astype('category')\n",
    "categorical_data['mode']=categorical_data['mode'].astype('category')\n",
    "categorical_data['time_signature']=categorical_data['time_signature'].astype('category')\n"
   ]
  },
  {
   "cell_type": "code",
   "execution_count": 434,
   "id": "norwegian-france",
   "metadata": {},
   "outputs": [
    {
     "data": {
      "text/plain": [
       "<seaborn.axisgrid.FacetGrid at 0x7fc5d4107970>"
      ]
     },
     "execution_count": 434,
     "metadata": {},
     "output_type": "execute_result"
    },
    {
     "data": {
      "image/png": "[encoded data removed]",
      "text/plain": [
       "<Figure size 360x360 with 1 Axes>"
      ]
     },
     "metadata": {
      "needs_background": "light"
     },
     "output_type": "display_data"
    },
    {
     "data": {
      "image/png": "[encoded data removed]",
      "text/plain": [
       "<Figure size 360x360 with 1 Axes>"
      ]
     },
     "metadata": {
      "needs_background": "light"
     },
     "output_type": "display_data"
    },
    {
     "data": {
      "image/png": "[encoded data removed]",
      "text/plain": [
       "<Figure size 360x360 with 1 Axes>"
      ]
     },
     "metadata": {
      "needs_background": "light"
     },
     "output_type": "display_data"
    }
   ],
   "source": [
    "sns.catplot(x=\"key\", y=\"valence\", kind=\"box\",  data=categorical_data)\n",
    "sns.catplot(x=\"mode\", y=\"valence\", kind=\"box\", data=categorical_data)\n",
    "sns.catplot(x=\"time_signature\", y=\"valence\", kind=\"box\", data=categorical_data)"
   ]
  },
  {
   "cell_type": "markdown",
   "id": "indoor-platinum",
   "metadata": {},
   "source": [
    "- It seems that there is not any difference in the medians of mode so so we conclude that there is not association between the mode and valence and it is expected not to be used in the final model."
   ]
  },
  {
   "cell_type": "markdown",
   "id": "hundred-effects",
   "metadata": {},
   "source": [
    "- We make some anova tests to check if these variables are statistically significant  "
   ]
  },
  {
   "cell_type": "code",
   "execution_count": 435,
   "id": "handmade-upgrade",
   "metadata": {},
   "outputs": [
    {
     "name": "stdout",
     "output_type": "stream",
     "text": [
      "Requirement already satisfied: bioinfokit in /Library/Frameworks/Python.framework/Versions/3.9/lib/python3.9/site-packages (2.0.8)\n",
      "Requirement already satisfied: pandas in /Library/Frameworks/Python.framework/Versions/3.9/lib/python3.9/site-packages (from bioinfokit) (1.3.4)\n",
      "Requirement already satisfied: numpy in /Library/Frameworks/Python.framework/Versions/3.9/lib/python3.9/site-packages (from bioinfokit) (1.21.4)\n",
      "Requirement already satisfied: matplotlib in /Library/Frameworks/Python.framework/Versions/3.9/lib/python3.9/site-packages (from bioinfokit) (3.5.1)\n",
      "Requirement already satisfied: scipy in /Library/Frameworks/Python.framework/Versions/3.9/lib/python3.9/site-packages (from bioinfokit) (1.8.0)\n",
      "Requirement already satisfied: scikit-learn in /Library/Frameworks/Python.framework/Versions/3.9/lib/python3.9/site-packages (from bioinfokit) (1.0.2)\n",
      "Requirement already satisfied: seaborn in /Library/Frameworks/Python.framework/Versions/3.9/lib/python3.9/site-packages (from bioinfokit) (0.11.2)\n",
      "Requirement already satisfied: matplotlib-venn in /Library/Frameworks/Python.framework/Versions/3.9/lib/python3.9/site-packages (from bioinfokit) (0.11.7)\n",
      "Requirement already satisfied: tabulate in /Library/Frameworks/Python.framework/Versions/3.9/lib/python3.9/site-packages (from bioinfokit) (0.8.9)\n",
      "Requirement already satisfied: statsmodels in /Library/Frameworks/Python.framework/Versions/3.9/lib/python3.9/site-packages (from bioinfokit) (0.13.2)\n",
      "Requirement already satisfied: textwrap3 in /Library/Frameworks/Python.framework/Versions/3.9/lib/python3.9/site-packages (from bioinfokit) (0.9.2)\n",
      "Requirement already satisfied: adjustText in /Library/Frameworks/Python.framework/Versions/3.9/lib/python3.9/site-packages (from bioinfokit) (0.7.3)\n",
      "Requirement already satisfied: pyparsing>=2.2.1 in /Library/Frameworks/Python.framework/Versions/3.9/lib/python3.9/site-packages (from matplotlib->bioinfokit) (2.4.7)\n",
      "Requirement already satisfied: packaging>=20.0 in /Library/Frameworks/Python.framework/Versions/3.9/lib/python3.9/site-packages (from matplotlib->bioinfokit) (21.3)\n",
      "Requirement already satisfied: kiwisolver>=1.0.1 in /Library/Frameworks/Python.framework/Versions/3.9/lib/python3.9/site-packages (from matplotlib->bioinfokit) (1.4.0)\n",
      "Requirement already satisfied: fonttools>=4.22.0 in /Library/Frameworks/Python.framework/Versions/3.9/lib/python3.9/site-packages (from matplotlib->bioinfokit) (4.30.0)\n",
      "Requirement already satisfied: pillow>=6.2.0 in /Library/Frameworks/Python.framework/Versions/3.9/lib/python3.9/site-packages (from matplotlib->bioinfokit) (9.0.1)\n",
      "Requirement already satisfied: cycler>=0.10 in /Library/Frameworks/Python.framework/Versions/3.9/lib/python3.9/site-packages (from matplotlib->bioinfokit) (0.11.0)\n",
      "Requirement already satisfied: python-dateutil>=2.7 in /Library/Frameworks/Python.framework/Versions/3.9/lib/python3.9/site-packages (from matplotlib->bioinfokit) (2.8.2)\n",
      "Requirement already satisfied: pytz>=2017.3 in /Library/Frameworks/Python.framework/Versions/3.9/lib/python3.9/site-packages (from pandas->bioinfokit) (2021.3)\n",
      "Requirement already satisfied: threadpoolctl>=2.0.0 in /Library/Frameworks/Python.framework/Versions/3.9/lib/python3.9/site-packages (from scikit-learn->bioinfokit) (3.1.0)\n",
      "Requirement already satisfied: joblib>=0.11 in /Library/Frameworks/Python.framework/Versions/3.9/lib/python3.9/site-packages (from scikit-learn->bioinfokit) (1.1.0)\n",
      "Requirement already satisfied: patsy>=0.5.2 in /Library/Frameworks/Python.framework/Versions/3.9/lib/python3.9/site-packages (from statsmodels->bioinfokit) (0.5.2)\n",
      "Requirement already satisfied: six in /Library/Frameworks/Python.framework/Versions/3.9/lib/python3.9/site-packages (from patsy>=0.5.2->statsmodels->bioinfokit) (1.16.0)\n",
      "Note: you may need to restart the kernel to use updated packages.\n"
     ]
    }
   ],
   "source": [
    "pip install bioinfokit"
   ]
  },
  {
   "cell_type": "code",
   "execution_count": 436,
   "id": "military-remove",
   "metadata": {},
   "outputs": [
    {
     "data": {
      "text/html": [
       "<div>\n",
       "<style scoped>\n",
       "    .dataframe tbody tr th:only-of-type {\n",
       "        vertical-align: middle;\n",
       "    }\n",
       "\n",
       "    .dataframe tbody tr th {\n",
       "        vertical-align: top;\n",
       "    }\n",
       "\n",
       "    .dataframe thead th {\n",
       "        text-align: right;\n",
       "    }\n",
       "</style>\n",
       "<table border=\"1\" class=\"dataframe\">\n",
       "  <thead>\n",
       "    <tr style=\"text-align: right;\">\n",
       "      <th></th>\n",
       "      <th>df</th>\n",
       "      <th>sum_sq</th>\n",
       "      <th>mean_sq</th>\n",
       "      <th>F</th>\n",
       "      <th>PR(&gt;F)</th>\n",
       "    </tr>\n",
       "  </thead>\n",
       "  <tbody>\n",
       "    <tr>\n",
       "      <th>C(key)</th>\n",
       "      <td>11.0</td>\n",
       "      <td>38.410573</td>\n",
       "      <td>3.491870</td>\n",
       "      <td>48.165823</td>\n",
       "      <td>2.205424e-106</td>\n",
       "    </tr>\n",
       "    <tr>\n",
       "      <th>Residual</th>\n",
       "      <td>146316.0</td>\n",
       "      <td>10607.448665</td>\n",
       "      <td>0.072497</td>\n",
       "      <td>NaN</td>\n",
       "      <td>NaN</td>\n",
       "    </tr>\n",
       "  </tbody>\n",
       "</table>\n",
       "</div>"
      ],
      "text/plain": [
       "                df        sum_sq   mean_sq          F         PR(>F)\n",
       "C(key)        11.0     38.410573  3.491870  48.165823  2.205424e-106\n",
       "Residual  146316.0  10607.448665  0.072497        NaN            NaN"
      ]
     },
     "execution_count": 436,
     "metadata": {},
     "output_type": "execute_result"
    }
   ],
   "source": [
    "import bioinfokit.analys \n",
    "from bioinfokit.analys import stat\n",
    "res = stat()\n",
    "res.anova_stat(df=categorical_data, res_var='value', anova_model='valence ~ C(key)')\n",
    "res.anova_summary"
   ]
  },
  {
   "cell_type": "markdown",
   "id": "present-surveillance",
   "metadata": {},
   "source": [
    "**valence ~ key**\n",
    "- pvalue < 0.05 , statistically significant"
   ]
  },
  {
   "cell_type": "code",
   "execution_count": 437,
   "id": "equal-marina",
   "metadata": {},
   "outputs": [
    {
     "data": {
      "text/html": [
       "<div>\n",
       "<style scoped>\n",
       "    .dataframe tbody tr th:only-of-type {\n",
       "        vertical-align: middle;\n",
       "    }\n",
       "\n",
       "    .dataframe tbody tr th {\n",
       "        vertical-align: top;\n",
       "    }\n",
       "\n",
       "    .dataframe thead th {\n",
       "        text-align: right;\n",
       "    }\n",
       "</style>\n",
       "<table border=\"1\" class=\"dataframe\">\n",
       "  <thead>\n",
       "    <tr style=\"text-align: right;\">\n",
       "      <th></th>\n",
       "      <th>df</th>\n",
       "      <th>sum_sq</th>\n",
       "      <th>mean_sq</th>\n",
       "      <th>F</th>\n",
       "      <th>PR(&gt;F)</th>\n",
       "    </tr>\n",
       "  </thead>\n",
       "  <tbody>\n",
       "    <tr>\n",
       "      <th>C(mode)</th>\n",
       "      <td>1.0</td>\n",
       "      <td>0.001165</td>\n",
       "      <td>0.001165</td>\n",
       "      <td>0.016009</td>\n",
       "      <td>0.899314</td>\n",
       "    </tr>\n",
       "    <tr>\n",
       "      <th>Residual</th>\n",
       "      <td>146326.0</td>\n",
       "      <td>10645.858074</td>\n",
       "      <td>0.072754</td>\n",
       "      <td>NaN</td>\n",
       "      <td>NaN</td>\n",
       "    </tr>\n",
       "  </tbody>\n",
       "</table>\n",
       "</div>"
      ],
      "text/plain": [
       "                df        sum_sq   mean_sq         F    PR(>F)\n",
       "C(mode)        1.0      0.001165  0.001165  0.016009  0.899314\n",
       "Residual  146326.0  10645.858074  0.072754       NaN       NaN"
      ]
     },
     "execution_count": 437,
     "metadata": {},
     "output_type": "execute_result"
    }
   ],
   "source": [
    "res = stat()\n",
    "res.anova_stat(df=categorical_data, res_var='value', anova_model='valence ~ C(mode)')\n",
    "res.anova_summary"
   ]
  },
  {
   "cell_type": "markdown",
   "id": "intelligent-uncertainty",
   "metadata": {},
   "source": [
    "**valence ~ mode**\n",
    "- pvalue > 0.05 , it is not statistically significant as we see from the boxplot as well"
   ]
  },
  {
   "cell_type": "code",
   "execution_count": 438,
   "id": "surface-quest",
   "metadata": {},
   "outputs": [
    {
     "data": {
      "text/html": [
       "<div>\n",
       "<style scoped>\n",
       "    .dataframe tbody tr th:only-of-type {\n",
       "        vertical-align: middle;\n",
       "    }\n",
       "\n",
       "    .dataframe tbody tr th {\n",
       "        vertical-align: top;\n",
       "    }\n",
       "\n",
       "    .dataframe thead th {\n",
       "        text-align: right;\n",
       "    }\n",
       "</style>\n",
       "<table border=\"1\" class=\"dataframe\">\n",
       "  <thead>\n",
       "    <tr style=\"text-align: right;\">\n",
       "      <th></th>\n",
       "      <th>df</th>\n",
       "      <th>sum_sq</th>\n",
       "      <th>mean_sq</th>\n",
       "      <th>F</th>\n",
       "      <th>PR(&gt;F)</th>\n",
       "    </tr>\n",
       "  </thead>\n",
       "  <tbody>\n",
       "    <tr>\n",
       "      <th>C(time_signature)</th>\n",
       "      <td>2.0</td>\n",
       "      <td>608.355688</td>\n",
       "      <td>304.177844</td>\n",
       "      <td>4434.252278</td>\n",
       "      <td>0.0</td>\n",
       "    </tr>\n",
       "    <tr>\n",
       "      <th>Residual</th>\n",
       "      <td>146325.0</td>\n",
       "      <td>10037.503551</td>\n",
       "      <td>0.068597</td>\n",
       "      <td>NaN</td>\n",
       "      <td>NaN</td>\n",
       "    </tr>\n",
       "  </tbody>\n",
       "</table>\n",
       "</div>"
      ],
      "text/plain": [
       "                         df        sum_sq     mean_sq            F  PR(>F)\n",
       "C(time_signature)       2.0    608.355688  304.177844  4434.252278     0.0\n",
       "Residual           146325.0  10037.503551    0.068597          NaN     NaN"
      ]
     },
     "execution_count": 438,
     "metadata": {},
     "output_type": "execute_result"
    }
   ],
   "source": [
    "res = stat()\n",
    "res.anova_stat(df=categorical_data, res_var='value', anova_model='valence ~ C(time_signature)')\n",
    "res.anova_summary"
   ]
  },
  {
   "cell_type": "markdown",
   "id": "statewide-kentucky",
   "metadata": {},
   "source": [
    "**valence ~ time_signature**\n",
    "- pvalue < 0.05 , , statistically significant"
   ]
  },
  {
   "cell_type": "markdown",
   "id": "refined-macro",
   "metadata": {},
   "source": [
    "#### One hot encoding"
   ]
  },
  {
   "cell_type": "code",
   "execution_count": 439,
   "id": "urban-vacation",
   "metadata": {},
   "outputs": [
    {
     "data": {
      "text/html": [
       "<div>\n",
       "<style scoped>\n",
       "    .dataframe tbody tr th:only-of-type {\n",
       "        vertical-align: middle;\n",
       "    }\n",
       "\n",
       "    .dataframe tbody tr th {\n",
       "        vertical-align: top;\n",
       "    }\n",
       "\n",
       "    .dataframe thead th {\n",
       "        text-align: right;\n",
       "    }\n",
       "</style>\n",
       "<table border=\"1\" class=\"dataframe\">\n",
       "  <thead>\n",
       "    <tr style=\"text-align: right;\">\n",
       "      <th></th>\n",
       "      <th>danceability</th>\n",
       "      <th>energy</th>\n",
       "      <th>key</th>\n",
       "      <th>loudness</th>\n",
       "      <th>speechiness</th>\n",
       "      <th>acousticness</th>\n",
       "      <th>instrumentalness</th>\n",
       "      <th>liveness</th>\n",
       "      <th>valence</th>\n",
       "      <th>tempo</th>\n",
       "      <th>duration_ms</th>\n",
       "      <th>time_signature</th>\n",
       "      <th>mode_1</th>\n",
       "    </tr>\n",
       "  </thead>\n",
       "  <tbody>\n",
       "    <tr>\n",
       "      <th>0BRjO6ga9RKCKjfDqeFgWV</th>\n",
       "      <td>0.389</td>\n",
       "      <td>0.910</td>\n",
       "      <td>1</td>\n",
       "      <td>-1.828</td>\n",
       "      <td>0.0525</td>\n",
       "      <td>0.611</td>\n",
       "      <td>0.0</td>\n",
       "      <td>0.346</td>\n",
       "      <td>0.816</td>\n",
       "      <td>166.969</td>\n",
       "      <td>99373</td>\n",
       "      <td>4</td>\n",
       "      <td>1</td>\n",
       "    </tr>\n",
       "    <tr>\n",
       "      <th>0BjC1NfoEOOusryehmNudP</th>\n",
       "      <td>0.591</td>\n",
       "      <td>0.737</td>\n",
       "      <td>6</td>\n",
       "      <td>-5.559</td>\n",
       "      <td>0.0877</td>\n",
       "      <td>0.246</td>\n",
       "      <td>0.0</td>\n",
       "      <td>0.151</td>\n",
       "      <td>0.815</td>\n",
       "      <td>174.003</td>\n",
       "      <td>137373</td>\n",
       "      <td>4</td>\n",
       "      <td>0</td>\n",
       "    </tr>\n",
       "  </tbody>\n",
       "</table>\n",
       "</div>"
      ],
      "text/plain": [
       "                        danceability  energy  key  loudness  speechiness  \\\n",
       "0BRjO6ga9RKCKjfDqeFgWV         0.389   0.910    1    -1.828       0.0525   \n",
       "0BjC1NfoEOOusryehmNudP         0.591   0.737    6    -5.559       0.0877   \n",
       "\n",
       "                        acousticness  instrumentalness  liveness  valence  \\\n",
       "0BRjO6ga9RKCKjfDqeFgWV         0.611               0.0     0.346    0.816   \n",
       "0BjC1NfoEOOusryehmNudP         0.246               0.0     0.151    0.815   \n",
       "\n",
       "                          tempo  duration_ms  time_signature  mode_1  \n",
       "0BRjO6ga9RKCKjfDqeFgWV  166.969        99373               4       1  \n",
       "0BjC1NfoEOOusryehmNudP  174.003       137373               4       0  "
      ]
     },
     "execution_count": 439,
     "metadata": {},
     "output_type": "execute_result"
    }
   ],
   "source": [
    "mode_dummies = pd.get_dummies(data['mode'], prefix='mode', drop_first=True)\n",
    "data.drop(columns='mode', inplace=True)\n",
    "data = data.join(mode_dummies)\n",
    "data.head(2)"
   ]
  },
  {
   "cell_type": "code",
   "execution_count": 440,
   "id": "graduate-discount",
   "metadata": {},
   "outputs": [
    {
     "data": {
      "text/html": [
       "<div>\n",
       "<style scoped>\n",
       "    .dataframe tbody tr th:only-of-type {\n",
       "        vertical-align: middle;\n",
       "    }\n",
       "\n",
       "    .dataframe tbody tr th {\n",
       "        vertical-align: top;\n",
       "    }\n",
       "\n",
       "    .dataframe thead th {\n",
       "        text-align: right;\n",
       "    }\n",
       "</style>\n",
       "<table border=\"1\" class=\"dataframe\">\n",
       "  <thead>\n",
       "    <tr style=\"text-align: right;\">\n",
       "      <th></th>\n",
       "      <th>danceability</th>\n",
       "      <th>energy</th>\n",
       "      <th>key</th>\n",
       "      <th>loudness</th>\n",
       "      <th>speechiness</th>\n",
       "      <th>acousticness</th>\n",
       "      <th>instrumentalness</th>\n",
       "      <th>liveness</th>\n",
       "      <th>valence</th>\n",
       "      <th>tempo</th>\n",
       "      <th>duration_ms</th>\n",
       "      <th>mode_1</th>\n",
       "      <th>time_signature_4</th>\n",
       "      <th>time_signature_5</th>\n",
       "    </tr>\n",
       "  </thead>\n",
       "  <tbody>\n",
       "    <tr>\n",
       "      <th>0BRjO6ga9RKCKjfDqeFgWV</th>\n",
       "      <td>0.389</td>\n",
       "      <td>0.910</td>\n",
       "      <td>1</td>\n",
       "      <td>-1.828</td>\n",
       "      <td>0.0525</td>\n",
       "      <td>0.611</td>\n",
       "      <td>0.0</td>\n",
       "      <td>0.346</td>\n",
       "      <td>0.816</td>\n",
       "      <td>166.969</td>\n",
       "      <td>99373</td>\n",
       "      <td>1</td>\n",
       "      <td>1</td>\n",
       "      <td>0</td>\n",
       "    </tr>\n",
       "    <tr>\n",
       "      <th>0BjC1NfoEOOusryehmNudP</th>\n",
       "      <td>0.591</td>\n",
       "      <td>0.737</td>\n",
       "      <td>6</td>\n",
       "      <td>-5.559</td>\n",
       "      <td>0.0877</td>\n",
       "      <td>0.246</td>\n",
       "      <td>0.0</td>\n",
       "      <td>0.151</td>\n",
       "      <td>0.815</td>\n",
       "      <td>174.003</td>\n",
       "      <td>137373</td>\n",
       "      <td>0</td>\n",
       "      <td>1</td>\n",
       "      <td>0</td>\n",
       "    </tr>\n",
       "  </tbody>\n",
       "</table>\n",
       "</div>"
      ],
      "text/plain": [
       "                        danceability  energy  key  loudness  speechiness  \\\n",
       "0BRjO6ga9RKCKjfDqeFgWV         0.389   0.910    1    -1.828       0.0525   \n",
       "0BjC1NfoEOOusryehmNudP         0.591   0.737    6    -5.559       0.0877   \n",
       "\n",
       "                        acousticness  instrumentalness  liveness  valence  \\\n",
       "0BRjO6ga9RKCKjfDqeFgWV         0.611               0.0     0.346    0.816   \n",
       "0BjC1NfoEOOusryehmNudP         0.246               0.0     0.151    0.815   \n",
       "\n",
       "                          tempo  duration_ms  mode_1  time_signature_4  \\\n",
       "0BRjO6ga9RKCKjfDqeFgWV  166.969        99373       1                 1   \n",
       "0BjC1NfoEOOusryehmNudP  174.003       137373       0                 1   \n",
       "\n",
       "                        time_signature_5  \n",
       "0BRjO6ga9RKCKjfDqeFgWV                 0  \n",
       "0BjC1NfoEOOusryehmNudP                 0  "
      ]
     },
     "execution_count": 440,
     "metadata": {},
     "output_type": "execute_result"
    }
   ],
   "source": [
    "time_signature_dummies = pd.get_dummies(data['time_signature'], prefix='time_signature', drop_first=True)\n",
    "data.drop(columns='time_signature', inplace=True)\n",
    "data = data.join(time_signature_dummies)\n",
    "data.head(2)"
   ]
  },
  {
   "cell_type": "code",
   "execution_count": 441,
   "id": "external-greece",
   "metadata": {},
   "outputs": [
    {
     "data": {
      "text/html": [
       "<div>\n",
       "<style scoped>\n",
       "    .dataframe tbody tr th:only-of-type {\n",
       "        vertical-align: middle;\n",
       "    }\n",
       "\n",
       "    .dataframe tbody tr th {\n",
       "        vertical-align: top;\n",
       "    }\n",
       "\n",
       "    .dataframe thead th {\n",
       "        text-align: right;\n",
       "    }\n",
       "</style>\n",
       "<table border=\"1\" class=\"dataframe\">\n",
       "  <thead>\n",
       "    <tr style=\"text-align: right;\">\n",
       "      <th></th>\n",
       "      <th>danceability</th>\n",
       "      <th>energy</th>\n",
       "      <th>loudness</th>\n",
       "      <th>speechiness</th>\n",
       "      <th>acousticness</th>\n",
       "      <th>instrumentalness</th>\n",
       "      <th>liveness</th>\n",
       "      <th>valence</th>\n",
       "      <th>tempo</th>\n",
       "      <th>duration_ms</th>\n",
       "      <th>...</th>\n",
       "      <th>key_2</th>\n",
       "      <th>key_3</th>\n",
       "      <th>key_4</th>\n",
       "      <th>key_5</th>\n",
       "      <th>key_6</th>\n",
       "      <th>key_7</th>\n",
       "      <th>key_8</th>\n",
       "      <th>key_9</th>\n",
       "      <th>key_10</th>\n",
       "      <th>key_11</th>\n",
       "    </tr>\n",
       "  </thead>\n",
       "  <tbody>\n",
       "    <tr>\n",
       "      <th>0BRjO6ga9RKCKjfDqeFgWV</th>\n",
       "      <td>0.389</td>\n",
       "      <td>0.910</td>\n",
       "      <td>-1.828</td>\n",
       "      <td>0.0525</td>\n",
       "      <td>0.611</td>\n",
       "      <td>0.0</td>\n",
       "      <td>0.346</td>\n",
       "      <td>0.816</td>\n",
       "      <td>166.969</td>\n",
       "      <td>99373</td>\n",
       "      <td>...</td>\n",
       "      <td>0</td>\n",
       "      <td>0</td>\n",
       "      <td>0</td>\n",
       "      <td>0</td>\n",
       "      <td>0</td>\n",
       "      <td>0</td>\n",
       "      <td>0</td>\n",
       "      <td>0</td>\n",
       "      <td>0</td>\n",
       "      <td>0</td>\n",
       "    </tr>\n",
       "    <tr>\n",
       "      <th>0BjC1NfoEOOusryehmNudP</th>\n",
       "      <td>0.591</td>\n",
       "      <td>0.737</td>\n",
       "      <td>-5.559</td>\n",
       "      <td>0.0877</td>\n",
       "      <td>0.246</td>\n",
       "      <td>0.0</td>\n",
       "      <td>0.151</td>\n",
       "      <td>0.815</td>\n",
       "      <td>174.003</td>\n",
       "      <td>137373</td>\n",
       "      <td>...</td>\n",
       "      <td>0</td>\n",
       "      <td>0</td>\n",
       "      <td>0</td>\n",
       "      <td>0</td>\n",
       "      <td>1</td>\n",
       "      <td>0</td>\n",
       "      <td>0</td>\n",
       "      <td>0</td>\n",
       "      <td>0</td>\n",
       "      <td>0</td>\n",
       "    </tr>\n",
       "  </tbody>\n",
       "</table>\n",
       "<p>2 rows × 24 columns</p>\n",
       "</div>"
      ],
      "text/plain": [
       "                        danceability  energy  loudness  speechiness  \\\n",
       "0BRjO6ga9RKCKjfDqeFgWV         0.389   0.910    -1.828       0.0525   \n",
       "0BjC1NfoEOOusryehmNudP         0.591   0.737    -5.559       0.0877   \n",
       "\n",
       "                        acousticness  instrumentalness  liveness  valence  \\\n",
       "0BRjO6ga9RKCKjfDqeFgWV         0.611               0.0     0.346    0.816   \n",
       "0BjC1NfoEOOusryehmNudP         0.246               0.0     0.151    0.815   \n",
       "\n",
       "                          tempo  duration_ms  ...  key_2  key_3  key_4  key_5  \\\n",
       "0BRjO6ga9RKCKjfDqeFgWV  166.969        99373  ...      0      0      0      0   \n",
       "0BjC1NfoEOOusryehmNudP  174.003       137373  ...      0      0      0      0   \n",
       "\n",
       "                        key_6  key_7  key_8  key_9  key_10  key_11  \n",
       "0BRjO6ga9RKCKjfDqeFgWV      0      0      0      0       0       0  \n",
       "0BjC1NfoEOOusryehmNudP      1      0      0      0       0       0  \n",
       "\n",
       "[2 rows x 24 columns]"
      ]
     },
     "execution_count": 441,
     "metadata": {},
     "output_type": "execute_result"
    }
   ],
   "source": [
    "key_dummies = pd.get_dummies(data['key'], prefix='key', drop_first=True)\n",
    "data.drop(columns='key', inplace=True)\n",
    "data= data.join(key_dummies)\n",
    "data.head(2)"
   ]
  },
  {
   "cell_type": "code",
   "execution_count": 442,
   "id": "favorite-survivor",
   "metadata": {},
   "outputs": [],
   "source": [
    "d1=data.copy()"
   ]
  },
  {
   "cell_type": "markdown",
   "id": "objective-finger",
   "metadata": {},
   "source": [
    "- We normilized the variables: loudness , tempo , duration_ms"
   ]
  },
  {
   "cell_type": "code",
   "execution_count": 443,
   "id": "outstanding-music",
   "metadata": {},
   "outputs": [],
   "source": [
    "from sklearn.preprocessing import StandardScaler\n",
    "scaler = StandardScaler()\n",
    "d1[['loudness', 'tempo', 'duration_ms']] = scaler.fit_transform(d1[['loudness', 'tempo', 'duration_ms']].to_numpy())"
   ]
  },
  {
   "cell_type": "markdown",
   "id": "improved-benjamin",
   "metadata": {},
   "source": [
    "- We remove the variable mode , since it is not statistically significant"
   ]
  },
  {
   "cell_type": "code",
   "execution_count": 444,
   "id": "incorrect-dodge",
   "metadata": {},
   "outputs": [],
   "source": [
    "del d1['mode_1']"
   ]
  },
  {
   "cell_type": "code",
   "execution_count": 445,
   "id": "planned-writer",
   "metadata": {},
   "outputs": [],
   "source": [
    "indepednece=d1.copy()"
   ]
  },
  {
   "cell_type": "code",
   "execution_count": 446,
   "id": "enormous-elizabeth",
   "metadata": {},
   "outputs": [],
   "source": [
    "del indepednece ['valence']"
   ]
  },
  {
   "cell_type": "code",
   "execution_count": 447,
   "id": "major-excellence",
   "metadata": {},
   "outputs": [
    {
     "data": {
      "text/html": [
       "<div>\n",
       "<style scoped>\n",
       "    .dataframe tbody tr th:only-of-type {\n",
       "        vertical-align: middle;\n",
       "    }\n",
       "\n",
       "    .dataframe tbody tr th {\n",
       "        vertical-align: top;\n",
       "    }\n",
       "\n",
       "    .dataframe thead th {\n",
       "        text-align: right;\n",
       "    }\n",
       "</style>\n",
       "<table border=\"1\" class=\"dataframe\">\n",
       "  <thead>\n",
       "    <tr style=\"text-align: right;\">\n",
       "      <th></th>\n",
       "      <th>Variable</th>\n",
       "      <th>VIF</th>\n",
       "    </tr>\n",
       "  </thead>\n",
       "  <tbody>\n",
       "    <tr>\n",
       "      <th>0</th>\n",
       "      <td>danceability</td>\n",
       "      <td>1.540998</td>\n",
       "    </tr>\n",
       "    <tr>\n",
       "      <th>1</th>\n",
       "      <td>energy</td>\n",
       "      <td>5.042036</td>\n",
       "    </tr>\n",
       "    <tr>\n",
       "      <th>2</th>\n",
       "      <td>loudness</td>\n",
       "      <td>4.346437</td>\n",
       "    </tr>\n",
       "    <tr>\n",
       "      <th>3</th>\n",
       "      <td>speechiness</td>\n",
       "      <td>1.875858</td>\n",
       "    </tr>\n",
       "    <tr>\n",
       "      <th>4</th>\n",
       "      <td>acousticness</td>\n",
       "      <td>2.960690</td>\n",
       "    </tr>\n",
       "    <tr>\n",
       "      <th>5</th>\n",
       "      <td>instrumentalness</td>\n",
       "      <td>1.477100</td>\n",
       "    </tr>\n",
       "    <tr>\n",
       "      <th>6</th>\n",
       "      <td>liveness</td>\n",
       "      <td>1.559643</td>\n",
       "    </tr>\n",
       "    <tr>\n",
       "      <th>7</th>\n",
       "      <td>tempo</td>\n",
       "      <td>1.110566</td>\n",
       "    </tr>\n",
       "    <tr>\n",
       "      <th>8</th>\n",
       "      <td>duration_ms</td>\n",
       "      <td>1.025255</td>\n",
       "    </tr>\n",
       "    <tr>\n",
       "      <th>9</th>\n",
       "      <td>time_signature_4</td>\n",
       "      <td>1.403045</td>\n",
       "    </tr>\n",
       "    <tr>\n",
       "      <th>10</th>\n",
       "      <td>time_signature_5</td>\n",
       "      <td>1.190935</td>\n",
       "    </tr>\n",
       "    <tr>\n",
       "      <th>11</th>\n",
       "      <td>key_1</td>\n",
       "      <td>1.659257</td>\n",
       "    </tr>\n",
       "    <tr>\n",
       "      <th>12</th>\n",
       "      <td>key_2</td>\n",
       "      <td>1.699180</td>\n",
       "    </tr>\n",
       "    <tr>\n",
       "      <th>13</th>\n",
       "      <td>key_3</td>\n",
       "      <td>1.251039</td>\n",
       "    </tr>\n",
       "    <tr>\n",
       "      <th>14</th>\n",
       "      <td>key_4</td>\n",
       "      <td>1.521094</td>\n",
       "    </tr>\n",
       "    <tr>\n",
       "      <th>15</th>\n",
       "      <td>key_5</td>\n",
       "      <td>1.594501</td>\n",
       "    </tr>\n",
       "    <tr>\n",
       "      <th>16</th>\n",
       "      <td>key_6</td>\n",
       "      <td>1.457802</td>\n",
       "    </tr>\n",
       "    <tr>\n",
       "      <th>17</th>\n",
       "      <td>key_7</td>\n",
       "      <td>1.759182</td>\n",
       "    </tr>\n",
       "    <tr>\n",
       "      <th>18</th>\n",
       "      <td>key_8</td>\n",
       "      <td>1.441329</td>\n",
       "    </tr>\n",
       "    <tr>\n",
       "      <th>19</th>\n",
       "      <td>key_9</td>\n",
       "      <td>1.664946</td>\n",
       "    </tr>\n",
       "    <tr>\n",
       "      <th>20</th>\n",
       "      <td>key_10</td>\n",
       "      <td>1.473066</td>\n",
       "    </tr>\n",
       "    <tr>\n",
       "      <th>21</th>\n",
       "      <td>key_11</td>\n",
       "      <td>1.505971</td>\n",
       "    </tr>\n",
       "  </tbody>\n",
       "</table>\n",
       "</div>"
      ],
      "text/plain": [
       "            Variable       VIF\n",
       "0       danceability  1.540998\n",
       "1             energy  5.042036\n",
       "2           loudness  4.346437\n",
       "3        speechiness  1.875858\n",
       "4       acousticness  2.960690\n",
       "5   instrumentalness  1.477100\n",
       "6           liveness  1.559643\n",
       "7              tempo  1.110566\n",
       "8        duration_ms  1.025255\n",
       "9   time_signature_4  1.403045\n",
       "10  time_signature_5  1.190935\n",
       "11             key_1  1.659257\n",
       "12             key_2  1.699180\n",
       "13             key_3  1.251039\n",
       "14             key_4  1.521094\n",
       "15             key_5  1.594501\n",
       "16             key_6  1.457802\n",
       "17             key_7  1.759182\n",
       "18             key_8  1.441329\n",
       "19             key_9  1.664946\n",
       "20            key_10  1.473066\n",
       "21            key_11  1.505971"
      ]
     },
     "execution_count": 447,
     "metadata": {},
     "output_type": "execute_result"
    }
   ],
   "source": [
    "from statsmodels.stats.outliers_influence import variance_inflation_factor\n",
    "from statsmodels.tools.tools import add_constant\n",
    "\n",
    "X = indepednece.copy()\n",
    "\n",
    "X['intercept'] = 1\n",
    "\n",
    " # create dataframe to store vif values\n",
    "vif = pd.DataFrame()\n",
    "vif[\"Variable\"] = X.columns\n",
    "vif[\"VIF\"] = [variance_inflation_factor(X.values, i) for i in range(X.shape[1])]\n",
    "vif = vif[vif['Variable']!='intercept']\n",
    "vif"
   ]
  },
  {
   "cell_type": "markdown",
   "id": "defined-tutorial",
   "metadata": {},
   "source": [
    "- There is multicollinerity , we ecpected due to the fact that the result of  corrplot , maybe we should removed the variable energy , but the r2 is dicrease significantly . Also, the energy has the biggest linear corellation with velence."
   ]
  },
  {
   "cell_type": "markdown",
   "id": "finite-moore",
   "metadata": {},
   "source": [
    "Now we will use some function  from the notes of Professor Louridas for backward & forward stepwise selection."
   ]
  },
  {
   "cell_type": "code",
   "execution_count": 448,
   "id": "fifteen-antique",
   "metadata": {},
   "outputs": [],
   "source": [
    "def process_subset(y, data, feature_set):\n",
    "    X = data.loc[:, feature_set].values\n",
    "    X = sm.add_constant(X)\n",
    "    names = ['intercept']\n",
    "    names.extend(feature_set)\n",
    "    model = sm.OLS(y, X)\n",
    "    model.data.xnames = names\n",
    "    regr = model.fit()\n",
    "    return regr"
   ]
  },
  {
   "cell_type": "markdown",
   "id": "otherwise-muscle",
   "metadata": {},
   "source": [
    "##### backward_remove_variable"
   ]
  },
  {
   "cell_type": "code",
   "execution_count": 449,
   "id": "greatest-employee",
   "metadata": {},
   "outputs": [],
   "source": [
    "def backward_remove_variable(data, exog, selected):\n",
    "    \n",
    "    best_rsquared = 0\n",
    "    best_model = None\n",
    "    best_column = None\n",
    "    y = data.loc[:, exog]\n",
    "    \n",
    "    for column in selected:\n",
    "        new_selected = selected[:]\n",
    "        new_selected.remove(column)\n",
    "        regr = process_subset(y, data, new_selected)\n",
    "        if regr.rsquared > best_rsquared:\n",
    "            best_rsquared = regr.rsquared\n",
    "            best_model = regr\n",
    "            best_column = column\n",
    "    \n",
    "    return best_model, best_column"
   ]
  },
  {
   "cell_type": "code",
   "execution_count": 450,
   "id": "female-baker",
   "metadata": {},
   "outputs": [],
   "source": [
    "def backward_stepwise_selection(data, exog):\n",
    "\n",
    "    best_models = []\n",
    "    selected = [ x for x in data.columns if x != exog ]\n",
    "\n",
    "    p = len(selected) + 1\n",
    "\n",
    "    print(f'Finding the best model for {p - 1} variables')\n",
    "    print(selected)\n",
    "    y = data.loc[:, exog]\n",
    "    best_model = process_subset(y, data, selected)\n",
    "    best_models.append(best_model)\n",
    "\n",
    "    for i in reversed(range(2, p)):\n",
    "        print(f'Finding the best model for {i - 1} variable{\"s\" if (i - 1) > 1 else \"\"}')\n",
    "        model, best_column = backward_remove_variable(data, exog, selected)\n",
    "        selected.remove(best_column)\n",
    "        if not best_model or model.rsquared_adj > best_model.rsquared_adj:\n",
    "            best_model = model\n",
    "        print(selected)\n",
    "        best_models.append(model)\n",
    "        \n",
    "    print(f'Fitted {1 + p*(p+1)//2} models')\n",
    "    return best_model, best_models"
   ]
  },
  {
   "cell_type": "code",
   "execution_count": 451,
   "id": "analyzed-retrieval",
   "metadata": {},
   "outputs": [
    {
     "name": "stdout",
     "output_type": "stream",
     "text": [
      "Finding the best model for 22 variables\n",
      "['danceability', 'energy', 'loudness', 'speechiness', 'acousticness', 'instrumentalness', 'liveness', 'tempo', 'duration_ms', 'time_signature_4', 'time_signature_5', 'key_1', 'key_2', 'key_3', 'key_4', 'key_5', 'key_6', 'key_7', 'key_8', 'key_9', 'key_10', 'key_11']\n",
      "Finding the best model for 21 variables\n",
      "['danceability', 'energy', 'loudness', 'speechiness', 'acousticness', 'instrumentalness', 'liveness', 'tempo', 'duration_ms', 'time_signature_4', 'time_signature_5', 'key_1', 'key_2', 'key_4', 'key_5', 'key_6', 'key_7', 'key_8', 'key_9', 'key_10', 'key_11']\n",
      "Finding the best model for 20 variables\n",
      "['danceability', 'energy', 'loudness', 'speechiness', 'acousticness', 'instrumentalness', 'liveness', 'tempo', 'duration_ms', 'time_signature_4', 'time_signature_5', 'key_1', 'key_2', 'key_4', 'key_5', 'key_6', 'key_7', 'key_8', 'key_9', 'key_11']\n",
      "Finding the best model for 19 variables\n",
      "['danceability', 'energy', 'loudness', 'speechiness', 'acousticness', 'instrumentalness', 'liveness', 'tempo', 'duration_ms', 'time_signature_4', 'key_1', 'key_2', 'key_4', 'key_5', 'key_6', 'key_7', 'key_8', 'key_9', 'key_11']\n",
      "Finding the best model for 18 variables\n",
      "['danceability', 'energy', 'loudness', 'speechiness', 'acousticness', 'instrumentalness', 'liveness', 'tempo', 'duration_ms', 'time_signature_4', 'key_1', 'key_2', 'key_4', 'key_5', 'key_6', 'key_7', 'key_8', 'key_11']\n",
      "Finding the best model for 17 variables\n",
      "['danceability', 'energy', 'loudness', 'speechiness', 'acousticness', 'instrumentalness', 'tempo', 'duration_ms', 'time_signature_4', 'key_1', 'key_2', 'key_4', 'key_5', 'key_6', 'key_7', 'key_8', 'key_11']\n",
      "Finding the best model for 16 variables\n",
      "['danceability', 'energy', 'loudness', 'speechiness', 'acousticness', 'instrumentalness', 'tempo', 'duration_ms', 'time_signature_4', 'key_1', 'key_2', 'key_4', 'key_5', 'key_6', 'key_8', 'key_11']\n",
      "Finding the best model for 15 variables\n",
      "['danceability', 'energy', 'loudness', 'speechiness', 'acousticness', 'instrumentalness', 'tempo', 'duration_ms', 'time_signature_4', 'key_1', 'key_2', 'key_4', 'key_6', 'key_8', 'key_11']\n",
      "Finding the best model for 14 variables\n",
      "['danceability', 'energy', 'loudness', 'speechiness', 'acousticness', 'instrumentalness', 'tempo', 'duration_ms', 'time_signature_4', 'key_1', 'key_2', 'key_4', 'key_6', 'key_11']\n",
      "Finding the best model for 13 variables\n",
      "['danceability', 'energy', 'loudness', 'speechiness', 'acousticness', 'instrumentalness', 'tempo', 'duration_ms', 'time_signature_4', 'key_1', 'key_2', 'key_4', 'key_11']\n",
      "Finding the best model for 12 variables\n",
      "['danceability', 'energy', 'loudness', 'speechiness', 'acousticness', 'instrumentalness', 'tempo', 'duration_ms', 'time_signature_4', 'key_1', 'key_4', 'key_11']\n",
      "Finding the best model for 11 variables\n",
      "['danceability', 'energy', 'loudness', 'speechiness', 'acousticness', 'instrumentalness', 'tempo', 'duration_ms', 'time_signature_4', 'key_1', 'key_11']\n",
      "Finding the best model for 10 variables\n",
      "['danceability', 'energy', 'loudness', 'speechiness', 'acousticness', 'instrumentalness', 'tempo', 'duration_ms', 'time_signature_4', 'key_1']\n",
      "Finding the best model for 9 variables\n",
      "['danceability', 'energy', 'loudness', 'speechiness', 'acousticness', 'instrumentalness', 'tempo', 'duration_ms', 'key_1']\n",
      "Finding the best model for 8 variables\n",
      "['danceability', 'energy', 'loudness', 'speechiness', 'acousticness', 'instrumentalness', 'tempo', 'duration_ms']\n",
      "Finding the best model for 7 variables\n",
      "['danceability', 'energy', 'loudness', 'speechiness', 'acousticness', 'instrumentalness', 'tempo']\n",
      "Finding the best model for 6 variables\n",
      "['danceability', 'energy', 'loudness', 'speechiness', 'acousticness', 'instrumentalness']\n",
      "Finding the best model for 5 variables\n",
      "['danceability', 'energy', 'speechiness', 'acousticness', 'instrumentalness']\n",
      "Finding the best model for 4 variables\n",
      "['danceability', 'energy', 'speechiness', 'acousticness']\n",
      "Finding the best model for 3 variables\n",
      "['danceability', 'energy', 'speechiness']\n",
      "Finding the best model for 2 variables\n",
      "['danceability', 'energy']\n",
      "Finding the best model for 1 variable\n",
      "['danceability']\n",
      "Fitted 277 models\n",
      "Best overall model: 21 ['intercept', 'danceability', 'energy', 'loudness', 'speechiness', 'acousticness', 'instrumentalness', 'liveness', 'tempo', 'duration_ms', 'time_signature_4', 'time_signature_5', 'key_1', 'key_2', 'key_4', 'key_5', 'key_6', 'key_7', 'key_8', 'key_9', 'key_11']\n"
     ]
    }
   ],
   "source": [
    "best_model_backward, best_models_backward = backward_stepwise_selection(d1, 'valence')\n",
    "print('Best overall model:', len(best_model_backward.model.exog_names), best_model_backward.model.exog_names) ;"
   ]
  },
  {
   "cell_type": "markdown",
   "id": "revised-leone",
   "metadata": {},
   "source": [
    "Best overall model: 21 ['intercept', 'danceability', 'energy', 'loudness', 'speechiness', 'acousticness', 'instrumentalness', 'liveness', 'tempo', 'duration_ms', 'time_signature_4', 'time_signature_5', 'key_1', 'key_2', 'key_4', 'key_5', 'key_6', 'key_7', 'key_8', 'key_9', 'key_11']"
   ]
  },
  {
   "cell_type": "markdown",
   "id": "spoken-student",
   "metadata": {},
   "source": [
    "- the best model has 21 variables in total, excluding the variables key_3 & key_10."
   ]
  },
  {
   "cell_type": "markdown",
   "id": "southern-creature",
   "metadata": {},
   "source": [
    "##### forward_add_variable"
   ]
  },
  {
   "cell_type": "code",
   "execution_count": 452,
   "id": "incorporated-witness",
   "metadata": {},
   "outputs": [],
   "source": [
    "def forward_add_variable(data, exog, selected, to_select):\n",
    "    best_rsquared = 0\n",
    "    best_model = None\n",
    "    best_column = None\n",
    "    y = data.loc[:, exog]\n",
    "    \n",
    "    for column in to_select:\n",
    "        new_selected = selected + [column]\n",
    "        regr = process_subset(y, data, new_selected)\n",
    "        if regr.rsquared > best_rsquared:\n",
    "            best_rsquared = regr.rsquared\n",
    "            best_model = regr\n",
    "            best_column = column\n",
    "    \n",
    "    return best_model, best_column"
   ]
  },
  {
   "cell_type": "code",
   "execution_count": 453,
   "id": "enclosed-george",
   "metadata": {},
   "outputs": [],
   "source": [
    "def forward_stepwise_selection(data, exog):\n",
    "\n",
    "    best_models = []\n",
    "    best_model = None\n",
    "    selected = []\n",
    "    to_select = [ x for x in data.columns if x != exog ]\n",
    "\n",
    "    p = len(to_select) + 1\n",
    "\n",
    "    for i in range(1, p):\n",
    "        print(f'Finding the best model for {i} variable{\"s\" if i > 1 else \"\"}')\n",
    "        model, best_column = forward_add_variable(data, exog, selected, to_select)\n",
    "        selected.append(best_column)\n",
    "        to_select.remove(best_column)\n",
    "        if not best_model or model.rsquared_adj > best_model.rsquared_adj:\n",
    "            best_model = model\n",
    "        print(selected)\n",
    "        best_models.append(model)\n",
    "        \n",
    "    print(f'Fitted {1 + p*(p+1)//2} models')\n",
    "    return best_model, best_models"
   ]
  },
  {
   "cell_type": "code",
   "execution_count": 454,
   "id": "ecological-dynamics",
   "metadata": {},
   "outputs": [
    {
     "name": "stdout",
     "output_type": "stream",
     "text": [
      "Finding the best model for 1 variable\n",
      "['danceability']\n",
      "Finding the best model for 2 variables\n",
      "['danceability', 'energy']\n",
      "Finding the best model for 3 variables\n",
      "['danceability', 'energy', 'speechiness']\n",
      "Finding the best model for 4 variables\n",
      "['danceability', 'energy', 'speechiness', 'acousticness']\n",
      "Finding the best model for 5 variables\n",
      "['danceability', 'energy', 'speechiness', 'acousticness', 'duration_ms']\n",
      "Finding the best model for 6 variables\n",
      "['danceability', 'energy', 'speechiness', 'acousticness', 'duration_ms', 'tempo']\n",
      "Finding the best model for 7 variables\n",
      "['danceability', 'energy', 'speechiness', 'acousticness', 'duration_ms', 'tempo', 'instrumentalness']\n",
      "Finding the best model for 8 variables\n",
      "['danceability', 'energy', 'speechiness', 'acousticness', 'duration_ms', 'tempo', 'instrumentalness', 'loudness']\n",
      "Finding the best model for 9 variables\n",
      "['danceability', 'energy', 'speechiness', 'acousticness', 'duration_ms', 'tempo', 'instrumentalness', 'loudness', 'key_1']\n",
      "Finding the best model for 10 variables\n",
      "['danceability', 'energy', 'speechiness', 'acousticness', 'duration_ms', 'tempo', 'instrumentalness', 'loudness', 'key_1', 'time_signature_4']\n",
      "Finding the best model for 11 variables\n",
      "['danceability', 'energy', 'speechiness', 'acousticness', 'duration_ms', 'tempo', 'instrumentalness', 'loudness', 'key_1', 'time_signature_4', 'key_7']\n",
      "Finding the best model for 12 variables\n",
      "['danceability', 'energy', 'speechiness', 'acousticness', 'duration_ms', 'tempo', 'instrumentalness', 'loudness', 'key_1', 'time_signature_4', 'key_7', 'key_5']\n",
      "Finding the best model for 13 variables\n",
      "['danceability', 'energy', 'speechiness', 'acousticness', 'duration_ms', 'tempo', 'instrumentalness', 'loudness', 'key_1', 'time_signature_4', 'key_7', 'key_5', 'key_9']\n",
      "Finding the best model for 14 variables\n",
      "['danceability', 'energy', 'speechiness', 'acousticness', 'duration_ms', 'tempo', 'instrumentalness', 'loudness', 'key_1', 'time_signature_4', 'key_7', 'key_5', 'key_9', 'key_11']\n",
      "Finding the best model for 15 variables\n",
      "['danceability', 'energy', 'speechiness', 'acousticness', 'duration_ms', 'tempo', 'instrumentalness', 'loudness', 'key_1', 'time_signature_4', 'key_7', 'key_5', 'key_9', 'key_11', 'key_4']\n",
      "Finding the best model for 16 variables\n",
      "['danceability', 'energy', 'speechiness', 'acousticness', 'duration_ms', 'tempo', 'instrumentalness', 'loudness', 'key_1', 'time_signature_4', 'key_7', 'key_5', 'key_9', 'key_11', 'key_4', 'key_6']\n",
      "Finding the best model for 17 variables\n",
      "['danceability', 'energy', 'speechiness', 'acousticness', 'duration_ms', 'tempo', 'instrumentalness', 'loudness', 'key_1', 'time_signature_4', 'key_7', 'key_5', 'key_9', 'key_11', 'key_4', 'key_6', 'key_2']\n",
      "Finding the best model for 18 variables\n",
      "['danceability', 'energy', 'speechiness', 'acousticness', 'duration_ms', 'tempo', 'instrumentalness', 'loudness', 'key_1', 'time_signature_4', 'key_7', 'key_5', 'key_9', 'key_11', 'key_4', 'key_6', 'key_2', 'key_8']\n",
      "Finding the best model for 19 variables\n",
      "['danceability', 'energy', 'speechiness', 'acousticness', 'duration_ms', 'tempo', 'instrumentalness', 'loudness', 'key_1', 'time_signature_4', 'key_7', 'key_5', 'key_9', 'key_11', 'key_4', 'key_6', 'key_2', 'key_8', 'liveness']\n",
      "Finding the best model for 20 variables\n",
      "['danceability', 'energy', 'speechiness', 'acousticness', 'duration_ms', 'tempo', 'instrumentalness', 'loudness', 'key_1', 'time_signature_4', 'key_7', 'key_5', 'key_9', 'key_11', 'key_4', 'key_6', 'key_2', 'key_8', 'liveness', 'time_signature_5']\n",
      "Finding the best model for 21 variables\n",
      "['danceability', 'energy', 'speechiness', 'acousticness', 'duration_ms', 'tempo', 'instrumentalness', 'loudness', 'key_1', 'time_signature_4', 'key_7', 'key_5', 'key_9', 'key_11', 'key_4', 'key_6', 'key_2', 'key_8', 'liveness', 'time_signature_5', 'key_10']\n",
      "Finding the best model for 22 variables\n",
      "['danceability', 'energy', 'speechiness', 'acousticness', 'duration_ms', 'tempo', 'instrumentalness', 'loudness', 'key_1', 'time_signature_4', 'key_7', 'key_5', 'key_9', 'key_11', 'key_4', 'key_6', 'key_2', 'key_8', 'liveness', 'time_signature_5', 'key_10', 'key_3']\n",
      "Fitted 277 models\n",
      "Best overall model: 21 ['intercept', 'danceability', 'energy', 'speechiness', 'acousticness', 'duration_ms', 'tempo', 'instrumentalness', 'loudness', 'key_1', 'time_signature_4', 'key_7', 'key_5', 'key_9', 'key_11', 'key_4', 'key_6', 'key_2', 'key_8', 'liveness', 'time_signature_5']\n"
     ]
    }
   ],
   "source": [
    "best_model_forward,_= forward_stepwise_selection(d1, 'valence')\n",
    "print('Best overall model:', len(best_model_forward.model.exog_names), best_model_forward.model.exog_names)"
   ]
  },
  {
   "cell_type": "markdown",
   "id": "human-assessment",
   "metadata": {},
   "source": [
    "Best overall model: 21 ['intercept', 'danceability', 'energy', 'speechiness', 'acousticness', 'duration_ms', 'tempo', 'instrumentalness', 'loudness', 'key_1', 'time_signature_4', 'key_7', 'key_5', 'key_9', 'key_11', 'key_4', 'key_6', 'key_2', 'key_8', 'liveness', 'time_signature_5']\n"
   ]
  },
  {
   "cell_type": "markdown",
   "id": "million-fields",
   "metadata": {},
   "source": [
    "- the best model has 21 variables in total, excluding the variables key_3 & key_10"
   ]
  },
  {
   "cell_type": "markdown",
   "id": "indie-vocabulary",
   "metadata": {},
   "source": [
    "Similar result with the backward method "
   ]
  },
  {
   "cell_type": "markdown",
   "id": "enclosed-template",
   "metadata": {},
   "source": [
    "- So, the final model :"
   ]
  },
  {
   "cell_type": "code",
   "execution_count": 455,
   "id": "exact-superior",
   "metadata": {},
   "outputs": [
    {
     "data": {
      "text/html": [
       "<table class=\"simpletable\">\n",
       "<caption>OLS Regression Results</caption>\n",
       "<tr>\n",
       "  <th>Dep. Variable:</th>         <td>valence</td>     <th>  R-squared:         </th>  <td>   0.460</td> \n",
       "</tr>\n",
       "<tr>\n",
       "  <th>Model:</th>                   <td>OLS</td>       <th>  Adj. R-squared:    </th>  <td>   0.460</td> \n",
       "</tr>\n",
       "<tr>\n",
       "  <th>Method:</th>             <td>Least Squares</td>  <th>  F-statistic:       </th>  <td>   6236.</td> \n",
       "</tr>\n",
       "<tr>\n",
       "  <th>Date:</th>             <td>Wed, 20 Apr 2022</td> <th>  Prob (F-statistic):</th>   <td>  0.00</td>  \n",
       "</tr>\n",
       "<tr>\n",
       "  <th>Time:</th>                 <td>21:06:28</td>     <th>  Log-Likelihood:    </th>  <td>  29218.</td> \n",
       "</tr>\n",
       "<tr>\n",
       "  <th>No. Observations:</th>      <td>146328</td>      <th>  AIC:               </th> <td>-5.839e+04</td>\n",
       "</tr>\n",
       "<tr>\n",
       "  <th>Df Residuals:</th>          <td>146307</td>      <th>  BIC:               </th> <td>-5.819e+04</td>\n",
       "</tr>\n",
       "<tr>\n",
       "  <th>Df Model:</th>              <td>    20</td>      <th>                     </th>      <td> </td>    \n",
       "</tr>\n",
       "<tr>\n",
       "  <th>Covariance Type:</th>      <td>nonrobust</td>    <th>                     </th>      <td> </td>    \n",
       "</tr>\n",
       "</table>\n",
       "<table class=\"simpletable\">\n",
       "<tr>\n",
       "          <td></td>            <th>coef</th>     <th>std err</th>      <th>t</th>      <th>P>|t|</th>  <th>[0.025</th>    <th>0.975]</th>  \n",
       "</tr>\n",
       "<tr>\n",
       "  <th>intercept</th>        <td>   -0.2218</td> <td>    0.004</td> <td>  -58.081</td> <td> 0.000</td> <td>   -0.229</td> <td>   -0.214</td>\n",
       "</tr>\n",
       "<tr>\n",
       "  <th>danceability</th>     <td>    0.7369</td> <td>    0.003</td> <td>  220.903</td> <td> 0.000</td> <td>    0.730</td> <td>    0.743</td>\n",
       "</tr>\n",
       "<tr>\n",
       "  <th>energy</th>           <td>    0.4811</td> <td>    0.004</td> <td>  115.875</td> <td> 0.000</td> <td>    0.473</td> <td>    0.489</td>\n",
       "</tr>\n",
       "<tr>\n",
       "  <th>speechiness</th>      <td>   -0.2169</td> <td>    0.003</td> <td>  -62.983</td> <td> 0.000</td> <td>   -0.224</td> <td>   -0.210</td>\n",
       "</tr>\n",
       "<tr>\n",
       "  <th>acousticness</th>     <td>    0.1266</td> <td>    0.002</td> <td>   52.578</td> <td> 0.000</td> <td>    0.122</td> <td>    0.131</td>\n",
       "</tr>\n",
       "<tr>\n",
       "  <th>duration_ms</th>      <td>   -0.0176</td> <td>    0.001</td> <td>  -33.599</td> <td> 0.000</td> <td>   -0.019</td> <td>   -0.017</td>\n",
       "</tr>\n",
       "<tr>\n",
       "  <th>tempo</th>            <td>    0.0192</td> <td>    0.001</td> <td>   35.237</td> <td> 0.000</td> <td>    0.018</td> <td>    0.020</td>\n",
       "</tr>\n",
       "<tr>\n",
       "  <th>instrumentalness</th> <td>   -0.0864</td> <td>    0.002</td> <td>  -45.203</td> <td> 0.000</td> <td>   -0.090</td> <td>   -0.083</td>\n",
       "</tr>\n",
       "<tr>\n",
       "  <th>loudness</th>         <td>   -0.0483</td> <td>    0.001</td> <td>  -44.693</td> <td> 0.000</td> <td>   -0.050</td> <td>   -0.046</td>\n",
       "</tr>\n",
       "<tr>\n",
       "  <th>key_1</th>            <td>   -0.0359</td> <td>    0.002</td> <td>  -17.740</td> <td> 0.000</td> <td>   -0.040</td> <td>   -0.032</td>\n",
       "</tr>\n",
       "<tr>\n",
       "  <th>time_signature_4</th> <td>    0.0103</td> <td>    0.002</td> <td>    6.007</td> <td> 0.000</td> <td>    0.007</td> <td>    0.014</td>\n",
       "</tr>\n",
       "<tr>\n",
       "  <th>key_7</th>            <td>    0.0064</td> <td>    0.002</td> <td>    3.425</td> <td> 0.001</td> <td>    0.003</td> <td>    0.010</td>\n",
       "</tr>\n",
       "<tr>\n",
       "  <th>key_5</th>            <td>    0.0074</td> <td>    0.002</td> <td>    3.589</td> <td> 0.000</td> <td>    0.003</td> <td>    0.011</td>\n",
       "</tr>\n",
       "<tr>\n",
       "  <th>key_9</th>            <td>    0.0035</td> <td>    0.002</td> <td>    1.750</td> <td> 0.080</td> <td>   -0.000</td> <td>    0.007</td>\n",
       "</tr>\n",
       "<tr>\n",
       "  <th>key_11</th>           <td>   -0.0142</td> <td>    0.002</td> <td>   -6.347</td> <td> 0.000</td> <td>   -0.019</td> <td>   -0.010</td>\n",
       "</tr>\n",
       "<tr>\n",
       "  <th>key_4</th>            <td>   -0.0135</td> <td>    0.002</td> <td>   -6.168</td> <td> 0.000</td> <td>   -0.018</td> <td>   -0.009</td>\n",
       "</tr>\n",
       "<tr>\n",
       "  <th>key_6</th>            <td>   -0.0130</td> <td>    0.002</td> <td>   -5.561</td> <td> 0.000</td> <td>   -0.018</td> <td>   -0.008</td>\n",
       "</tr>\n",
       "<tr>\n",
       "  <th>key_2</th>            <td>   -0.0108</td> <td>    0.002</td> <td>   -5.555</td> <td> 0.000</td> <td>   -0.015</td> <td>   -0.007</td>\n",
       "</tr>\n",
       "<tr>\n",
       "  <th>key_8</th>            <td>   -0.0100</td> <td>    0.002</td> <td>   -4.261</td> <td> 0.000</td> <td>   -0.015</td> <td>   -0.005</td>\n",
       "</tr>\n",
       "<tr>\n",
       "  <th>liveness</th>         <td>   -0.0068</td> <td>    0.003</td> <td>   -2.244</td> <td> 0.025</td> <td>   -0.013</td> <td>   -0.001</td>\n",
       "</tr>\n",
       "<tr>\n",
       "  <th>time_signature_5</th> <td>   -0.0045</td> <td>    0.004</td> <td>   -1.265</td> <td> 0.206</td> <td>   -0.011</td> <td>    0.002</td>\n",
       "</tr>\n",
       "</table>\n",
       "<table class=\"simpletable\">\n",
       "<tr>\n",
       "  <th>Omnibus:</th>       <td>162.287</td> <th>  Durbin-Watson:     </th> <td>   1.710</td>\n",
       "</tr>\n",
       "<tr>\n",
       "  <th>Prob(Omnibus):</th> <td> 0.000</td>  <th>  Jarque-Bera (JB):  </th> <td> 141.040</td>\n",
       "</tr>\n",
       "<tr>\n",
       "  <th>Skew:</th>          <td> 0.022</td>  <th>  Prob(JB):          </th> <td>2.36e-31</td>\n",
       "</tr>\n",
       "<tr>\n",
       "  <th>Kurtosis:</th>      <td> 2.854</td>  <th>  Cond. No.          </th> <td>    18.5</td>\n",
       "</tr>\n",
       "</table><br/><br/>Notes:<br/>[1] Standard Errors assume that the covariance matrix of the errors is correctly specified."
      ],
      "text/plain": [
       "<class 'statsmodels.iolib.summary.Summary'>\n",
       "\"\"\"\n",
       "                            OLS Regression Results                            \n",
       "==============================================================================\n",
       "Dep. Variable:                valence   R-squared:                       0.460\n",
       "Model:                            OLS   Adj. R-squared:                  0.460\n",
       "Method:                 Least Squares   F-statistic:                     6236.\n",
       "Date:                Wed, 20 Apr 2022   Prob (F-statistic):               0.00\n",
       "Time:                        21:06:28   Log-Likelihood:                 29218.\n",
       "No. Observations:              146328   AIC:                        -5.839e+04\n",
       "Df Residuals:                  146307   BIC:                        -5.819e+04\n",
       "Df Model:                          20                                         \n",
       "Covariance Type:            nonrobust                                         \n",
       "====================================================================================\n",
       "                       coef    std err          t      P>|t|      [0.025      0.975]\n",
       "------------------------------------------------------------------------------------\n",
       "intercept           -0.2218      0.004    -58.081      0.000      -0.229      -0.214\n",
       "danceability         0.7369      0.003    220.903      0.000       0.730       0.743\n",
       "energy               0.4811      0.004    115.875      0.000       0.473       0.489\n",
       "speechiness         -0.2169      0.003    -62.983      0.000      -0.224      -0.210\n",
       "acousticness         0.1266      0.002     52.578      0.000       0.122       0.131\n",
       "duration_ms         -0.0176      0.001    -33.599      0.000      -0.019      -0.017\n",
       "tempo                0.0192      0.001     35.237      0.000       0.018       0.020\n",
       "instrumentalness    -0.0864      0.002    -45.203      0.000      -0.090      -0.083\n",
       "loudness            -0.0483      0.001    -44.693      0.000      -0.050      -0.046\n",
       "key_1               -0.0359      0.002    -17.740      0.000      -0.040      -0.032\n",
       "time_signature_4     0.0103      0.002      6.007      0.000       0.007       0.014\n",
       "key_7                0.0064      0.002      3.425      0.001       0.003       0.010\n",
       "key_5                0.0074      0.002      3.589      0.000       0.003       0.011\n",
       "key_9                0.0035      0.002      1.750      0.080      -0.000       0.007\n",
       "key_11              -0.0142      0.002     -6.347      0.000      -0.019      -0.010\n",
       "key_4               -0.0135      0.002     -6.168      0.000      -0.018      -0.009\n",
       "key_6               -0.0130      0.002     -5.561      0.000      -0.018      -0.008\n",
       "key_2               -0.0108      0.002     -5.555      0.000      -0.015      -0.007\n",
       "key_8               -0.0100      0.002     -4.261      0.000      -0.015      -0.005\n",
       "liveness            -0.0068      0.003     -2.244      0.025      -0.013      -0.001\n",
       "time_signature_5    -0.0045      0.004     -1.265      0.206      -0.011       0.002\n",
       "==============================================================================\n",
       "Omnibus:                      162.287   Durbin-Watson:                   1.710\n",
       "Prob(Omnibus):                  0.000   Jarque-Bera (JB):              141.040\n",
       "Skew:                           0.022   Prob(JB):                     2.36e-31\n",
       "Kurtosis:                       2.854   Cond. No.                         18.5\n",
       "==============================================================================\n",
       "\n",
       "Notes:\n",
       "[1] Standard Errors assume that the covariance matrix of the errors is correctly specified.\n",
       "\"\"\""
      ]
     },
     "execution_count": 455,
     "metadata": {},
     "output_type": "execute_result"
    }
   ],
   "source": [
    "best_model_forward.summary()"
   ]
  },
  {
   "cell_type": "markdown",
   "id": "former-bottle",
   "metadata": {},
   "source": [
    "- The best model achieved a 0.46 R-squared, which means that the model explains the 46% of the variation."
   ]
  },
  {
   "cell_type": "markdown",
   "id": "invalid-questionnaire",
   "metadata": {},
   "source": [
    "### Interpretation:"
   ]
  },
  {
   "cell_type": "markdown",
   "id": "warming-longer",
   "metadata": {},
   "source": [
    "- The expected value of the valence increases by 0.73 for each danceability increase unit given that the effect of the remaining variables remains constant.\n",
    "\n",
    "- The expected value of the valence decreases by -0.21 for each speechiness increase unit given that the effect of the remaining variables remains constant.\n",
    "\n",
    "- The expected value of the valence when the key is 1 is less by 0.0359 than the one that the key is 0  given that the effect of the remaining variables remains constant.\n",
    "\n",
    "- The expected value of the valence when the time_signature is 4 is more by 0.0103 than the one that the time_signature is 3  given that the effect of the remaining variables remains constant.\n",
    "\n",
    "with the same way we can interprtate the others\n",
    "\n",
    "\n"
   ]
  },
  {
   "cell_type": "markdown",
   "id": "union-sweet",
   "metadata": {},
   "source": [
    "## Q2: Predict Valence"
   ]
  },
  {
   "cell_type": "markdown",
   "id": "improving-cradle",
   "metadata": {},
   "source": [
    "In this section , we use machine learning techniques to predict valence based on track features:"
   ]
  },
  {
   "cell_type": "markdown",
   "id": "invisible-friday",
   "metadata": {},
   "source": [
    "We use the following techniques:\n",
    "- CatBoost\n",
    "- XGBoost \n",
    "- Extra Tree \n",
    "- Random_forest\n",
    "- Decesion Tree\n",
    "    "
   ]
  },
  {
   "cell_type": "code",
   "execution_count": 456,
   "id": "circular-settle",
   "metadata": {},
   "outputs": [],
   "source": [
    "from sklearn.metrics import mean_squared_error \n",
    "from sklearn.metrics import mean_absolute_error\n",
    "\n",
    "from sklearn.model_selection import GridSearchCV, RandomizedSearchCV\n",
    "from sklearn.tree import DecisionTreeRegressor\n",
    "from sklearn.linear_model import LinearRegression\n",
    "from sklearn.ensemble import RandomForestRegressor\n",
    "from sklearn.model_selection import train_test_split"
   ]
  },
  {
   "cell_type": "code",
   "execution_count": 457,
   "id": "identical-modem",
   "metadata": {},
   "outputs": [],
   "source": [
    "d2=data.copy()"
   ]
  },
  {
   "cell_type": "code",
   "execution_count": 458,
   "id": "bigger-wisdom",
   "metadata": {},
   "outputs": [
    {
     "data": {
      "text/plain": [
       "146328"
      ]
     },
     "execution_count": 458,
     "metadata": {},
     "output_type": "execute_result"
    }
   ],
   "source": [
    "len(d2)"
   ]
  },
  {
   "cell_type": "markdown",
   "id": "descending-programmer",
   "metadata": {},
   "source": [
    "For this section we will add another 2 features :\n",
    "- year & explicit \n",
    "\n",
    "which they help us to achieve better predictions\n",
    "\n",
    "    "
   ]
  },
  {
   "cell_type": "code",
   "execution_count": 459,
   "id": "formed-person",
   "metadata": {},
   "outputs": [],
   "source": [
    "def get_track_features(track_ids):\n",
    "    track_features_dict = {}\n",
    "    start = 0\n",
    "    num_tracks = 50\n",
    "\n",
    "    while start < len(track_ids):\n",
    "        \n",
    "        try:\n",
    "            tracks_batch = track_ids[start:start+num_tracks]\n",
    "            features_batch = sp.tracks(tracks_batch)\n",
    "            track_features_dict.update({ track_id : {'explicit': features['explicit'], 'release_date': features['album']['release_date']} \n",
    "                            for track_id, features in zip(tracks_batch, features_batch['tracks']) })\n",
    "        except Exception:\n",
    "            print('error:', start)\n",
    "        start += num_tracks\n",
    "        \n",
    "    return track_features_dict"
   ]
  },
  {
   "cell_type": "code",
   "execution_count": 460,
   "id": "super-material",
   "metadata": {
    "scrolled": true
   },
   "outputs": [],
   "source": [
    "track_features_extra = get_track_features(all_track_ids)"
   ]
  },
  {
   "cell_type": "code",
   "execution_count": 461,
   "id": "german-intranet",
   "metadata": {},
   "outputs": [
    {
     "data": {
      "text/plain": [
       "148400"
      ]
     },
     "execution_count": 461,
     "metadata": {},
     "output_type": "execute_result"
    }
   ],
   "source": [
    "len(track_features_extra)"
   ]
  },
  {
   "cell_type": "code",
   "execution_count": 462,
   "id": "least-decrease",
   "metadata": {},
   "outputs": [
    {
     "data": {
      "text/html": [
       "<div>\n",
       "<style scoped>\n",
       "    .dataframe tbody tr th:only-of-type {\n",
       "        vertical-align: middle;\n",
       "    }\n",
       "\n",
       "    .dataframe tbody tr th {\n",
       "        vertical-align: top;\n",
       "    }\n",
       "\n",
       "    .dataframe thead th {\n",
       "        text-align: right;\n",
       "    }\n",
       "</style>\n",
       "<table border=\"1\" class=\"dataframe\">\n",
       "  <thead>\n",
       "    <tr style=\"text-align: right;\">\n",
       "      <th></th>\n",
       "      <th>explicit</th>\n",
       "      <th>release_date</th>\n",
       "    </tr>\n",
       "  </thead>\n",
       "  <tbody>\n",
       "    <tr>\n",
       "      <th>0BRjO6ga9RKCKjfDqeFgWV</th>\n",
       "      <td>False</td>\n",
       "      <td>2009-04-06</td>\n",
       "    </tr>\n",
       "    <tr>\n",
       "      <th>0BjC1NfoEOOusryehmNudP</th>\n",
       "      <td>False</td>\n",
       "      <td>2015-10-27</td>\n",
       "    </tr>\n",
       "  </tbody>\n",
       "</table>\n",
       "</div>"
      ],
      "text/plain": [
       "                        explicit release_date\n",
       "0BRjO6ga9RKCKjfDqeFgWV     False   2009-04-06\n",
       "0BjC1NfoEOOusryehmNudP     False   2015-10-27"
      ]
     },
     "execution_count": 462,
     "metadata": {},
     "output_type": "execute_result"
    }
   ],
   "source": [
    "extra_features= pd.DataFrame.from_dict(track_features_extra, orient='index')\n",
    "extra_features.head(2)"
   ]
  },
  {
   "cell_type": "markdown",
   "id": "practical-token",
   "metadata": {},
   "source": [
    "- We transform the explicit to binary 1 when the song has explicit content and 0 if not \n",
    "- We keep only the year of release"
   ]
  },
  {
   "cell_type": "code",
   "execution_count": 463,
   "id": "decreased-observation",
   "metadata": {},
   "outputs": [
    {
     "data": {
      "text/html": [
       "<div>\n",
       "<style scoped>\n",
       "    .dataframe tbody tr th:only-of-type {\n",
       "        vertical-align: middle;\n",
       "    }\n",
       "\n",
       "    .dataframe tbody tr th {\n",
       "        vertical-align: top;\n",
       "    }\n",
       "\n",
       "    .dataframe thead th {\n",
       "        text-align: right;\n",
       "    }\n",
       "</style>\n",
       "<table border=\"1\" class=\"dataframe\">\n",
       "  <thead>\n",
       "    <tr style=\"text-align: right;\">\n",
       "      <th></th>\n",
       "      <th>explicit</th>\n",
       "      <th>year</th>\n",
       "    </tr>\n",
       "  </thead>\n",
       "  <tbody>\n",
       "    <tr>\n",
       "      <th>0BRjO6ga9RKCKjfDqeFgWV</th>\n",
       "      <td>0</td>\n",
       "      <td>2009</td>\n",
       "    </tr>\n",
       "    <tr>\n",
       "      <th>0BjC1NfoEOOusryehmNudP</th>\n",
       "      <td>0</td>\n",
       "      <td>2015</td>\n",
       "    </tr>\n",
       "    <tr>\n",
       "      <th>0CoSDzoNIKCRs124s9uTVy</th>\n",
       "      <td>0</td>\n",
       "      <td>2008</td>\n",
       "    </tr>\n",
       "    <tr>\n",
       "      <th>0Gc6TVm52BwZD07Ki6tIvf</th>\n",
       "      <td>0</td>\n",
       "      <td>1998</td>\n",
       "    </tr>\n",
       "    <tr>\n",
       "      <th>0IuslXpMROHdEPvSl1fTQK</th>\n",
       "      <td>0</td>\n",
       "      <td>2017</td>\n",
       "    </tr>\n",
       "    <tr>\n",
       "      <th>...</th>\n",
       "      <td>...</td>\n",
       "      <td>...</td>\n",
       "    </tr>\n",
       "    <tr>\n",
       "      <th>2XoAEpBuM4AtQIQYUEowRy</th>\n",
       "      <td>0</td>\n",
       "      <td>2015</td>\n",
       "    </tr>\n",
       "    <tr>\n",
       "      <th>1U0OMWvR89Cm20vCNar50f</th>\n",
       "      <td>0</td>\n",
       "      <td>2008</td>\n",
       "    </tr>\n",
       "    <tr>\n",
       "      <th>2gGqKJWfWbToha2YmDxnnj</th>\n",
       "      <td>1</td>\n",
       "      <td>2017</td>\n",
       "    </tr>\n",
       "    <tr>\n",
       "      <th>1qWZdkBl4UVPj9lK6HuuFM</th>\n",
       "      <td>0</td>\n",
       "      <td>2015</td>\n",
       "    </tr>\n",
       "    <tr>\n",
       "      <th>34XO9RwPMKjbvRry54QzWn</th>\n",
       "      <td>0</td>\n",
       "      <td>2006</td>\n",
       "    </tr>\n",
       "  </tbody>\n",
       "</table>\n",
       "<p>148400 rows × 2 columns</p>\n",
       "</div>"
      ],
      "text/plain": [
       "                        explicit  year\n",
       "0BRjO6ga9RKCKjfDqeFgWV         0  2009\n",
       "0BjC1NfoEOOusryehmNudP         0  2015\n",
       "0CoSDzoNIKCRs124s9uTVy         0  2008\n",
       "0Gc6TVm52BwZD07Ki6tIvf         0  1998\n",
       "0IuslXpMROHdEPvSl1fTQK         0  2017\n",
       "...                          ...   ...\n",
       "2XoAEpBuM4AtQIQYUEowRy         0  2015\n",
       "1U0OMWvR89Cm20vCNar50f         0  2008\n",
       "2gGqKJWfWbToha2YmDxnnj         1  2017\n",
       "1qWZdkBl4UVPj9lK6HuuFM         0  2015\n",
       "34XO9RwPMKjbvRry54QzWn         0  2006\n",
       "\n",
       "[148400 rows x 2 columns]"
      ]
     },
     "execution_count": 463,
     "metadata": {},
     "output_type": "execute_result"
    }
   ],
   "source": [
    "extra_features['year'] = extra_features['release_date'].apply(lambda x: int(x[0:4]))\n",
    "extra_features.drop(columns='release_date', inplace=True)\n",
    "extra_features['explicit'] = np.where(extra_features['explicit'] == True, 1, 0)\n",
    "\n",
    "extra_features"
   ]
  },
  {
   "cell_type": "markdown",
   "id": "retained-contractor",
   "metadata": {},
   "source": [
    " - Merge the features"
   ]
  },
  {
   "cell_type": "code",
   "execution_count": 464,
   "id": "metric-equivalent",
   "metadata": {},
   "outputs": [
    {
     "data": {
      "text/html": [
       "<div>\n",
       "<style scoped>\n",
       "    .dataframe tbody tr th:only-of-type {\n",
       "        vertical-align: middle;\n",
       "    }\n",
       "\n",
       "    .dataframe tbody tr th {\n",
       "        vertical-align: top;\n",
       "    }\n",
       "\n",
       "    .dataframe thead th {\n",
       "        text-align: right;\n",
       "    }\n",
       "</style>\n",
       "<table border=\"1\" class=\"dataframe\">\n",
       "  <thead>\n",
       "    <tr style=\"text-align: right;\">\n",
       "      <th></th>\n",
       "      <th>danceability</th>\n",
       "      <th>energy</th>\n",
       "      <th>loudness</th>\n",
       "      <th>speechiness</th>\n",
       "      <th>acousticness</th>\n",
       "      <th>instrumentalness</th>\n",
       "      <th>liveness</th>\n",
       "      <th>valence</th>\n",
       "      <th>tempo</th>\n",
       "      <th>duration_ms</th>\n",
       "      <th>...</th>\n",
       "      <th>key_4</th>\n",
       "      <th>key_5</th>\n",
       "      <th>key_6</th>\n",
       "      <th>key_7</th>\n",
       "      <th>key_8</th>\n",
       "      <th>key_9</th>\n",
       "      <th>key_10</th>\n",
       "      <th>key_11</th>\n",
       "      <th>explicit</th>\n",
       "      <th>year</th>\n",
       "    </tr>\n",
       "  </thead>\n",
       "  <tbody>\n",
       "    <tr>\n",
       "      <th>0BRjO6ga9RKCKjfDqeFgWV</th>\n",
       "      <td>0.389</td>\n",
       "      <td>0.910</td>\n",
       "      <td>-1.828</td>\n",
       "      <td>0.0525</td>\n",
       "      <td>0.6110</td>\n",
       "      <td>0.000000</td>\n",
       "      <td>0.3460</td>\n",
       "      <td>0.816</td>\n",
       "      <td>166.969</td>\n",
       "      <td>99373</td>\n",
       "      <td>...</td>\n",
       "      <td>0</td>\n",
       "      <td>0</td>\n",
       "      <td>0</td>\n",
       "      <td>0</td>\n",
       "      <td>0</td>\n",
       "      <td>0</td>\n",
       "      <td>0</td>\n",
       "      <td>0</td>\n",
       "      <td>0</td>\n",
       "      <td>2009</td>\n",
       "    </tr>\n",
       "    <tr>\n",
       "      <th>0BjC1NfoEOOusryehmNudP</th>\n",
       "      <td>0.591</td>\n",
       "      <td>0.737</td>\n",
       "      <td>-5.559</td>\n",
       "      <td>0.0877</td>\n",
       "      <td>0.2460</td>\n",
       "      <td>0.000000</td>\n",
       "      <td>0.1510</td>\n",
       "      <td>0.815</td>\n",
       "      <td>174.003</td>\n",
       "      <td>137373</td>\n",
       "      <td>...</td>\n",
       "      <td>0</td>\n",
       "      <td>0</td>\n",
       "      <td>1</td>\n",
       "      <td>0</td>\n",
       "      <td>0</td>\n",
       "      <td>0</td>\n",
       "      <td>0</td>\n",
       "      <td>0</td>\n",
       "      <td>0</td>\n",
       "      <td>2015</td>\n",
       "    </tr>\n",
       "    <tr>\n",
       "      <th>0CoSDzoNIKCRs124s9uTVy</th>\n",
       "      <td>0.663</td>\n",
       "      <td>0.131</td>\n",
       "      <td>-13.879</td>\n",
       "      <td>0.0362</td>\n",
       "      <td>0.9520</td>\n",
       "      <td>0.000000</td>\n",
       "      <td>0.1030</td>\n",
       "      <td>0.368</td>\n",
       "      <td>99.488</td>\n",
       "      <td>170267</td>\n",
       "      <td>...</td>\n",
       "      <td>0</td>\n",
       "      <td>0</td>\n",
       "      <td>0</td>\n",
       "      <td>0</td>\n",
       "      <td>0</td>\n",
       "      <td>0</td>\n",
       "      <td>0</td>\n",
       "      <td>0</td>\n",
       "      <td>0</td>\n",
       "      <td>2008</td>\n",
       "    </tr>\n",
       "    <tr>\n",
       "      <th>0Gc6TVm52BwZD07Ki6tIvf</th>\n",
       "      <td>0.241</td>\n",
       "      <td>0.326</td>\n",
       "      <td>-12.178</td>\n",
       "      <td>0.0390</td>\n",
       "      <td>0.7030</td>\n",
       "      <td>0.000000</td>\n",
       "      <td>0.0985</td>\n",
       "      <td>0.226</td>\n",
       "      <td>171.782</td>\n",
       "      <td>152427</td>\n",
       "      <td>...</td>\n",
       "      <td>0</td>\n",
       "      <td>0</td>\n",
       "      <td>0</td>\n",
       "      <td>0</td>\n",
       "      <td>0</td>\n",
       "      <td>0</td>\n",
       "      <td>0</td>\n",
       "      <td>0</td>\n",
       "      <td>0</td>\n",
       "      <td>1998</td>\n",
       "    </tr>\n",
       "    <tr>\n",
       "      <th>0IuslXpMROHdEPvSl1fTQK</th>\n",
       "      <td>0.331</td>\n",
       "      <td>0.225</td>\n",
       "      <td>-21.150</td>\n",
       "      <td>0.0456</td>\n",
       "      <td>0.9500</td>\n",
       "      <td>0.123000</td>\n",
       "      <td>0.2020</td>\n",
       "      <td>0.390</td>\n",
       "      <td>140.576</td>\n",
       "      <td>82625</td>\n",
       "      <td>...</td>\n",
       "      <td>0</td>\n",
       "      <td>1</td>\n",
       "      <td>0</td>\n",
       "      <td>0</td>\n",
       "      <td>0</td>\n",
       "      <td>0</td>\n",
       "      <td>0</td>\n",
       "      <td>0</td>\n",
       "      <td>0</td>\n",
       "      <td>2017</td>\n",
       "    </tr>\n",
       "    <tr>\n",
       "      <th>...</th>\n",
       "      <td>...</td>\n",
       "      <td>...</td>\n",
       "      <td>...</td>\n",
       "      <td>...</td>\n",
       "      <td>...</td>\n",
       "      <td>...</td>\n",
       "      <td>...</td>\n",
       "      <td>...</td>\n",
       "      <td>...</td>\n",
       "      <td>...</td>\n",
       "      <td>...</td>\n",
       "      <td>...</td>\n",
       "      <td>...</td>\n",
       "      <td>...</td>\n",
       "      <td>...</td>\n",
       "      <td>...</td>\n",
       "      <td>...</td>\n",
       "      <td>...</td>\n",
       "      <td>...</td>\n",
       "      <td>...</td>\n",
       "      <td>...</td>\n",
       "    </tr>\n",
       "    <tr>\n",
       "      <th>2XoAEpBuM4AtQIQYUEowRy</th>\n",
       "      <td>0.611</td>\n",
       "      <td>0.493</td>\n",
       "      <td>-9.297</td>\n",
       "      <td>0.0354</td>\n",
       "      <td>0.1130</td>\n",
       "      <td>0.000000</td>\n",
       "      <td>0.1050</td>\n",
       "      <td>0.443</td>\n",
       "      <td>115.920</td>\n",
       "      <td>279510</td>\n",
       "      <td>...</td>\n",
       "      <td>0</td>\n",
       "      <td>0</td>\n",
       "      <td>0</td>\n",
       "      <td>0</td>\n",
       "      <td>0</td>\n",
       "      <td>0</td>\n",
       "      <td>0</td>\n",
       "      <td>0</td>\n",
       "      <td>0</td>\n",
       "      <td>2015</td>\n",
       "    </tr>\n",
       "    <tr>\n",
       "      <th>1U0OMWvR89Cm20vCNar50f</th>\n",
       "      <td>0.736</td>\n",
       "      <td>0.701</td>\n",
       "      <td>-4.345</td>\n",
       "      <td>0.1000</td>\n",
       "      <td>0.2310</td>\n",
       "      <td>0.000000</td>\n",
       "      <td>0.2030</td>\n",
       "      <td>0.770</td>\n",
       "      <td>99.991</td>\n",
       "      <td>222667</td>\n",
       "      <td>...</td>\n",
       "      <td>0</td>\n",
       "      <td>0</td>\n",
       "      <td>0</td>\n",
       "      <td>0</td>\n",
       "      <td>0</td>\n",
       "      <td>0</td>\n",
       "      <td>1</td>\n",
       "      <td>0</td>\n",
       "      <td>0</td>\n",
       "      <td>2008</td>\n",
       "    </tr>\n",
       "    <tr>\n",
       "      <th>2gGqKJWfWbToha2YmDxnnj</th>\n",
       "      <td>0.802</td>\n",
       "      <td>0.516</td>\n",
       "      <td>-9.014</td>\n",
       "      <td>0.2140</td>\n",
       "      <td>0.1040</td>\n",
       "      <td>0.000472</td>\n",
       "      <td>0.1050</td>\n",
       "      <td>0.482</td>\n",
       "      <td>175.663</td>\n",
       "      <td>201173</td>\n",
       "      <td>...</td>\n",
       "      <td>0</td>\n",
       "      <td>0</td>\n",
       "      <td>0</td>\n",
       "      <td>0</td>\n",
       "      <td>0</td>\n",
       "      <td>0</td>\n",
       "      <td>0</td>\n",
       "      <td>0</td>\n",
       "      <td>1</td>\n",
       "      <td>2017</td>\n",
       "    </tr>\n",
       "    <tr>\n",
       "      <th>1qWZdkBl4UVPj9lK6HuuFM</th>\n",
       "      <td>0.785</td>\n",
       "      <td>0.683</td>\n",
       "      <td>-6.944</td>\n",
       "      <td>0.0337</td>\n",
       "      <td>0.0329</td>\n",
       "      <td>0.000880</td>\n",
       "      <td>0.2370</td>\n",
       "      <td>0.969</td>\n",
       "      <td>113.830</td>\n",
       "      <td>282447</td>\n",
       "      <td>...</td>\n",
       "      <td>1</td>\n",
       "      <td>0</td>\n",
       "      <td>0</td>\n",
       "      <td>0</td>\n",
       "      <td>0</td>\n",
       "      <td>0</td>\n",
       "      <td>0</td>\n",
       "      <td>0</td>\n",
       "      <td>0</td>\n",
       "      <td>2015</td>\n",
       "    </tr>\n",
       "    <tr>\n",
       "      <th>34XO9RwPMKjbvRry54QzWn</th>\n",
       "      <td>0.769</td>\n",
       "      <td>0.449</td>\n",
       "      <td>-6.757</td>\n",
       "      <td>0.0282</td>\n",
       "      <td>0.0717</td>\n",
       "      <td>0.000053</td>\n",
       "      <td>0.0851</td>\n",
       "      <td>0.481</td>\n",
       "      <td>113.890</td>\n",
       "      <td>323027</td>\n",
       "      <td>...</td>\n",
       "      <td>0</td>\n",
       "      <td>0</td>\n",
       "      <td>0</td>\n",
       "      <td>0</td>\n",
       "      <td>1</td>\n",
       "      <td>0</td>\n",
       "      <td>0</td>\n",
       "      <td>0</td>\n",
       "      <td>0</td>\n",
       "      <td>2006</td>\n",
       "    </tr>\n",
       "  </tbody>\n",
       "</table>\n",
       "<p>146328 rows × 26 columns</p>\n",
       "</div>"
      ],
      "text/plain": [
       "                        danceability  energy  loudness  speechiness  \\\n",
       "0BRjO6ga9RKCKjfDqeFgWV         0.389   0.910    -1.828       0.0525   \n",
       "0BjC1NfoEOOusryehmNudP         0.591   0.737    -5.559       0.0877   \n",
       "0CoSDzoNIKCRs124s9uTVy         0.663   0.131   -13.879       0.0362   \n",
       "0Gc6TVm52BwZD07Ki6tIvf         0.241   0.326   -12.178       0.0390   \n",
       "0IuslXpMROHdEPvSl1fTQK         0.331   0.225   -21.150       0.0456   \n",
       "...                              ...     ...       ...          ...   \n",
       "2XoAEpBuM4AtQIQYUEowRy         0.611   0.493    -9.297       0.0354   \n",
       "1U0OMWvR89Cm20vCNar50f         0.736   0.701    -4.345       0.1000   \n",
       "2gGqKJWfWbToha2YmDxnnj         0.802   0.516    -9.014       0.2140   \n",
       "1qWZdkBl4UVPj9lK6HuuFM         0.785   0.683    -6.944       0.0337   \n",
       "34XO9RwPMKjbvRry54QzWn         0.769   0.449    -6.757       0.0282   \n",
       "\n",
       "                        acousticness  instrumentalness  liveness  valence  \\\n",
       "0BRjO6ga9RKCKjfDqeFgWV        0.6110          0.000000    0.3460    0.816   \n",
       "0BjC1NfoEOOusryehmNudP        0.2460          0.000000    0.1510    0.815   \n",
       "0CoSDzoNIKCRs124s9uTVy        0.9520          0.000000    0.1030    0.368   \n",
       "0Gc6TVm52BwZD07Ki6tIvf        0.7030          0.000000    0.0985    0.226   \n",
       "0IuslXpMROHdEPvSl1fTQK        0.9500          0.123000    0.2020    0.390   \n",
       "...                              ...               ...       ...      ...   \n",
       "2XoAEpBuM4AtQIQYUEowRy        0.1130          0.000000    0.1050    0.443   \n",
       "1U0OMWvR89Cm20vCNar50f        0.2310          0.000000    0.2030    0.770   \n",
       "2gGqKJWfWbToha2YmDxnnj        0.1040          0.000472    0.1050    0.482   \n",
       "1qWZdkBl4UVPj9lK6HuuFM        0.0329          0.000880    0.2370    0.969   \n",
       "34XO9RwPMKjbvRry54QzWn        0.0717          0.000053    0.0851    0.481   \n",
       "\n",
       "                          tempo  duration_ms  ...  key_4  key_5  key_6  key_7  \\\n",
       "0BRjO6ga9RKCKjfDqeFgWV  166.969        99373  ...      0      0      0      0   \n",
       "0BjC1NfoEOOusryehmNudP  174.003       137373  ...      0      0      1      0   \n",
       "0CoSDzoNIKCRs124s9uTVy   99.488       170267  ...      0      0      0      0   \n",
       "0Gc6TVm52BwZD07Ki6tIvf  171.782       152427  ...      0      0      0      0   \n",
       "0IuslXpMROHdEPvSl1fTQK  140.576        82625  ...      0      1      0      0   \n",
       "...                         ...          ...  ...    ...    ...    ...    ...   \n",
       "2XoAEpBuM4AtQIQYUEowRy  115.920       279510  ...      0      0      0      0   \n",
       "1U0OMWvR89Cm20vCNar50f   99.991       222667  ...      0      0      0      0   \n",
       "2gGqKJWfWbToha2YmDxnnj  175.663       201173  ...      0      0      0      0   \n",
       "1qWZdkBl4UVPj9lK6HuuFM  113.830       282447  ...      1      0      0      0   \n",
       "34XO9RwPMKjbvRry54QzWn  113.890       323027  ...      0      0      0      0   \n",
       "\n",
       "                        key_8  key_9  key_10  key_11  explicit  year  \n",
       "0BRjO6ga9RKCKjfDqeFgWV      0      0       0       0         0  2009  \n",
       "0BjC1NfoEOOusryehmNudP      0      0       0       0         0  2015  \n",
       "0CoSDzoNIKCRs124s9uTVy      0      0       0       0         0  2008  \n",
       "0Gc6TVm52BwZD07Ki6tIvf      0      0       0       0         0  1998  \n",
       "0IuslXpMROHdEPvSl1fTQK      0      0       0       0         0  2017  \n",
       "...                       ...    ...     ...     ...       ...   ...  \n",
       "2XoAEpBuM4AtQIQYUEowRy      0      0       0       0         0  2015  \n",
       "1U0OMWvR89Cm20vCNar50f      0      0       1       0         0  2008  \n",
       "2gGqKJWfWbToha2YmDxnnj      0      0       0       0         1  2017  \n",
       "1qWZdkBl4UVPj9lK6HuuFM      0      0       0       0         0  2015  \n",
       "34XO9RwPMKjbvRry54QzWn      1      0       0       0         0  2006  \n",
       "\n",
       "[146328 rows x 26 columns]"
      ]
     },
     "execution_count": 464,
     "metadata": {},
     "output_type": "execute_result"
    }
   ],
   "source": [
    "d2 = d2.merge(extra_features, left_index=True, right_index=True, how='inner')\n",
    "d2"
   ]
  },
  {
   "cell_type": "markdown",
   "id": "relative-worthy",
   "metadata": {},
   "source": [
    "- We should check if there are any simillar IDs in the final data set which will be used for testing."
   ]
  },
  {
   "cell_type": "code",
   "execution_count": 465,
   "id": "funny-fleet",
   "metadata": {},
   "outputs": [
    {
     "data": {
      "text/html": [
       "<div>\n",
       "<style scoped>\n",
       "    .dataframe tbody tr th:only-of-type {\n",
       "        vertical-align: middle;\n",
       "    }\n",
       "\n",
       "    .dataframe tbody tr th {\n",
       "        vertical-align: top;\n",
       "    }\n",
       "\n",
       "    .dataframe thead th {\n",
       "        text-align: right;\n",
       "    }\n",
       "</style>\n",
       "<table border=\"1\" class=\"dataframe\">\n",
       "  <thead>\n",
       "    <tr style=\"text-align: right;\">\n",
       "      <th></th>\n",
       "      <th>track_id</th>\n",
       "    </tr>\n",
       "  </thead>\n",
       "  <tbody>\n",
       "    <tr>\n",
       "      <th>0</th>\n",
       "      <td>7lPN2DXiMsVn7XUKtOW1CS</td>\n",
       "    </tr>\n",
       "    <tr>\n",
       "      <th>1</th>\n",
       "      <td>5QO79kh1waicV47BqGRL3g</td>\n",
       "    </tr>\n",
       "  </tbody>\n",
       "</table>\n",
       "</div>"
      ],
      "text/plain": [
       "                 track_id\n",
       "0  7lPN2DXiMsVn7XUKtOW1CS\n",
       "1  5QO79kh1waicV47BqGRL3g"
      ]
     },
     "execution_count": 465,
     "metadata": {},
     "output_type": "execute_result"
    }
   ],
   "source": [
    "final_test=pd.read_csv('spotify_ids.txt', header = None, names = ['track_id'])\n",
    "final_test.head(2)"
   ]
  },
  {
   "cell_type": "code",
   "execution_count": 466,
   "id": "successful-taxation",
   "metadata": {},
   "outputs": [],
   "source": [
    "excluded_ids=d2.index.isin(final_test['track_id'])"
   ]
  },
  {
   "cell_type": "code",
   "execution_count": 467,
   "id": "pressed-output",
   "metadata": {},
   "outputs": [],
   "source": [
    "d2=d2.loc[~excluded_ids]"
   ]
  },
  {
   "cell_type": "code",
   "execution_count": 468,
   "id": "wooden-opera",
   "metadata": {},
   "outputs": [
    {
     "data": {
      "text/plain": [
       "146269"
      ]
     },
     "execution_count": 468,
     "metadata": {},
     "output_type": "execute_result"
    }
   ],
   "source": [
    "len(d2)"
   ]
  },
  {
   "cell_type": "markdown",
   "id": "pacific-evanescence",
   "metadata": {},
   "source": [
    "- there were 59 simillar ids , so we removed them \n",
    "\n",
    "Lets start"
   ]
  },
  {
   "cell_type": "markdown",
   "id": "tested-principle",
   "metadata": {},
   "source": [
    "- First we split the data 80-20 Test to train"
   ]
  },
  {
   "cell_type": "code",
   "execution_count": 469,
   "id": "laden-equipment",
   "metadata": {},
   "outputs": [],
   "source": [
    "X_train, X_test, y_train, y_test = train_test_split(d2.drop(['valence'] , axis=1), \n",
    "                                                    d2['valence'], test_size = 0.2, random_state = 30)"
   ]
  },
  {
   "cell_type": "code",
   "execution_count": 470,
   "id": "agreed-worcester",
   "metadata": {},
   "outputs": [
    {
     "data": {
      "text/html": [
       "<div>\n",
       "<style scoped>\n",
       "    .dataframe tbody tr th:only-of-type {\n",
       "        vertical-align: middle;\n",
       "    }\n",
       "\n",
       "    .dataframe tbody tr th {\n",
       "        vertical-align: top;\n",
       "    }\n",
       "\n",
       "    .dataframe thead th {\n",
       "        text-align: right;\n",
       "    }\n",
       "</style>\n",
       "<table border=\"1\" class=\"dataframe\">\n",
       "  <thead>\n",
       "    <tr style=\"text-align: right;\">\n",
       "      <th></th>\n",
       "      <th>danceability</th>\n",
       "      <th>energy</th>\n",
       "      <th>loudness</th>\n",
       "      <th>speechiness</th>\n",
       "      <th>acousticness</th>\n",
       "      <th>instrumentalness</th>\n",
       "      <th>liveness</th>\n",
       "      <th>tempo</th>\n",
       "      <th>duration_ms</th>\n",
       "      <th>mode_1</th>\n",
       "      <th>...</th>\n",
       "      <th>key_4</th>\n",
       "      <th>key_5</th>\n",
       "      <th>key_6</th>\n",
       "      <th>key_7</th>\n",
       "      <th>key_8</th>\n",
       "      <th>key_9</th>\n",
       "      <th>key_10</th>\n",
       "      <th>key_11</th>\n",
       "      <th>explicit</th>\n",
       "      <th>year</th>\n",
       "    </tr>\n",
       "  </thead>\n",
       "  <tbody>\n",
       "    <tr>\n",
       "      <th>0HCqURLdYUv7jqz02kZHZ4</th>\n",
       "      <td>0.787</td>\n",
       "      <td>0.330</td>\n",
       "      <td>-14.013</td>\n",
       "      <td>0.0537</td>\n",
       "      <td>0.0814</td>\n",
       "      <td>0.045700</td>\n",
       "      <td>0.0662</td>\n",
       "      <td>79.917</td>\n",
       "      <td>230800</td>\n",
       "      <td>1</td>\n",
       "      <td>...</td>\n",
       "      <td>1</td>\n",
       "      <td>0</td>\n",
       "      <td>0</td>\n",
       "      <td>0</td>\n",
       "      <td>0</td>\n",
       "      <td>0</td>\n",
       "      <td>0</td>\n",
       "      <td>0</td>\n",
       "      <td>0</td>\n",
       "      <td>1989</td>\n",
       "    </tr>\n",
       "    <tr>\n",
       "      <th>512gC8sU5PxZAFrskHEfzk</th>\n",
       "      <td>0.500</td>\n",
       "      <td>0.638</td>\n",
       "      <td>-7.262</td>\n",
       "      <td>0.0461</td>\n",
       "      <td>0.1250</td>\n",
       "      <td>0.028500</td>\n",
       "      <td>0.1990</td>\n",
       "      <td>122.621</td>\n",
       "      <td>239267</td>\n",
       "      <td>1</td>\n",
       "      <td>...</td>\n",
       "      <td>0</td>\n",
       "      <td>0</td>\n",
       "      <td>0</td>\n",
       "      <td>0</td>\n",
       "      <td>0</td>\n",
       "      <td>0</td>\n",
       "      <td>0</td>\n",
       "      <td>0</td>\n",
       "      <td>0</td>\n",
       "      <td>1998</td>\n",
       "    </tr>\n",
       "    <tr>\n",
       "      <th>5QV4KuPpGvOzRobFNGYTkm</th>\n",
       "      <td>0.767</td>\n",
       "      <td>0.785</td>\n",
       "      <td>-7.335</td>\n",
       "      <td>0.2940</td>\n",
       "      <td>0.2530</td>\n",
       "      <td>0.000279</td>\n",
       "      <td>0.1200</td>\n",
       "      <td>132.051</td>\n",
       "      <td>145455</td>\n",
       "      <td>0</td>\n",
       "      <td>...</td>\n",
       "      <td>0</td>\n",
       "      <td>0</td>\n",
       "      <td>0</td>\n",
       "      <td>0</td>\n",
       "      <td>0</td>\n",
       "      <td>0</td>\n",
       "      <td>0</td>\n",
       "      <td>0</td>\n",
       "      <td>1</td>\n",
       "      <td>2018</td>\n",
       "    </tr>\n",
       "  </tbody>\n",
       "</table>\n",
       "<p>3 rows × 25 columns</p>\n",
       "</div>"
      ],
      "text/plain": [
       "                        danceability  energy  loudness  speechiness  \\\n",
       "0HCqURLdYUv7jqz02kZHZ4         0.787   0.330   -14.013       0.0537   \n",
       "512gC8sU5PxZAFrskHEfzk         0.500   0.638    -7.262       0.0461   \n",
       "5QV4KuPpGvOzRobFNGYTkm         0.767   0.785    -7.335       0.2940   \n",
       "\n",
       "                        acousticness  instrumentalness  liveness    tempo  \\\n",
       "0HCqURLdYUv7jqz02kZHZ4        0.0814          0.045700    0.0662   79.917   \n",
       "512gC8sU5PxZAFrskHEfzk        0.1250          0.028500    0.1990  122.621   \n",
       "5QV4KuPpGvOzRobFNGYTkm        0.2530          0.000279    0.1200  132.051   \n",
       "\n",
       "                        duration_ms  mode_1  ...  key_4  key_5  key_6  key_7  \\\n",
       "0HCqURLdYUv7jqz02kZHZ4       230800       1  ...      1      0      0      0   \n",
       "512gC8sU5PxZAFrskHEfzk       239267       1  ...      0      0      0      0   \n",
       "5QV4KuPpGvOzRobFNGYTkm       145455       0  ...      0      0      0      0   \n",
       "\n",
       "                        key_8  key_9  key_10  key_11  explicit  year  \n",
       "0HCqURLdYUv7jqz02kZHZ4      0      0       0       0         0  1989  \n",
       "512gC8sU5PxZAFrskHEfzk      0      0       0       0         0  1998  \n",
       "5QV4KuPpGvOzRobFNGYTkm      0      0       0       0         1  2018  \n",
       "\n",
       "[3 rows x 25 columns]"
      ]
     },
     "execution_count": 470,
     "metadata": {},
     "output_type": "execute_result"
    }
   ],
   "source": [
    "X_train.head(3)"
   ]
  },
  {
   "cell_type": "markdown",
   "id": "fatal-broadway",
   "metadata": {},
   "source": [
    "We use 5-k cross validation, we create 6 folds of observations of almost equal size, and we leave out one-fold each time, use the rest for model fitting and the one left out for prediction."
   ]
  },
  {
   "cell_type": "markdown",
   "id": "alleged-spray",
   "metadata": {},
   "source": [
    "### Decision Tree Regressor \n",
    "\n",
    "- **max_depthint**, default=None\n",
    "\n",
    "The maximum depth of the tree. If None, then nodes are expanded until all leaves are pure or until all leaves contain less than min_samples_split samples."
   ]
  },
  {
   "cell_type": "code",
   "execution_count": 471,
   "id": "excessive-acrylic",
   "metadata": {},
   "outputs": [
    {
     "name": "stdout",
     "output_type": "stream",
     "text": [
      "max_depth =  1 [0.25303104 0.25623693 0.24860419 0.25584181] 0.2534284914061047 0.0017593385492772958\n",
      "max_depth =  2 [0.34447682 0.35624413 0.34604062 0.35426748] 0.35025726257691847 0.0029314103158564232\n",
      "max_depth =  3 [0.3980139  0.4064202  0.39558428 0.4031974 ] 0.4008039450896097 0.0024545928190465864\n",
      "max_depth =  4 [0.431572   0.43688617 0.42904657 0.43585969] 0.4333411099467089 0.0018367439602767588\n",
      "max_depth =  5 [0.45526657 0.46502352 0.45194    0.45977455] 0.45800116267904273 0.0028383399987292122\n",
      "max_depth =  6 [0.47985333 0.48893782 0.47927303 0.48707922] 0.48378584650086653 0.0024701441769578152\n",
      "max_depth =  7 [0.49599706 0.50384528 0.49703624 0.50158466] 0.49961580951625173 0.0018599799255918142\n",
      "max_depth =  8 [0.50737893 0.51651229 0.51277106 0.51600406] 0.5131665849654979 0.002099571760635795\n",
      "max_depth =  9 [0.51717951 0.5253928  0.51838443 0.52365186] 0.521152150684886 0.00199319448485825\n",
      "max_depth =  10 [0.51517961 0.52553189 0.51673674 0.52326579] 0.5201785056605106 0.002500413984116979\n",
      "max_depth =  11 [0.50535172 0.51665173 0.51118371 0.51430821] 0.5118738406364403 0.0024455520182251945\n"
     ]
    }
   ],
   "source": [
    "from sklearn.model_selection import cross_val_score, KFold\n",
    "\n",
    "from scipy.stats import sem\n",
    "\n",
    "all_depths = []\n",
    "all_mean_scores = []\n",
    "\n",
    "for max_depth in range(1, 12):\n",
    "    all_depths.append(max_depth)\n",
    "    simple_tree = DecisionTreeRegressor(max_depth=max_depth)\n",
    "    cv = KFold(n_splits=4, shuffle=True, random_state=0)\n",
    "    scores = cross_val_score(simple_tree, X_train, y_train, cv=cv)\n",
    "    mean_score = np.mean(scores)\n",
    "    all_mean_scores.append(np.mean(scores))\n",
    "    print(\"max_depth = \", max_depth, scores, mean_score, sem(scores))"
   ]
  },
  {
   "cell_type": "code",
   "execution_count": 472,
   "id": "attended-opposition",
   "metadata": {},
   "outputs": [
    {
     "name": "stdout",
     "output_type": "stream",
     "text": [
      "Cross:  0.1456  \n",
      "Mean Absolute Error: 0.1464\n"
     ]
    }
   ],
   "source": [
    "tree= DecisionTreeRegressor(max_depth=9)\n",
    "tree.fit(X_train, y_train)\n",
    "\n",
    "predictions = tree.predict(X_test)\n",
    "\n",
    "scores =cross_val_score(tree, X_train, y_train,scoring=\"neg_mean_absolute_error\", cv=5)\n",
    "MAE_tree = mean_absolute_error(predictions, y_test)\n",
    "Cross_tree = np.mean(-scores)\n",
    "\n",
    "print('Cross: ', \"{:.4f}\".format(Cross_tree) , \" \\nMean Absolute Error:\", \"{:.4f}\".format(MAE_tree))\n"
   ]
  },
  {
   "cell_type": "markdown",
   "id": "intimate-relevance",
   "metadata": {},
   "source": [
    "##### Importance  features"
   ]
  },
  {
   "cell_type": "code",
   "execution_count": 473,
   "id": "noble-hardware",
   "metadata": {},
   "outputs": [
    {
     "name": "stdout",
     "output_type": "stream",
     "text": [
      "========== Importance Features ========== \n",
      "\n",
      "1. Variable 0 danceability (0.621941)\n",
      "2. Variable 1 energy (0.156975)\n",
      "3. Variable 24 year (0.067919)\n",
      "4. Variable 3 speechiness (0.039547)\n",
      "5. Variable 8 duration_ms (0.038969)\n",
      "6. Variable 7 tempo (0.024417)\n",
      "7. Variable 23 explicit (0.014180)\n",
      "8. Variable 5 instrumentalness (0.013187)\n",
      "9. Variable 4 acousticness (0.010066)\n",
      "10. Variable 2 loudness (0.006000)\n",
      "11. Variable 6 liveness (0.005169)\n",
      "12. Variable 9 mode_1 (0.000917)\n",
      "13. Variable 20 key_9 (0.000212)\n",
      "14. Variable 10 time_signature_4 (0.000153)\n",
      "15. Variable 16 key_5 (0.000102)\n",
      "16. Variable 18 key_7 (0.000077)\n",
      "17. Variable 12 key_1 (0.000062)\n",
      "18. Variable 17 key_6 (0.000055)\n",
      "19. Variable 21 key_10 (0.000052)\n",
      "20. Variable 11 time_signature_5 (0.000000)\n",
      "21. Variable 13 key_2 (0.000000)\n",
      "22. Variable 14 key_3 (0.000000)\n",
      "23. Variable 15 key_4 (0.000000)\n",
      "24. Variable 19 key_8 (0.000000)\n",
      "25. Variable 22 key_11 (0.000000)\n"
     ]
    }
   ],
   "source": [
    "from sklearn.tree import DecisionTreeRegressor\n",
    "\n",
    "# Importance  features\n",
    "importances = tree.feature_importances_\n",
    "indices = np.argsort(importances)[::-1]\n",
    "print('='*10,'Importance Features','='*10,'\\n')\n",
    "for f in range(X_train.shape[1]):\n",
    "    print(\"%d. Variable %d %s (%f)\" % (f + 1, indices[f], list(X_train.columns)[indices[f]], importances[indices[f]]))\n",
    "    "
   ]
  },
  {
   "cell_type": "code",
   "execution_count": 474,
   "id": "competent-automation",
   "metadata": {},
   "outputs": [
    {
     "data": {
      "image/png": "[encoded data removed]",
      "text/plain": [
       "<Figure size 1440x576 with 1 Axes>"
      ]
     },
     "metadata": {
      "needs_background": "light"
     },
     "output_type": "display_data"
    }
   ],
   "source": [
    "# Plot \n",
    "plt.figure(figsize=(20, 8))\n",
    "plt.title(\"Feature importances\")\n",
    "plt.bar(range(X_train.shape[1]), importances[indices],\n",
    "        tick_label=[list(X_train.columns)[x] for x in indices],\n",
    "        color=\"grey\",  align=\"center\")\n",
    "plt.xlim([-1, X.shape[1]])\n",
    "_ = plt.xticks(rotation=45)"
   ]
  },
  {
   "cell_type": "markdown",
   "id": "premium-sewing",
   "metadata": {},
   "source": [
    "- In Decision Tree Regression, danceability is the most significant feature in predicting valence of songs, then follows the energy."
   ]
  },
  {
   "cell_type": "markdown",
   "id": "induced-garage",
   "metadata": {},
   "source": [
    "### Xgboost\n",
    "\n",
    "- **max_depth** [default=6]:\n",
    "Maximum depth of a tree. Increasing this value will make the model more complex and more likely to overfit. 0 indicates no limit on depth. Beware that XGBoost aggressively consumes memory when training a deep tree. exact tree method requires non-zero value.\n",
    "range: [0,∞]\n",
    "\n",
    "\n",
    "- **colsample_bytree**:\n",
    "colsample_bytree is the subsample ratio of columns when constructing each tree. Subsampling occurs once for every tree constructed.\n",
    "\n",
    "- **reg**:\n",
    "squarederror: regression with squared loss.\n",
    "\n",
    "- **learning_rate**:\n",
    "The step size parameter of the gradient descent.\n",
    "\n",
    "- **n_estimators**:\n",
    "The number of decision trees\n"
   ]
  },
  {
   "cell_type": "code",
   "execution_count": null,
   "id": "dated-programming",
   "metadata": {},
   "outputs": [],
   "source": [
    "pip install xgboost"
   ]
  },
  {
   "cell_type": "code",
   "execution_count": 475,
   "id": "ignored-payroll",
   "metadata": {},
   "outputs": [],
   "source": [
    "import xgboost as xgb\n",
    "from xgboost import XGBRegressor"
   ]
  },
  {
   "cell_type": "markdown",
   "id": "prostate-montana",
   "metadata": {},
   "source": [
    "In order to find the best parameters you could execute the following part of code. Because it takes too many time , is not possible so it is commented"
   ]
  },
  {
   "cell_type": "code",
   "execution_count": 476,
   "id": "residential-syndrome",
   "metadata": {},
   "outputs": [],
   "source": [
    "#param_grid = {\n",
    "      #  'max_depth':[5, 7, 10],\n",
    "      #  'n_estimators':[300, 500, 1000],\n",
    "      #  'learning_rate': [0.01, 0.02, 0.04],\n",
    "       # 'colsample_bytree':[0.5, 0.7 ,0.8]}\n",
    "\n",
    "#xgb_regr = RandomizedSearchCV(xgb.XGBRegressor, param_grid, cv=4, scoring='neg_mean_absolute_error')\n",
    "#xgb_regr.fit(X_train, y_train)\n",
    "#print(\"Params: \" + str(xgb_regr.best_params_))\n",
    "#print(\"score: \" + str(-xgb_regr.best_score_))\n",
    "\n"
   ]
  },
  {
   "cell_type": "code",
   "execution_count": 478,
   "id": "allied-tuning",
   "metadata": {},
   "outputs": [
    {
     "name": "stdout",
     "output_type": "stream",
     "text": [
      "Mean Absolute Error: 0.1278\n"
     ]
    }
   ],
   "source": [
    "from xgboost import XGBRegressor\n",
    "xgb_reg = xgb.XGBRegressor(objective='reg:squarederror', colsample_bytree = 0.7,eval_metric= 'mae',learning_rate = 0.01, \n",
    "                        max_depth = 10, n_estimators = 1000)\n",
    "xgb_reg.fit(X_train, y_train)\n",
    "predictions = xgb_reg.predict(X_test)\n",
    "#scores =cross_val_score(xgb_reg, X_train, y_train,scoring=\"neg_mean_absolute_error\", cv=5)\n",
    "MAE = mean_absolute_error(predictions, y_test)\n",
    "#Cross = np.mean(-scores)\n",
    "\n",
    "print(\"Mean Absolute Error:\", \"{:.4f}\".format(MAE))\n",
    "\n",
    "#'Cross: ', \"{:.4f}\".format(Cross) , "
   ]
  },
  {
   "cell_type": "markdown",
   "id": "front-obligation",
   "metadata": {},
   "source": [
    "##### Importance  features"
   ]
  },
  {
   "cell_type": "code",
   "execution_count": 479,
   "id": "mediterranean-likelihood",
   "metadata": {},
   "outputs": [
    {
     "data": {
      "text/plain": [
       "Text(0.5, 0.98, 'XGBOOST')"
      ]
     },
     "execution_count": 479,
     "metadata": {},
     "output_type": "execute_result"
    },
    {
     "data": {
      "image/png": "[encoded data removed]",
      "text/plain": [
       "<Figure size 720x576 with 1 Axes>"
      ]
     },
     "metadata": {
      "needs_background": "light"
     },
     "output_type": "display_data"
    }
   ],
   "source": [
    "fig = plt.figure(figsize=(10, 8))\n",
    "xgb.plot_importance(xgb_reg, ax = fig.gca())\n",
    "fig.suptitle('XGBOOST')"
   ]
  },
  {
   "cell_type": "markdown",
   "id": "hazardous-batch",
   "metadata": {},
   "source": [
    "- In Xgboost , danceability & energy are the most significant features in predicting valence of songs, then follows loudness\n"
   ]
  },
  {
   "cell_type": "markdown",
   "id": "geological-ridge",
   "metadata": {},
   "source": [
    "### Random Forest\n",
    "\n",
    "- **n_estimatorsint**:\n",
    "The number of trees in the forest.\n",
    "\n",
    "- **min_samples_leafint**:\n",
    "The minimum number of samples required to be at a leaf node. \n",
    "\n",
    "- **max_depth**:\n",
    "The maximum depth of the tree. \n",
    "\n",
    "- **max_features**:\n",
    "The number of features to consider when looking for the best split"
   ]
  },
  {
   "cell_type": "markdown",
   "id": "increased-cotton",
   "metadata": {},
   "source": [
    "In order to find the best parameters you could execute the following part of code. Because it takes too many time , is not possible so it is commented"
   ]
  },
  {
   "cell_type": "code",
   "execution_count": 480,
   "id": "changed-simon",
   "metadata": {},
   "outputs": [],
   "source": [
    "#param_grid = {\n",
    "   # \"n_estimators\":[200,300,500],\n",
    "   # \"max_depth\":[10, 20, 50],\n",
    "    #\"max_features\":[6,8,10,12,14,16]\n",
    "    #'min_samples_leaf': [3, 5, 7]\n",
    "#}\n",
    "\n",
    "#rf_reg = RandomForestRegressor()\n",
    "\n",
    "#rf_reg_tuned = GridSearchCV(estimator=rf_reg,param_grid=param_grid,cv=3,n_jobs=-1,verbose=2)\n",
    "\n",
    "#rf_reg_tuned.fit(X_train, y_train)\n",
    "#rf_reg_tuned.best_estimator"
   ]
  },
  {
   "cell_type": "code",
   "execution_count": 481,
   "id": "floppy-distributor",
   "metadata": {},
   "outputs": [
    {
     "name": "stdout",
     "output_type": "stream",
     "text": [
      "Mean Absolute Error: 0.1310\n"
     ]
    }
   ],
   "source": [
    "from sklearn.ensemble import RandomForestRegressor\n",
    "\n",
    "random_forest = RandomForestRegressor(max_depth = 50, n_estimators = 500, max_features = 10, min_samples_leaf=5)\n",
    "random_forest.fit(X_train, y_train)\n",
    "predictions = random_forest.predict(X_test)\n",
    "\n",
    "#scores =cross_val_score(random_forest, X_train, y_train,scoring=\"neg_mean_absolute_error\", cv=5)\n",
    "MAE_rf = mean_absolute_error(predictions, y_test)\n",
    "#Cross_rf = np.mean(-scores)\n",
    "\n",
    "print(\"Mean Absolute Error:\", \"{:.4f}\".format(MAE_rf))\n",
    "#'Cross: ', \"{:.4f}\".format(Cross_rf) "
   ]
  },
  {
   "cell_type": "markdown",
   "id": "moral-confidence",
   "metadata": {},
   "source": [
    "##### Importance  features"
   ]
  },
  {
   "cell_type": "code",
   "execution_count": 482,
   "id": "alpha-handbook",
   "metadata": {},
   "outputs": [
    {
     "name": "stdout",
     "output_type": "stream",
     "text": [
      "1. feature 0 danceability (0.329553)\n",
      "2. feature 1 energy (0.173048)\n",
      "3. feature 2 loudness (0.080279)\n",
      "4. feature 4 acousticness (0.064894)\n",
      "5. feature 8 duration_ms (0.062676)\n",
      "6. feature 24 year (0.061300)\n",
      "7. feature 3 speechiness (0.060641)\n",
      "8. feature 7 tempo (0.052257)\n",
      "9. feature 5 instrumentalness (0.047150)\n",
      "10. feature 6 liveness (0.036417)\n",
      "11. feature 23 explicit (0.014871)\n",
      "12. feature 9 mode_1 (0.004116)\n",
      "13. feature 10 time_signature_4 (0.003771)\n",
      "14. feature 18 key_7 (0.001241)\n",
      "15. feature 12 key_1 (0.001199)\n",
      "16. feature 13 key_2 (0.001118)\n",
      "17. feature 20 key_9 (0.000980)\n",
      "18. feature 16 key_5 (0.000953)\n",
      "19. feature 15 key_4 (0.000721)\n",
      "20. feature 17 key_6 (0.000703)\n",
      "21. feature 22 key_11 (0.000688)\n",
      "22. feature 21 key_10 (0.000575)\n",
      "23. feature 19 key_8 (0.000535)\n"
     ]
    }
   ],
   "source": [
    "importances = random_forest.feature_importances_\n",
    "\n",
    "\n",
    "\n",
    "indices = np.argsort(importances)[::-1]\n",
    "\n",
    "for f in range(X.shape[1]):\n",
    "    print(\"%d. feature %d %s (%f)\" % (f + 1, indices[f], list(X_train.columns)[indices[f]], importances[indices[f]]))"
   ]
  },
  {
   "cell_type": "code",
   "execution_count": 483,
   "id": "geographic-matter",
   "metadata": {},
   "outputs": [
    {
     "data": {
      "image/png": "[encoded data removed]",
      "text/plain": [
       "<Figure size 1440x720 with 1 Axes>"
      ]
     },
     "metadata": {
      "needs_background": "light"
     },
     "output_type": "display_data"
    }
   ],
   "source": [
    "# Plot \n",
    "plt.figure(figsize=(20, 10))\n",
    "plt.title(\"Feature importances\")\n",
    "plt.bar(range(X_train.shape[1]), importances[indices],\n",
    "        tick_label=[list(X_train.columns)[x] for x in indices],\n",
    "        color=\"grey\", align=\"center\")\n",
    "plt.xlim([-1, X_train.shape[1]])\n",
    "_ = plt.xticks(rotation=45)"
   ]
  },
  {
   "cell_type": "markdown",
   "id": "average-removal",
   "metadata": {},
   "source": [
    "- In Random Forest , danceability is the most significant feature in predicting valence of songs, then follows energy"
   ]
  },
  {
   "cell_type": "markdown",
   "id": "controversial-small",
   "metadata": {},
   "source": [
    "### Catboost\n",
    "\n",
    "- **silent**:\n",
    "True- Do not output any logging information\n",
    "- **iterations**:\n",
    "n_estimators\n",
    "- **learning_rate**:\n",
    "The step size parameter of the gradient descent.\n",
    "\n",
    "- **depth**:\n",
    "the depth of a tree\n",
    "- **l2_leaf_reg**:\n",
    "Coefficient at the L2 regularization term of the cost function."
   ]
  },
  {
   "cell_type": "markdown",
   "id": "comic-alaska",
   "metadata": {},
   "source": [
    "In order to find the best parameters you could execute the following part of code. Because it takes too many time , is not possible so it is commented"
   ]
  },
  {
   "cell_type": "code",
   "execution_count": 484,
   "id": "spiritual-gothic",
   "metadata": {},
   "outputs": [],
   "source": [
    "# param_grid = {'iterations': [None, 300, 500, 1000],\n",
    "#         'learning_rate': [None, 0.01, 0.05, 0.7],\n",
    "#         'depth': [None, 6, 8, 10],\n",
    "#         'l2_leaf_reg': [None, 0.1, 0.2, 0.5]\n",
    "#         }\n",
    "\n",
    "# clf = GridSearchCV(cb_reg, param_grid , cv=cv , scoring =\"neg_mean_absolute_error\" )\n",
    "# clf =  clf.fit(X_train, y_train)\n",
    "# print(clf.best_estimator_)\n",
    "# print(clf.best_params_)\n",
    "\n"
   ]
  },
  {
   "cell_type": "code",
   "execution_count": 485,
   "id": "fundamental-manufacturer",
   "metadata": {},
   "outputs": [
    {
     "name": "stdout",
     "output_type": "stream",
     "text": [
      "Mean Absolute Error: 0.1310\n"
     ]
    }
   ],
   "source": [
    "import catboost as cb\n",
    "\n",
    "cb_reg = cb.CatBoostRegressor( silent = True,iterations=None,learning_rate=None,depth=None,l2_leaf_reg=None)\n",
    "cb_reg.fit(X_train, y_train)\n",
    "prediction = cb_reg.predict(X_test)\n",
    "#scores =cross_val_score(cb_reg , X_train, y_train,scoring=\"neg_mean_absolute_error\", cv=5)\n",
    "MAE_cat = mean_absolute_error(predictions, y_test)\n",
    "#Cross_cat = np.mean(-scores)\n",
    "\n",
    "print(\"Mean Absolute Error:\", \"{:.4f}\".format(MAE_cat))\n",
    "\n",
    "\n",
    "#Cross: ', \"{:.4f}\".format(Cross_cat)"
   ]
  },
  {
   "cell_type": "markdown",
   "id": "quick-joining",
   "metadata": {},
   "source": [
    "##### Importance  features"
   ]
  },
  {
   "cell_type": "code",
   "execution_count": 486,
   "id": "strong-wallet",
   "metadata": {},
   "outputs": [
    {
     "name": "stdout",
     "output_type": "stream",
     "text": [
      "1. feature 0 danceability (26.841803)\n",
      "2. feature 1 energy (21.192714)\n",
      "3. feature 24 year (9.599713)\n",
      "4. feature 3 speechiness (8.979065)\n",
      "5. feature 8 duration_ms (6.483696)\n",
      "6. feature 7 tempo (5.687209)\n",
      "7. feature 4 acousticness (5.036206)\n",
      "8. feature 5 instrumentalness (4.589653)\n",
      "9. feature 2 loudness (3.839945)\n",
      "10. feature 23 explicit (3.605264)\n",
      "11. feature 6 liveness (2.642659)\n",
      "12. feature 9 mode_1 (0.379932)\n",
      "13. feature 12 key_1 (0.178168)\n",
      "14. feature 13 key_2 (0.147964)\n",
      "15. feature 15 key_4 (0.134621)\n",
      "16. feature 16 key_5 (0.131587)\n",
      "17. feature 10 time_signature_4 (0.106142)\n",
      "18. feature 17 key_6 (0.101726)\n",
      "19. feature 19 key_8 (0.055604)\n",
      "20. feature 21 key_10 (0.054367)\n",
      "21. feature 14 key_3 (0.053816)\n",
      "22. feature 18 key_7 (0.050975)\n",
      "23. feature 22 key_11 (0.048400)\n"
     ]
    }
   ],
   "source": [
    "importances = cb_reg.feature_importances_\n",
    "\n",
    "\n",
    "\n",
    "indices = np.argsort(importances)[::-1]\n",
    "\n",
    "for f in range(X.shape[1]):\n",
    "    print(\"%d. feature %d %s (%f)\" % (f + 1, indices[f], list(X_train.columns)[indices[f]], importances[indices[f]]))"
   ]
  },
  {
   "cell_type": "code",
   "execution_count": 487,
   "id": "unlimited-invite",
   "metadata": {},
   "outputs": [
    {
     "data": {
      "image/png": "[encoded data removed]",
      "text/plain": [
       "<Figure size 1440x576 with 1 Axes>"
      ]
     },
     "metadata": {
      "needs_background": "light"
     },
     "output_type": "display_data"
    }
   ],
   "source": [
    "# Plot \n",
    "plt.figure(figsize=(20, 8))\n",
    "plt.title(\"Feature importances\")\n",
    "plt.bar(range(X_train.shape[1]), importances[indices],\n",
    "        tick_label=[list(X_train.columns)[x] for x in indices],\n",
    "        color=\"grey\", align=\"center\")\n",
    "plt.xlim([-1, X_train.shape[1]])\n",
    "_ = plt.xticks(rotation=45)"
   ]
  },
  {
   "cell_type": "markdown",
   "id": "motivated-generation",
   "metadata": {},
   "source": [
    "- In Catboost , danceability & energy are the most significant features in predicting valence of songs, then follows year of release"
   ]
  },
  {
   "cell_type": "markdown",
   "id": "physical-fiction",
   "metadata": {},
   "source": [
    "### Extra tree"
   ]
  },
  {
   "cell_type": "code",
   "execution_count": 488,
   "id": "bridal-twins",
   "metadata": {},
   "outputs": [],
   "source": [
    "# param_grid = {\n",
    "#  max_depth': [5, 7, 10]\n",
    "#  min_samples_leaf': [1, 3, 4],\n",
    "# 'min_samples_split': [2, 4, 6],\n",
    "# 'n_estimators': [300, 400, 500]\n",
    "#}"
   ]
  },
  {
   "cell_type": "code",
   "execution_count": 489,
   "id": "renewable-karma",
   "metadata": {},
   "outputs": [
    {
     "name": "stdout",
     "output_type": "stream",
     "text": [
      "Mean Absolute Error: 0.1315\n"
     ]
    }
   ],
   "source": [
    "from sklearn.ensemble import ExtraTreesRegressor\n",
    "\n",
    "extremely_rg = ExtraTreesRegressor(random_state=100, n_estimators=500 )\n",
    "extremely_rg.fit(X_train, y_train)\n",
    "predicted_extratree = extremely_rg.predict(X_test)\n",
    "# scores =cross_val_score(extremely_rg, X_train, y_train,scoring=\"neg_mean_absolute_error\", cv=5)\n",
    "MAE_ext = mean_absolute_error(predicted_extratree, y_test)\n",
    "# Cross = np.mean(-scores)\n",
    "\n",
    "print(\"Mean Absolute Error:\", \"{:.4f}\".format(MAE_ext))\n",
    "# 'Cross: ', \"{:.4f}\".format(Cross) , "
   ]
  },
  {
   "cell_type": "markdown",
   "id": "brief-evans",
   "metadata": {},
   "source": [
    "##### Importance  features"
   ]
  },
  {
   "cell_type": "code",
   "execution_count": 498,
   "id": "therapeutic-finance",
   "metadata": {},
   "outputs": [
    {
     "name": "stdout",
     "output_type": "stream",
     "text": [
      "1. feature 0 danceability (0.299105)\n",
      "2. feature 1 energy (0.159136)\n",
      "3. feature 24 year (0.062182)\n",
      "4. feature 4 acousticness (0.061443)\n",
      "5. feature 3 speechiness (0.051227)\n",
      "6. feature 2 loudness (0.050388)\n",
      "7. feature 8 duration_ms (0.049491)\n",
      "8. feature 5 instrumentalness (0.047967)\n",
      "9. feature 7 tempo (0.047435)\n",
      "10. feature 6 liveness (0.030327)\n",
      "11. feature 23 explicit (0.020259)\n",
      "12. feature 9 mode_1 (0.014588)\n",
      "13. feature 18 key_7 (0.010734)\n",
      "14. feature 13 key_2 (0.010120)\n",
      "15. feature 20 key_9 (0.009978)\n",
      "16. feature 12 key_1 (0.009658)\n",
      "17. feature 16 key_5 (0.009255)\n",
      "18. feature 15 key_4 (0.008742)\n",
      "19. feature 10 time_signature_4 (0.008669)\n",
      "20. feature 22 key_11 (0.008381)\n",
      "21. feature 17 key_6 (0.008119)\n",
      "22. feature 21 key_10 (0.007908)\n",
      "23. feature 19 key_8 (0.007877)\n"
     ]
    }
   ],
   "source": [
    "importances = extremely_rg .feature_importances_\n",
    "\n",
    "\n",
    "\n",
    "indices = np.argsort(importances)[::-1]\n",
    "\n",
    "for f in range(X.shape[1]):\n",
    "    print(\"%d. feature %d %s (%f)\" % (f + 1, indices[f], list(X_train.columns)[indices[f]], importances[indices[f]]))"
   ]
  },
  {
   "cell_type": "code",
   "execution_count": 499,
   "id": "proper-likelihood",
   "metadata": {},
   "outputs": [
    {
     "data": {
      "image/png": "[encoded data removed]",
      "text/plain": [
       "<Figure size 1440x576 with 1 Axes>"
      ]
     },
     "metadata": {
      "needs_background": "light"
     },
     "output_type": "display_data"
    }
   ],
   "source": [
    "# Plot \n",
    "plt.figure(figsize=(20, 8))\n",
    "plt.title(\"Feature importances\")\n",
    "plt.bar(range(X_train.shape[1]), importances[indices],\n",
    "        tick_label=[list(X_train.columns)[x] for x in indices],\n",
    "        color=\"grey\", align=\"center\")\n",
    "plt.xlim([-1, X_train.shape[1]])\n",
    "_ = plt.xticks(rotation=45)"
   ]
  },
  {
   "cell_type": "markdown",
   "id": "earlier-alberta",
   "metadata": {},
   "source": [
    "- In Extra Tree , danceability is the most significant feature in predicting valence of songs, then follows energy"
   ]
  },
  {
   "cell_type": "markdown",
   "id": "engaged-malpractice",
   "metadata": {},
   "source": [
    "**The best results were achieved with the Catboost & Xgboost** (applied 5-k cross validation)"
   ]
  },
  {
   "cell_type": "markdown",
   "id": "breeding-visit",
   "metadata": {},
   "source": [
    " ### Evaluation in another (out of sample) test dataset "
   ]
  },
  {
   "cell_type": "markdown",
   "id": "further-ethernet",
   "metadata": {},
   "source": [
    "We will use the same methods for ETL"
   ]
  },
  {
   "cell_type": "code",
   "execution_count": 9,
   "id": "spare-oklahoma",
   "metadata": {},
   "outputs": [],
   "source": [
    "test_songs = pd.read_csv('spotify_ids.txt', header = None, names = ['track_id'])"
   ]
  },
  {
   "cell_type": "code",
   "execution_count": 10,
   "id": "arbitrary-reasoning",
   "metadata": {},
   "outputs": [
    {
     "data": {
      "text/html": [
       "<div>\n",
       "<style scoped>\n",
       "    .dataframe tbody tr th:only-of-type {\n",
       "        vertical-align: middle;\n",
       "    }\n",
       "\n",
       "    .dataframe tbody tr th {\n",
       "        vertical-align: top;\n",
       "    }\n",
       "\n",
       "    .dataframe thead th {\n",
       "        text-align: right;\n",
       "    }\n",
       "</style>\n",
       "<table border=\"1\" class=\"dataframe\">\n",
       "  <thead>\n",
       "    <tr style=\"text-align: right;\">\n",
       "      <th></th>\n",
       "      <th>track_id</th>\n",
       "    </tr>\n",
       "  </thead>\n",
       "  <tbody>\n",
       "    <tr>\n",
       "      <th>0</th>\n",
       "      <td>7lPN2DXiMsVn7XUKtOW1CS</td>\n",
       "    </tr>\n",
       "    <tr>\n",
       "      <th>1</th>\n",
       "      <td>5QO79kh1waicV47BqGRL3g</td>\n",
       "    </tr>\n",
       "    <tr>\n",
       "      <th>2</th>\n",
       "      <td>0VjIjW4GlUZAMYd2vXMi3b</td>\n",
       "    </tr>\n",
       "  </tbody>\n",
       "</table>\n",
       "</div>"
      ],
      "text/plain": [
       "                 track_id\n",
       "0  7lPN2DXiMsVn7XUKtOW1CS\n",
       "1  5QO79kh1waicV47BqGRL3g\n",
       "2  0VjIjW4GlUZAMYd2vXMi3b"
      ]
     },
     "execution_count": 10,
     "metadata": {},
     "output_type": "execute_result"
    }
   ],
   "source": [
    "test_songs.head(3)"
   ]
  },
  {
   "cell_type": "code",
   "execution_count": 11,
   "id": "complete-forth",
   "metadata": {},
   "outputs": [
    {
     "data": {
      "text/plain": [
       "1162"
      ]
     },
     "execution_count": 11,
     "metadata": {},
     "output_type": "execute_result"
    }
   ],
   "source": [
    "len(test_songs)"
   ]
  },
  {
   "cell_type": "code",
   "execution_count": 12,
   "id": "moderate-doubt",
   "metadata": {},
   "outputs": [],
   "source": [
    "test_songs.drop_duplicates(subset='track_id', inplace=True)"
   ]
  },
  {
   "cell_type": "code",
   "execution_count": 504,
   "id": "incredible-mathematics",
   "metadata": {},
   "outputs": [],
   "source": [
    "client_credentials_manager = SpotifyClientCredentials('e6d084f421cf4399bc2df62483af93f9',\n",
    "                                                     '0927ed2942164a45abad9a72a5998bc0')\n",
    "sp = spotipy.Spotify(client_credentials_manager=client_credentials_manager)\n",
    "\n",
    "\n",
    "features = {}\n",
    "all_track_ids = list(test_songs['track_id'])\n",
    "\n",
    "\n",
    "def get_features(list_of_ids):\n",
    "    \n",
    "    features_func = {}\n",
    "    all_track_ids = list_of_ids \n",
    "\n",
    "    start = 0\n",
    "    num_tracks = 100\n",
    "    while start < len(all_track_ids):\n",
    "       \n",
    "        tracks_batch = all_track_ids[start:start+num_tracks]\n",
    "        features_batch = sp.audio_features(tracks_batch)\n",
    "        features_func.update({ track_id : track_features \n",
    "                        for track_id, track_features in zip(tracks_batch, features_batch) })\n",
    "        start += num_tracks\n",
    "    return features_func"
   ]
  },
  {
   "cell_type": "code",
   "execution_count": 505,
   "id": "bigger-faculty",
   "metadata": {},
   "outputs": [],
   "source": [
    "audio_features2 = get_features(all_track_ids)"
   ]
  },
  {
   "cell_type": "code",
   "execution_count": 506,
   "id": "twenty-stockholm",
   "metadata": {},
   "outputs": [
    {
     "data": {
      "text/html": [
       "<div>\n",
       "<style scoped>\n",
       "    .dataframe tbody tr th:only-of-type {\n",
       "        vertical-align: middle;\n",
       "    }\n",
       "\n",
       "    .dataframe tbody tr th {\n",
       "        vertical-align: top;\n",
       "    }\n",
       "\n",
       "    .dataframe thead th {\n",
       "        text-align: right;\n",
       "    }\n",
       "</style>\n",
       "<table border=\"1\" class=\"dataframe\">\n",
       "  <thead>\n",
       "    <tr style=\"text-align: right;\">\n",
       "      <th></th>\n",
       "      <th>danceability</th>\n",
       "      <th>energy</th>\n",
       "      <th>key</th>\n",
       "      <th>loudness</th>\n",
       "      <th>mode</th>\n",
       "      <th>speechiness</th>\n",
       "      <th>acousticness</th>\n",
       "      <th>instrumentalness</th>\n",
       "      <th>liveness</th>\n",
       "      <th>valence</th>\n",
       "      <th>tempo</th>\n",
       "      <th>type</th>\n",
       "      <th>id</th>\n",
       "      <th>uri</th>\n",
       "      <th>track_href</th>\n",
       "      <th>analysis_url</th>\n",
       "      <th>duration_ms</th>\n",
       "      <th>time_signature</th>\n",
       "    </tr>\n",
       "  </thead>\n",
       "  <tbody>\n",
       "    <tr>\n",
       "      <th>7lPN2DXiMsVn7XUKtOW1CS</th>\n",
       "      <td>0.585</td>\n",
       "      <td>0.436</td>\n",
       "      <td>10</td>\n",
       "      <td>-8.761</td>\n",
       "      <td>1</td>\n",
       "      <td>0.0601</td>\n",
       "      <td>0.7210</td>\n",
       "      <td>0.000013</td>\n",
       "      <td>0.105</td>\n",
       "      <td>0.132</td>\n",
       "      <td>143.874</td>\n",
       "      <td>audio_features</td>\n",
       "      <td>7lPN2DXiMsVn7XUKtOW1CS</td>\n",
       "      <td>spotify:track:7lPN2DXiMsVn7XUKtOW1CS</td>\n",
       "      <td>https://api.spotify.com/v1/tracks/7lPN2DXiMsVn...</td>\n",
       "      <td>https://api.spotify.com/v1/audio-analysis/7lPN...</td>\n",
       "      <td>242014</td>\n",
       "      <td>4</td>\n",
       "    </tr>\n",
       "    <tr>\n",
       "      <th>5QO79kh1waicV47BqGRL3g</th>\n",
       "      <td>0.680</td>\n",
       "      <td>0.826</td>\n",
       "      <td>0</td>\n",
       "      <td>-5.487</td>\n",
       "      <td>1</td>\n",
       "      <td>0.0309</td>\n",
       "      <td>0.0212</td>\n",
       "      <td>0.000012</td>\n",
       "      <td>0.543</td>\n",
       "      <td>0.644</td>\n",
       "      <td>118.051</td>\n",
       "      <td>audio_features</td>\n",
       "      <td>5QO79kh1waicV47BqGRL3g</td>\n",
       "      <td>spotify:track:5QO79kh1waicV47BqGRL3g</td>\n",
       "      <td>https://api.spotify.com/v1/tracks/5QO79kh1waic...</td>\n",
       "      <td>https://api.spotify.com/v1/audio-analysis/5QO7...</td>\n",
       "      <td>215627</td>\n",
       "      <td>4</td>\n",
       "    </tr>\n",
       "  </tbody>\n",
       "</table>\n",
       "</div>"
      ],
      "text/plain": [
       "                        danceability  energy  key  loudness  mode  \\\n",
       "7lPN2DXiMsVn7XUKtOW1CS         0.585   0.436   10    -8.761     1   \n",
       "5QO79kh1waicV47BqGRL3g         0.680   0.826    0    -5.487     1   \n",
       "\n",
       "                        speechiness  acousticness  instrumentalness  liveness  \\\n",
       "7lPN2DXiMsVn7XUKtOW1CS       0.0601        0.7210          0.000013     0.105   \n",
       "5QO79kh1waicV47BqGRL3g       0.0309        0.0212          0.000012     0.543   \n",
       "\n",
       "                        valence    tempo            type  \\\n",
       "7lPN2DXiMsVn7XUKtOW1CS    0.132  143.874  audio_features   \n",
       "5QO79kh1waicV47BqGRL3g    0.644  118.051  audio_features   \n",
       "\n",
       "                                            id  \\\n",
       "7lPN2DXiMsVn7XUKtOW1CS  7lPN2DXiMsVn7XUKtOW1CS   \n",
       "5QO79kh1waicV47BqGRL3g  5QO79kh1waicV47BqGRL3g   \n",
       "\n",
       "                                                         uri  \\\n",
       "7lPN2DXiMsVn7XUKtOW1CS  spotify:track:7lPN2DXiMsVn7XUKtOW1CS   \n",
       "5QO79kh1waicV47BqGRL3g  spotify:track:5QO79kh1waicV47BqGRL3g   \n",
       "\n",
       "                                                               track_href  \\\n",
       "7lPN2DXiMsVn7XUKtOW1CS  https://api.spotify.com/v1/tracks/7lPN2DXiMsVn...   \n",
       "5QO79kh1waicV47BqGRL3g  https://api.spotify.com/v1/tracks/5QO79kh1waic...   \n",
       "\n",
       "                                                             analysis_url  \\\n",
       "7lPN2DXiMsVn7XUKtOW1CS  https://api.spotify.com/v1/audio-analysis/7lPN...   \n",
       "5QO79kh1waicV47BqGRL3g  https://api.spotify.com/v1/audio-analysis/5QO7...   \n",
       "\n",
       "                        duration_ms  time_signature  \n",
       "7lPN2DXiMsVn7XUKtOW1CS       242014               4  \n",
       "5QO79kh1waicV47BqGRL3g       215627               4  "
      ]
     },
     "execution_count": 506,
     "metadata": {},
     "output_type": "execute_result"
    }
   ],
   "source": [
    "test_tracks= pd.DataFrame.from_dict(audio_features2, orient='index')\n",
    "test_tracks.head(2)"
   ]
  },
  {
   "cell_type": "code",
   "execution_count": 507,
   "id": "impossible-copying",
   "metadata": {
    "scrolled": false
   },
   "outputs": [],
   "source": [
    "test_tracks = test_tracks.drop(['type','id','uri','track_href','analysis_url'],axis=1)\n",
    "test_tracks= test_tracks[(test_tracks.time_signature >=3)]\n"
   ]
  },
  {
   "cell_type": "code",
   "execution_count": 508,
   "id": "loved-mouse",
   "metadata": {},
   "outputs": [
    {
     "data": {
      "text/html": [
       "<div>\n",
       "<style scoped>\n",
       "    .dataframe tbody tr th:only-of-type {\n",
       "        vertical-align: middle;\n",
       "    }\n",
       "\n",
       "    .dataframe tbody tr th {\n",
       "        vertical-align: top;\n",
       "    }\n",
       "\n",
       "    .dataframe thead th {\n",
       "        text-align: right;\n",
       "    }\n",
       "</style>\n",
       "<table border=\"1\" class=\"dataframe\">\n",
       "  <thead>\n",
       "    <tr style=\"text-align: right;\">\n",
       "      <th></th>\n",
       "      <th>danceability</th>\n",
       "      <th>energy</th>\n",
       "      <th>loudness</th>\n",
       "      <th>speechiness</th>\n",
       "      <th>acousticness</th>\n",
       "      <th>instrumentalness</th>\n",
       "      <th>liveness</th>\n",
       "      <th>valence</th>\n",
       "      <th>tempo</th>\n",
       "      <th>duration_ms</th>\n",
       "      <th>...</th>\n",
       "      <th>key_2</th>\n",
       "      <th>key_3</th>\n",
       "      <th>key_4</th>\n",
       "      <th>key_5</th>\n",
       "      <th>key_6</th>\n",
       "      <th>key_7</th>\n",
       "      <th>key_8</th>\n",
       "      <th>key_9</th>\n",
       "      <th>key_10</th>\n",
       "      <th>key_11</th>\n",
       "    </tr>\n",
       "  </thead>\n",
       "  <tbody>\n",
       "    <tr>\n",
       "      <th>7lPN2DXiMsVn7XUKtOW1CS</th>\n",
       "      <td>0.585</td>\n",
       "      <td>0.436</td>\n",
       "      <td>-8.761</td>\n",
       "      <td>0.0601</td>\n",
       "      <td>0.72100</td>\n",
       "      <td>0.000013</td>\n",
       "      <td>0.1050</td>\n",
       "      <td>0.132</td>\n",
       "      <td>143.874</td>\n",
       "      <td>242014</td>\n",
       "      <td>...</td>\n",
       "      <td>0</td>\n",
       "      <td>0</td>\n",
       "      <td>0</td>\n",
       "      <td>0</td>\n",
       "      <td>0</td>\n",
       "      <td>0</td>\n",
       "      <td>0</td>\n",
       "      <td>0</td>\n",
       "      <td>1</td>\n",
       "      <td>0</td>\n",
       "    </tr>\n",
       "    <tr>\n",
       "      <th>5QO79kh1waicV47BqGRL3g</th>\n",
       "      <td>0.680</td>\n",
       "      <td>0.826</td>\n",
       "      <td>-5.487</td>\n",
       "      <td>0.0309</td>\n",
       "      <td>0.02120</td>\n",
       "      <td>0.000012</td>\n",
       "      <td>0.5430</td>\n",
       "      <td>0.644</td>\n",
       "      <td>118.051</td>\n",
       "      <td>215627</td>\n",
       "      <td>...</td>\n",
       "      <td>0</td>\n",
       "      <td>0</td>\n",
       "      <td>0</td>\n",
       "      <td>0</td>\n",
       "      <td>0</td>\n",
       "      <td>0</td>\n",
       "      <td>0</td>\n",
       "      <td>0</td>\n",
       "      <td>0</td>\n",
       "      <td>0</td>\n",
       "    </tr>\n",
       "    <tr>\n",
       "      <th>0VjIjW4GlUZAMYd2vXMi3b</th>\n",
       "      <td>0.514</td>\n",
       "      <td>0.730</td>\n",
       "      <td>-5.934</td>\n",
       "      <td>0.0598</td>\n",
       "      <td>0.00146</td>\n",
       "      <td>0.000095</td>\n",
       "      <td>0.0897</td>\n",
       "      <td>0.334</td>\n",
       "      <td>171.005</td>\n",
       "      <td>200040</td>\n",
       "      <td>...</td>\n",
       "      <td>0</td>\n",
       "      <td>0</td>\n",
       "      <td>0</td>\n",
       "      <td>0</td>\n",
       "      <td>0</td>\n",
       "      <td>0</td>\n",
       "      <td>0</td>\n",
       "      <td>0</td>\n",
       "      <td>0</td>\n",
       "      <td>0</td>\n",
       "    </tr>\n",
       "  </tbody>\n",
       "</table>\n",
       "<p>3 rows × 24 columns</p>\n",
       "</div>"
      ],
      "text/plain": [
       "                        danceability  energy  loudness  speechiness  \\\n",
       "7lPN2DXiMsVn7XUKtOW1CS         0.585   0.436    -8.761       0.0601   \n",
       "5QO79kh1waicV47BqGRL3g         0.680   0.826    -5.487       0.0309   \n",
       "0VjIjW4GlUZAMYd2vXMi3b         0.514   0.730    -5.934       0.0598   \n",
       "\n",
       "                        acousticness  instrumentalness  liveness  valence  \\\n",
       "7lPN2DXiMsVn7XUKtOW1CS       0.72100          0.000013    0.1050    0.132   \n",
       "5QO79kh1waicV47BqGRL3g       0.02120          0.000012    0.5430    0.644   \n",
       "0VjIjW4GlUZAMYd2vXMi3b       0.00146          0.000095    0.0897    0.334   \n",
       "\n",
       "                          tempo  duration_ms  ...  key_2  key_3  key_4  key_5  \\\n",
       "7lPN2DXiMsVn7XUKtOW1CS  143.874       242014  ...      0      0      0      0   \n",
       "5QO79kh1waicV47BqGRL3g  118.051       215627  ...      0      0      0      0   \n",
       "0VjIjW4GlUZAMYd2vXMi3b  171.005       200040  ...      0      0      0      0   \n",
       "\n",
       "                        key_6  key_7  key_8  key_9  key_10  key_11  \n",
       "7lPN2DXiMsVn7XUKtOW1CS      0      0      0      0       1       0  \n",
       "5QO79kh1waicV47BqGRL3g      0      0      0      0       0       0  \n",
       "0VjIjW4GlUZAMYd2vXMi3b      0      0      0      0       0       0  \n",
       "\n",
       "[3 rows x 24 columns]"
      ]
     },
     "execution_count": 508,
     "metadata": {},
     "output_type": "execute_result"
    }
   ],
   "source": [
    "mode_dummies2 = pd.get_dummies(test_tracks['mode'], prefix='mode', drop_first=True)\n",
    "test_tracks.drop(columns='mode', inplace=True)\n",
    "test_tracks = test_tracks.join(mode_dummies2)\n",
    "\n",
    "mode_dummies2 = pd.get_dummies(test_tracks['time_signature'], prefix='time_signature', drop_first=True)\n",
    "test_tracks.drop(columns='time_signature', inplace=True)\n",
    "test_tracks = test_tracks.join(mode_dummies2)\n",
    "\n",
    "\n",
    "mode_dummies2 = pd.get_dummies(test_tracks['key'], prefix='key', drop_first=True)\n",
    "test_tracks.drop(columns='key', inplace=True)\n",
    "test_tracks = test_tracks.join(mode_dummies2)\n",
    "test_tracks.head(3)\n"
   ]
  },
  {
   "cell_type": "code",
   "execution_count": 509,
   "id": "temporal-mayor",
   "metadata": {},
   "outputs": [],
   "source": [
    "track_features_test = get_track_features(all_track_ids)"
   ]
  },
  {
   "cell_type": "code",
   "execution_count": 510,
   "id": "broken-serum",
   "metadata": {},
   "outputs": [
    {
     "data": {
      "text/html": [
       "<div>\n",
       "<style scoped>\n",
       "    .dataframe tbody tr th:only-of-type {\n",
       "        vertical-align: middle;\n",
       "    }\n",
       "\n",
       "    .dataframe tbody tr th {\n",
       "        vertical-align: top;\n",
       "    }\n",
       "\n",
       "    .dataframe thead th {\n",
       "        text-align: right;\n",
       "    }\n",
       "</style>\n",
       "<table border=\"1\" class=\"dataframe\">\n",
       "  <thead>\n",
       "    <tr style=\"text-align: right;\">\n",
       "      <th></th>\n",
       "      <th>danceability</th>\n",
       "      <th>energy</th>\n",
       "      <th>loudness</th>\n",
       "      <th>speechiness</th>\n",
       "      <th>acousticness</th>\n",
       "      <th>instrumentalness</th>\n",
       "      <th>liveness</th>\n",
       "      <th>valence</th>\n",
       "      <th>tempo</th>\n",
       "      <th>duration_ms</th>\n",
       "      <th>...</th>\n",
       "      <th>key_4</th>\n",
       "      <th>key_5</th>\n",
       "      <th>key_6</th>\n",
       "      <th>key_7</th>\n",
       "      <th>key_8</th>\n",
       "      <th>key_9</th>\n",
       "      <th>key_10</th>\n",
       "      <th>key_11</th>\n",
       "      <th>explicit</th>\n",
       "      <th>year</th>\n",
       "    </tr>\n",
       "  </thead>\n",
       "  <tbody>\n",
       "    <tr>\n",
       "      <th>7lPN2DXiMsVn7XUKtOW1CS</th>\n",
       "      <td>0.585</td>\n",
       "      <td>0.436</td>\n",
       "      <td>-8.761</td>\n",
       "      <td>0.0601</td>\n",
       "      <td>0.72100</td>\n",
       "      <td>0.000013</td>\n",
       "      <td>0.1050</td>\n",
       "      <td>0.132</td>\n",
       "      <td>143.874</td>\n",
       "      <td>242014</td>\n",
       "      <td>...</td>\n",
       "      <td>0</td>\n",
       "      <td>0</td>\n",
       "      <td>0</td>\n",
       "      <td>0</td>\n",
       "      <td>0</td>\n",
       "      <td>0</td>\n",
       "      <td>1</td>\n",
       "      <td>0</td>\n",
       "      <td>1</td>\n",
       "      <td>2021</td>\n",
       "    </tr>\n",
       "    <tr>\n",
       "      <th>5QO79kh1waicV47BqGRL3g</th>\n",
       "      <td>0.680</td>\n",
       "      <td>0.826</td>\n",
       "      <td>-5.487</td>\n",
       "      <td>0.0309</td>\n",
       "      <td>0.02120</td>\n",
       "      <td>0.000012</td>\n",
       "      <td>0.5430</td>\n",
       "      <td>0.644</td>\n",
       "      <td>118.051</td>\n",
       "      <td>215627</td>\n",
       "      <td>...</td>\n",
       "      <td>0</td>\n",
       "      <td>0</td>\n",
       "      <td>0</td>\n",
       "      <td>0</td>\n",
       "      <td>0</td>\n",
       "      <td>0</td>\n",
       "      <td>0</td>\n",
       "      <td>0</td>\n",
       "      <td>1</td>\n",
       "      <td>2020</td>\n",
       "    </tr>\n",
       "    <tr>\n",
       "      <th>0VjIjW4GlUZAMYd2vXMi3b</th>\n",
       "      <td>0.514</td>\n",
       "      <td>0.730</td>\n",
       "      <td>-5.934</td>\n",
       "      <td>0.0598</td>\n",
       "      <td>0.00146</td>\n",
       "      <td>0.000095</td>\n",
       "      <td>0.0897</td>\n",
       "      <td>0.334</td>\n",
       "      <td>171.005</td>\n",
       "      <td>200040</td>\n",
       "      <td>...</td>\n",
       "      <td>0</td>\n",
       "      <td>0</td>\n",
       "      <td>0</td>\n",
       "      <td>0</td>\n",
       "      <td>0</td>\n",
       "      <td>0</td>\n",
       "      <td>0</td>\n",
       "      <td>0</td>\n",
       "      <td>0</td>\n",
       "      <td>2020</td>\n",
       "    </tr>\n",
       "    <tr>\n",
       "      <th>4MzXwWMhyBbmu6hOcLVD49</th>\n",
       "      <td>0.731</td>\n",
       "      <td>0.573</td>\n",
       "      <td>-10.059</td>\n",
       "      <td>0.0544</td>\n",
       "      <td>0.40100</td>\n",
       "      <td>0.000052</td>\n",
       "      <td>0.1130</td>\n",
       "      <td>0.145</td>\n",
       "      <td>109.928</td>\n",
       "      <td>205090</td>\n",
       "      <td>...</td>\n",
       "      <td>1</td>\n",
       "      <td>0</td>\n",
       "      <td>0</td>\n",
       "      <td>0</td>\n",
       "      <td>0</td>\n",
       "      <td>0</td>\n",
       "      <td>0</td>\n",
       "      <td>0</td>\n",
       "      <td>1</td>\n",
       "      <td>2020</td>\n",
       "    </tr>\n",
       "    <tr>\n",
       "      <th>5Kskr9LcNYa0tpt5f0ZEJx</th>\n",
       "      <td>0.907</td>\n",
       "      <td>0.393</td>\n",
       "      <td>-7.636</td>\n",
       "      <td>0.0539</td>\n",
       "      <td>0.45100</td>\n",
       "      <td>0.000001</td>\n",
       "      <td>0.1350</td>\n",
       "      <td>0.202</td>\n",
       "      <td>104.949</td>\n",
       "      <td>205458</td>\n",
       "      <td>...</td>\n",
       "      <td>1</td>\n",
       "      <td>0</td>\n",
       "      <td>0</td>\n",
       "      <td>0</td>\n",
       "      <td>0</td>\n",
       "      <td>0</td>\n",
       "      <td>0</td>\n",
       "      <td>0</td>\n",
       "      <td>1</td>\n",
       "      <td>2021</td>\n",
       "    </tr>\n",
       "    <tr>\n",
       "      <th>...</th>\n",
       "      <td>...</td>\n",
       "      <td>...</td>\n",
       "      <td>...</td>\n",
       "      <td>...</td>\n",
       "      <td>...</td>\n",
       "      <td>...</td>\n",
       "      <td>...</td>\n",
       "      <td>...</td>\n",
       "      <td>...</td>\n",
       "      <td>...</td>\n",
       "      <td>...</td>\n",
       "      <td>...</td>\n",
       "      <td>...</td>\n",
       "      <td>...</td>\n",
       "      <td>...</td>\n",
       "      <td>...</td>\n",
       "      <td>...</td>\n",
       "      <td>...</td>\n",
       "      <td>...</td>\n",
       "      <td>...</td>\n",
       "      <td>...</td>\n",
       "    </tr>\n",
       "    <tr>\n",
       "      <th>4lUmnwRybYH7mMzf16xB0y</th>\n",
       "      <td>0.596</td>\n",
       "      <td>0.650</td>\n",
       "      <td>-5.167</td>\n",
       "      <td>0.3370</td>\n",
       "      <td>0.13800</td>\n",
       "      <td>0.000000</td>\n",
       "      <td>0.1400</td>\n",
       "      <td>0.188</td>\n",
       "      <td>133.997</td>\n",
       "      <td>257428</td>\n",
       "      <td>...</td>\n",
       "      <td>0</td>\n",
       "      <td>0</td>\n",
       "      <td>0</td>\n",
       "      <td>0</td>\n",
       "      <td>0</td>\n",
       "      <td>1</td>\n",
       "      <td>0</td>\n",
       "      <td>0</td>\n",
       "      <td>1</td>\n",
       "      <td>2021</td>\n",
       "    </tr>\n",
       "    <tr>\n",
       "      <th>1fzf9Aad4y1RWrmwosAK5y</th>\n",
       "      <td>0.588</td>\n",
       "      <td>0.850</td>\n",
       "      <td>-6.431</td>\n",
       "      <td>0.0318</td>\n",
       "      <td>0.16800</td>\n",
       "      <td>0.002020</td>\n",
       "      <td>0.0465</td>\n",
       "      <td>0.768</td>\n",
       "      <td>93.003</td>\n",
       "      <td>187310</td>\n",
       "      <td>...</td>\n",
       "      <td>1</td>\n",
       "      <td>0</td>\n",
       "      <td>0</td>\n",
       "      <td>0</td>\n",
       "      <td>0</td>\n",
       "      <td>0</td>\n",
       "      <td>0</td>\n",
       "      <td>0</td>\n",
       "      <td>0</td>\n",
       "      <td>2021</td>\n",
       "    </tr>\n",
       "    <tr>\n",
       "      <th>3E3pb3qH11iny6TFDJvsg5</th>\n",
       "      <td>0.754</td>\n",
       "      <td>0.660</td>\n",
       "      <td>-6.811</td>\n",
       "      <td>0.2670</td>\n",
       "      <td>0.17900</td>\n",
       "      <td>0.000000</td>\n",
       "      <td>0.1940</td>\n",
       "      <td>0.316</td>\n",
       "      <td>83.000</td>\n",
       "      <td>209299</td>\n",
       "      <td>...</td>\n",
       "      <td>0</td>\n",
       "      <td>0</td>\n",
       "      <td>0</td>\n",
       "      <td>0</td>\n",
       "      <td>0</td>\n",
       "      <td>0</td>\n",
       "      <td>0</td>\n",
       "      <td>0</td>\n",
       "      <td>1</td>\n",
       "      <td>2021</td>\n",
       "    </tr>\n",
       "    <tr>\n",
       "      <th>3yTkoTuiKRGL2VAlQd7xsC</th>\n",
       "      <td>0.584</td>\n",
       "      <td>0.836</td>\n",
       "      <td>-4.925</td>\n",
       "      <td>0.0790</td>\n",
       "      <td>0.05580</td>\n",
       "      <td>0.000000</td>\n",
       "      <td>0.0663</td>\n",
       "      <td>0.484</td>\n",
       "      <td>104.973</td>\n",
       "      <td>202204</td>\n",
       "      <td>...</td>\n",
       "      <td>0</td>\n",
       "      <td>0</td>\n",
       "      <td>0</td>\n",
       "      <td>0</td>\n",
       "      <td>0</td>\n",
       "      <td>0</td>\n",
       "      <td>0</td>\n",
       "      <td>0</td>\n",
       "      <td>0</td>\n",
       "      <td>2021</td>\n",
       "    </tr>\n",
       "    <tr>\n",
       "      <th>4JE6agBLHGA5TaF6FlqfBD</th>\n",
       "      <td>0.331</td>\n",
       "      <td>0.450</td>\n",
       "      <td>-5.362</td>\n",
       "      <td>0.0340</td>\n",
       "      <td>0.36500</td>\n",
       "      <td>0.004640</td>\n",
       "      <td>0.2200</td>\n",
       "      <td>0.180</td>\n",
       "      <td>123.829</td>\n",
       "      <td>218755</td>\n",
       "      <td>...</td>\n",
       "      <td>0</td>\n",
       "      <td>0</td>\n",
       "      <td>0</td>\n",
       "      <td>0</td>\n",
       "      <td>0</td>\n",
       "      <td>0</td>\n",
       "      <td>1</td>\n",
       "      <td>0</td>\n",
       "      <td>0</td>\n",
       "      <td>2017</td>\n",
       "    </tr>\n",
       "  </tbody>\n",
       "</table>\n",
       "<p>1156 rows × 26 columns</p>\n",
       "</div>"
      ],
      "text/plain": [
       "                        danceability  energy  loudness  speechiness  \\\n",
       "7lPN2DXiMsVn7XUKtOW1CS         0.585   0.436    -8.761       0.0601   \n",
       "5QO79kh1waicV47BqGRL3g         0.680   0.826    -5.487       0.0309   \n",
       "0VjIjW4GlUZAMYd2vXMi3b         0.514   0.730    -5.934       0.0598   \n",
       "4MzXwWMhyBbmu6hOcLVD49         0.731   0.573   -10.059       0.0544   \n",
       "5Kskr9LcNYa0tpt5f0ZEJx         0.907   0.393    -7.636       0.0539   \n",
       "...                              ...     ...       ...          ...   \n",
       "4lUmnwRybYH7mMzf16xB0y         0.596   0.650    -5.167       0.3370   \n",
       "1fzf9Aad4y1RWrmwosAK5y         0.588   0.850    -6.431       0.0318   \n",
       "3E3pb3qH11iny6TFDJvsg5         0.754   0.660    -6.811       0.2670   \n",
       "3yTkoTuiKRGL2VAlQd7xsC         0.584   0.836    -4.925       0.0790   \n",
       "4JE6agBLHGA5TaF6FlqfBD         0.331   0.450    -5.362       0.0340   \n",
       "\n",
       "                        acousticness  instrumentalness  liveness  valence  \\\n",
       "7lPN2DXiMsVn7XUKtOW1CS       0.72100          0.000013    0.1050    0.132   \n",
       "5QO79kh1waicV47BqGRL3g       0.02120          0.000012    0.5430    0.644   \n",
       "0VjIjW4GlUZAMYd2vXMi3b       0.00146          0.000095    0.0897    0.334   \n",
       "4MzXwWMhyBbmu6hOcLVD49       0.40100          0.000052    0.1130    0.145   \n",
       "5Kskr9LcNYa0tpt5f0ZEJx       0.45100          0.000001    0.1350    0.202   \n",
       "...                              ...               ...       ...      ...   \n",
       "4lUmnwRybYH7mMzf16xB0y       0.13800          0.000000    0.1400    0.188   \n",
       "1fzf9Aad4y1RWrmwosAK5y       0.16800          0.002020    0.0465    0.768   \n",
       "3E3pb3qH11iny6TFDJvsg5       0.17900          0.000000    0.1940    0.316   \n",
       "3yTkoTuiKRGL2VAlQd7xsC       0.05580          0.000000    0.0663    0.484   \n",
       "4JE6agBLHGA5TaF6FlqfBD       0.36500          0.004640    0.2200    0.180   \n",
       "\n",
       "                          tempo  duration_ms  ...  key_4  key_5  key_6  key_7  \\\n",
       "7lPN2DXiMsVn7XUKtOW1CS  143.874       242014  ...      0      0      0      0   \n",
       "5QO79kh1waicV47BqGRL3g  118.051       215627  ...      0      0      0      0   \n",
       "0VjIjW4GlUZAMYd2vXMi3b  171.005       200040  ...      0      0      0      0   \n",
       "4MzXwWMhyBbmu6hOcLVD49  109.928       205090  ...      1      0      0      0   \n",
       "5Kskr9LcNYa0tpt5f0ZEJx  104.949       205458  ...      1      0      0      0   \n",
       "...                         ...          ...  ...    ...    ...    ...    ...   \n",
       "4lUmnwRybYH7mMzf16xB0y  133.997       257428  ...      0      0      0      0   \n",
       "1fzf9Aad4y1RWrmwosAK5y   93.003       187310  ...      1      0      0      0   \n",
       "3E3pb3qH11iny6TFDJvsg5   83.000       209299  ...      0      0      0      0   \n",
       "3yTkoTuiKRGL2VAlQd7xsC  104.973       202204  ...      0      0      0      0   \n",
       "4JE6agBLHGA5TaF6FlqfBD  123.829       218755  ...      0      0      0      0   \n",
       "\n",
       "                        key_8  key_9  key_10  key_11  explicit  year  \n",
       "7lPN2DXiMsVn7XUKtOW1CS      0      0       1       0         1  2021  \n",
       "5QO79kh1waicV47BqGRL3g      0      0       0       0         1  2020  \n",
       "0VjIjW4GlUZAMYd2vXMi3b      0      0       0       0         0  2020  \n",
       "4MzXwWMhyBbmu6hOcLVD49      0      0       0       0         1  2020  \n",
       "5Kskr9LcNYa0tpt5f0ZEJx      0      0       0       0         1  2021  \n",
       "...                       ...    ...     ...     ...       ...   ...  \n",
       "4lUmnwRybYH7mMzf16xB0y      0      1       0       0         1  2021  \n",
       "1fzf9Aad4y1RWrmwosAK5y      0      0       0       0         0  2021  \n",
       "3E3pb3qH11iny6TFDJvsg5      0      0       0       0         1  2021  \n",
       "3yTkoTuiKRGL2VAlQd7xsC      0      0       0       0         0  2021  \n",
       "4JE6agBLHGA5TaF6FlqfBD      0      0       1       0         0  2017  \n",
       "\n",
       "[1156 rows x 26 columns]"
      ]
     },
     "execution_count": 510,
     "metadata": {},
     "output_type": "execute_result"
    }
   ],
   "source": [
    "extra_features_test= pd.DataFrame.from_dict(track_features_test, orient='index')\n",
    "extra_features_test['year'] = extra_features_test['release_date'].apply(lambda x: int(x[0:4]))\n",
    "extra_features_test.drop(columns='release_date', inplace=True)\n",
    "\n",
    "extra_features_test['explicit'] = np.where(extra_features_test['explicit'] == True, 1, 0)\n",
    "\n",
    "test_tracks = test_tracks.merge(extra_features_test, left_index=True, right_index=True, how='inner')\n",
    "test_tracks"
   ]
  },
  {
   "cell_type": "code",
   "execution_count": 511,
   "id": "structured-outside",
   "metadata": {},
   "outputs": [],
   "source": [
    "test_features=test_tracks.drop(['valence'],axis=1)\n"
   ]
  },
  {
   "cell_type": "markdown",
   "id": "variable-olympus",
   "metadata": {},
   "source": [
    "- MAE:"
   ]
  },
  {
   "cell_type": "markdown",
   "id": "younger-casting",
   "metadata": {},
   "source": [
    "#### XGBoost"
   ]
  },
  {
   "cell_type": "code",
   "execution_count": 512,
   "id": "fewer-donor",
   "metadata": {},
   "outputs": [
    {
     "name": "stdout",
     "output_type": "stream",
     "text": [
      "XGBoost Regressor Model\n",
      " \n",
      "Mean Absolute Error: 0.1403\n",
      "\n"
     ]
    }
   ],
   "source": [
    "y_pred = xgb_reg.predict(test_features)\n",
    "\n",
    "mae_xgb_final= round(mean_absolute_error(test_tracks['valence'], y_pred),4)\n",
    "print('XGBoost Regressor Model')\n",
    "print( \" \\nMean Absolute Error:\", \"{:.4f}\\n\".format(mae_xgb_final))\n"
   ]
  },
  {
   "cell_type": "markdown",
   "id": "ambient-designer",
   "metadata": {},
   "source": [
    "#### Random_forest"
   ]
  },
  {
   "cell_type": "code",
   "execution_count": 513,
   "id": "matched-sister",
   "metadata": {},
   "outputs": [
    {
     "name": "stdout",
     "output_type": "stream",
     "text": [
      "random_forest\n",
      " \n",
      "Mean Absolute Error: 0.1442\n",
      "\n"
     ]
    }
   ],
   "source": [
    "y_pred = random_forest.predict(test_features)\n",
    "\n",
    "mae_RF_FINAL = round(mean_absolute_error(test_tracks['valence'], y_pred),4)\n",
    "print('random_forest')\n",
    "print( \" \\nMean Absolute Error:\", \"{:.4f}\\n\".format(mae_RF_FINAL))\n"
   ]
  },
  {
   "cell_type": "markdown",
   "id": "incomplete-swift",
   "metadata": {},
   "source": [
    "####  Decision Tree"
   ]
  },
  {
   "cell_type": "code",
   "execution_count": 514,
   "id": "continuing-nomination",
   "metadata": {},
   "outputs": [
    {
     "name": "stdout",
     "output_type": "stream",
     "text": [
      "tree\n",
      " \n",
      "Mean Absolute Error: 0.1576\n",
      "\n"
     ]
    }
   ],
   "source": [
    "y_pred =tree.predict(test_features)\n",
    "\n",
    "mae_tree_FINAL = round(mean_absolute_error(test_tracks['valence'], y_pred),4)\n",
    "print('tree')\n",
    "print( \" \\nMean Absolute Error:\", \"{:.4f}\\n\".format(mae_tree_FINAL))\n"
   ]
  },
  {
   "cell_type": "markdown",
   "id": "union-concert",
   "metadata": {},
   "source": [
    "#### Extra Tree"
   ]
  },
  {
   "cell_type": "code",
   "execution_count": 321,
   "id": "large-westminster",
   "metadata": {},
   "outputs": [
    {
     "name": "stdout",
     "output_type": "stream",
     "text": [
      "extra-tree\n",
      " \n",
      "Mean Absolute Error: 0.1448\n",
      "\n"
     ]
    }
   ],
   "source": [
    "y_pred =extremely_rg.predict(test_features)\n",
    "\n",
    "mae_rg_FINAL = round(mean_absolute_error(test_tracks['valence'], y_pred),4)\n",
    "print('extra-tree')\n",
    "print( \" \\nMean Absolute Error:\", \"{:.4f}\\n\".format(mae_rg_FINAL))\n"
   ]
  },
  {
   "cell_type": "markdown",
   "id": "ecological-shell",
   "metadata": {},
   "source": [
    "#### CatBoost"
   ]
  },
  {
   "cell_type": "code",
   "execution_count": 322,
   "id": "powerful-liberal",
   "metadata": {},
   "outputs": [
    {
     "name": "stdout",
     "output_type": "stream",
     "text": [
      "cat\n",
      " \n",
      "Mean Absolute Error: 0.1397\n",
      "\n"
     ]
    }
   ],
   "source": [
    "y_pred =cb_reg.predict(test_features)\n",
    "\n",
    "mae_cat_FINAL = round(mean_absolute_error(test_tracks['valence'], y_pred),4)\n",
    "print('cat')\n",
    "print( \" \\nMean Absolute Error:\", \"{:.4f}\\n\".format(mae_cat_FINAL))\n"
   ]
  },
  {
   "cell_type": "code",
   "execution_count": 516,
   "id": "related-salvation",
   "metadata": {},
   "outputs": [],
   "source": [
    "scores = {'Model': ['CatBoost', 'XGBoost', 'Random_forest', 'Extra Tree','Decesion Tree'],\n",
    "            'Mean Absolute Error': [mae_cat_FINAL,mae_xgb_final,mae_RF_FINAL,mae_rg_FINAL,mae_tree_FINAL]} \n",
    "results = pd.DataFrame(scores)"
   ]
  },
  {
   "cell_type": "code",
   "execution_count": 517,
   "id": "successful-belief",
   "metadata": {},
   "outputs": [
    {
     "data": {
      "text/html": [
       "<style type=\"text/css\">\n",
       "</style>\n",
       "<table id=\"T_dd4ee_\">\n",
       "  <thead>\n",
       "    <tr>\n",
       "      <th class=\"col_heading level0 col0\" >Model</th>\n",
       "      <th class=\"col_heading level0 col1\" >Mean Absolute Error</th>\n",
       "    </tr>\n",
       "  </thead>\n",
       "  <tbody>\n",
       "    <tr>\n",
       "      <td id=\"T_dd4ee_row0_col0\" class=\"data row0 col0\" >CatBoost</td>\n",
       "      <td id=\"T_dd4ee_row0_col1\" class=\"data row0 col1\" >0.139700</td>\n",
       "    </tr>\n",
       "    <tr>\n",
       "      <td id=\"T_dd4ee_row1_col0\" class=\"data row1 col0\" >XGBoost</td>\n",
       "      <td id=\"T_dd4ee_row1_col1\" class=\"data row1 col1\" >0.140300</td>\n",
       "    </tr>\n",
       "    <tr>\n",
       "      <td id=\"T_dd4ee_row2_col0\" class=\"data row2 col0\" >Random_forest</td>\n",
       "      <td id=\"T_dd4ee_row2_col1\" class=\"data row2 col1\" >0.144200</td>\n",
       "    </tr>\n",
       "    <tr>\n",
       "      <td id=\"T_dd4ee_row3_col0\" class=\"data row3 col0\" >Extra Tree</td>\n",
       "      <td id=\"T_dd4ee_row3_col1\" class=\"data row3 col1\" >0.144800</td>\n",
       "    </tr>\n",
       "    <tr>\n",
       "      <td id=\"T_dd4ee_row4_col0\" class=\"data row4 col0\" >Decesion Tree</td>\n",
       "      <td id=\"T_dd4ee_row4_col1\" class=\"data row4 col1\" >0.157600</td>\n",
       "    </tr>\n",
       "  </tbody>\n",
       "</table>\n"
      ],
      "text/plain": [
       "<pandas.io.formats.style.Styler at 0x7fc7a185d4c0>"
      ]
     },
     "execution_count": 517,
     "metadata": {},
     "output_type": "execute_result"
    }
   ],
   "source": [
    "results.style.hide_index()"
   ]
  },
  {
   "cell_type": "markdown",
   "id": "skilled-catholic",
   "metadata": {},
   "source": [
    "The best model giving the lowest MAE is **CatBoost** Model with **0.1397** (MAE)"
   ]
  },
  {
   "cell_type": "code",
   "execution_count": null,
   "id": "continuing-stamp",
   "metadata": {},
   "outputs": [],
   "source": []
  }
 ],
 "metadata": {
  "kernelspec": {
   "display_name": "Python 3.9.7 64-bit",
   "language": "python",
   "name": "python397jvsc74a57bd0aee8b7b246df8f9039afb4144a1f6fd8d2ca17a180786b69acc140d282b71a49"
  },
  "language_info": {
   "codemirror_mode": {
    "name": "ipython",
    "version": 3
   },
   "file_extension": ".py",
   "mimetype": "text/x-python",
   "name": "python",
   "nbconvert_exporter": "python",
   "pygments_lexer": "ipython3",
   "version": "3.9.7"
  }
 },
 "nbformat": 4,
 "nbformat_minor": 5
}
